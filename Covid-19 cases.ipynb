{
 "cells": [
  {
   "cell_type": "code",
   "execution_count": null,
   "id": "4f080615",
   "metadata": {
    "scrolled": true
   },
   "outputs": [],
   "source": [
    "!pip install pandas matplotlib numpy"
   ]
  },
  {
   "cell_type": "code",
   "execution_count": 1,
   "id": "8ae69c53",
   "metadata": {},
   "outputs": [],
   "source": [
    "import pandas as pd                   \n",
    "import numpy as np "
   ]
  },
  {
   "cell_type": "code",
   "execution_count": 2,
   "id": "39fc906e",
   "metadata": {
    "scrolled": false
   },
   "outputs": [
    {
     "name": "stderr",
     "output_type": "stream",
     "text": [
      "C:\\Users\\Ikmee U-daidee\\anaconda3\\lib\\site-packages\\IPython\\core\\interactiveshell.py:3444: DtypeWarning: Columns (4) have mixed types.Specify dtype option on import or set low_memory=False.\n",
      "  exec(code_obj, self.user_global_ns, self.user_ns)\n"
     ]
    },
    {
     "data": {
      "text/html": [
       "<div>\n",
       "<style scoped>\n",
       "    .dataframe tbody tr th:only-of-type {\n",
       "        vertical-align: middle;\n",
       "    }\n",
       "\n",
       "    .dataframe tbody tr th {\n",
       "        vertical-align: top;\n",
       "    }\n",
       "\n",
       "    .dataframe thead th {\n",
       "        text-align: right;\n",
       "    }\n",
       "</style>\n",
       "<table border=\"1\" class=\"dataframe\">\n",
       "  <thead>\n",
       "    <tr style=\"text-align: right;\">\n",
       "      <th></th>\n",
       "      <th>No.</th>\n",
       "      <th>announce_date</th>\n",
       "      <th>Notified date</th>\n",
       "      <th>sex</th>\n",
       "      <th>age</th>\n",
       "      <th>Unit</th>\n",
       "      <th>nationality</th>\n",
       "      <th>province_of_isolation</th>\n",
       "      <th>risk</th>\n",
       "      <th>province_of_onset</th>\n",
       "      <th>district_of_onset</th>\n",
       "    </tr>\n",
       "  </thead>\n",
       "  <tbody>\n",
       "    <tr>\n",
       "      <th>0</th>\n",
       "      <td>1</td>\n",
       "      <td>12/1/2020</td>\n",
       "      <td>NaN</td>\n",
       "      <td>หญิง</td>\n",
       "      <td>61.0</td>\n",
       "      <td>ปี</td>\n",
       "      <td>China</td>\n",
       "      <td>กรุงเทพมหานคร</td>\n",
       "      <td>คนต่างชาติเดินทางมาจากต่างประเทศ</td>\n",
       "      <td>กรุงเทพมหานคร</td>\n",
       "      <td>NaN</td>\n",
       "    </tr>\n",
       "    <tr>\n",
       "      <th>1</th>\n",
       "      <td>2</td>\n",
       "      <td>17/1/2020</td>\n",
       "      <td>NaN</td>\n",
       "      <td>หญิง</td>\n",
       "      <td>74.0</td>\n",
       "      <td>ปี</td>\n",
       "      <td>China</td>\n",
       "      <td>กรุงเทพมหานคร</td>\n",
       "      <td>คนต่างชาติเดินทางมาจากต่างประเทศ</td>\n",
       "      <td>กรุงเทพมหานคร</td>\n",
       "      <td>NaN</td>\n",
       "    </tr>\n",
       "    <tr>\n",
       "      <th>2</th>\n",
       "      <td>3</td>\n",
       "      <td>22/1/2020</td>\n",
       "      <td>NaN</td>\n",
       "      <td>หญิง</td>\n",
       "      <td>73.0</td>\n",
       "      <td>ปี</td>\n",
       "      <td>Thailand</td>\n",
       "      <td>นครปฐม</td>\n",
       "      <td>คนต่างชาติเดินทางมาจากต่างประเทศ</td>\n",
       "      <td>นครปฐม</td>\n",
       "      <td>เมือง</td>\n",
       "    </tr>\n",
       "    <tr>\n",
       "      <th>3</th>\n",
       "      <td>4</td>\n",
       "      <td>22/1/2020</td>\n",
       "      <td>NaN</td>\n",
       "      <td>ชาย</td>\n",
       "      <td>68.0</td>\n",
       "      <td>ปี</td>\n",
       "      <td>China</td>\n",
       "      <td>กรุงเทพมหานคร</td>\n",
       "      <td>คนต่างชาติเดินทางมาจากต่างประเทศ</td>\n",
       "      <td>กรุงเทพมหานคร</td>\n",
       "      <td>NaN</td>\n",
       "    </tr>\n",
       "    <tr>\n",
       "      <th>4</th>\n",
       "      <td>5</td>\n",
       "      <td>24/1/2020</td>\n",
       "      <td>NaN</td>\n",
       "      <td>หญิง</td>\n",
       "      <td>66.0</td>\n",
       "      <td>ปี</td>\n",
       "      <td>China</td>\n",
       "      <td>นนทบุรี</td>\n",
       "      <td>คนต่างชาติเดินทางมาจากต่างประเทศ</td>\n",
       "      <td>กรุงเทพมหานคร</td>\n",
       "      <td>NaN</td>\n",
       "    </tr>\n",
       "    <tr>\n",
       "      <th>...</th>\n",
       "      <td>...</td>\n",
       "      <td>...</td>\n",
       "      <td>...</td>\n",
       "      <td>...</td>\n",
       "      <td>...</td>\n",
       "      <td>...</td>\n",
       "      <td>...</td>\n",
       "      <td>...</td>\n",
       "      <td>...</td>\n",
       "      <td>...</td>\n",
       "      <td>...</td>\n",
       "    </tr>\n",
       "    <tr>\n",
       "      <th>839766</th>\n",
       "      <td>839767</td>\n",
       "      <td>12/8/2021</td>\n",
       "      <td>11/8/2021</td>\n",
       "      <td>ชาย</td>\n",
       "      <td>52.0</td>\n",
       "      <td>ปี</td>\n",
       "      <td>NaN</td>\n",
       "      <td>กาญจนบุรี</td>\n",
       "      <td>ทัณฑสถาน/เรือนจำ</td>\n",
       "      <td>กาญจนบุรี</td>\n",
       "      <td>NaN</td>\n",
       "    </tr>\n",
       "    <tr>\n",
       "      <th>839767</th>\n",
       "      <td>839768</td>\n",
       "      <td>12/8/2021</td>\n",
       "      <td>11/8/2021</td>\n",
       "      <td>ชาย</td>\n",
       "      <td>34.0</td>\n",
       "      <td>ปี</td>\n",
       "      <td>Thailand</td>\n",
       "      <td>กาญจนบุรี</td>\n",
       "      <td>ทัณฑสถาน/เรือนจำ</td>\n",
       "      <td>กาญจนบุรี</td>\n",
       "      <td>NaN</td>\n",
       "    </tr>\n",
       "    <tr>\n",
       "      <th>839768</th>\n",
       "      <td>839769</td>\n",
       "      <td>12/8/2021</td>\n",
       "      <td>11/8/2021</td>\n",
       "      <td>ชาย</td>\n",
       "      <td>31.0</td>\n",
       "      <td>ปี</td>\n",
       "      <td>Thailand</td>\n",
       "      <td>กาญจนบุรี</td>\n",
       "      <td>ทัณฑสถาน/เรือนจำ</td>\n",
       "      <td>กาญจนบุรี</td>\n",
       "      <td>NaN</td>\n",
       "    </tr>\n",
       "    <tr>\n",
       "      <th>839769</th>\n",
       "      <td>839770</td>\n",
       "      <td>12/8/2021</td>\n",
       "      <td>11/8/2021</td>\n",
       "      <td>ชาย</td>\n",
       "      <td>83.0</td>\n",
       "      <td>ปี</td>\n",
       "      <td>Thailand</td>\n",
       "      <td>กาญจนบุรี</td>\n",
       "      <td>ทัณฑสถาน/เรือนจำ</td>\n",
       "      <td>กาญจนบุรี</td>\n",
       "      <td>NaN</td>\n",
       "    </tr>\n",
       "    <tr>\n",
       "      <th>839770</th>\n",
       "      <td>839771</td>\n",
       "      <td>12/8/2021</td>\n",
       "      <td>11/8/2021</td>\n",
       "      <td>ชาย</td>\n",
       "      <td>47.0</td>\n",
       "      <td>ปี</td>\n",
       "      <td>Thailand</td>\n",
       "      <td>กาญจนบุรี</td>\n",
       "      <td>ทัณฑสถาน/เรือนจำ</td>\n",
       "      <td>กาญจนบุรี</td>\n",
       "      <td>NaN</td>\n",
       "    </tr>\n",
       "  </tbody>\n",
       "</table>\n",
       "<p>839771 rows × 11 columns</p>\n",
       "</div>"
      ],
      "text/plain": [
       "           No. announce_date Notified date   sex   age Unit nationality  \\\n",
       "0            1     12/1/2020           NaN  หญิง  61.0   ปี       China   \n",
       "1            2     17/1/2020           NaN  หญิง  74.0   ปี       China   \n",
       "2            3     22/1/2020           NaN  หญิง  73.0   ปี    Thailand   \n",
       "3            4     22/1/2020           NaN   ชาย  68.0   ปี       China   \n",
       "4            5     24/1/2020           NaN  หญิง  66.0   ปี       China   \n",
       "...        ...           ...           ...   ...   ...  ...         ...   \n",
       "839766  839767     12/8/2021     11/8/2021   ชาย  52.0   ปี         NaN   \n",
       "839767  839768     12/8/2021     11/8/2021   ชาย  34.0   ปี    Thailand   \n",
       "839768  839769     12/8/2021     11/8/2021   ชาย  31.0   ปี    Thailand   \n",
       "839769  839770     12/8/2021     11/8/2021   ชาย  83.0   ปี    Thailand   \n",
       "839770  839771     12/8/2021     11/8/2021   ชาย  47.0   ปี    Thailand   \n",
       "\n",
       "       province_of_isolation                              risk  \\\n",
       "0              กรุงเทพมหานคร  คนต่างชาติเดินทางมาจากต่างประเทศ   \n",
       "1              กรุงเทพมหานคร  คนต่างชาติเดินทางมาจากต่างประเทศ   \n",
       "2                     นครปฐม  คนต่างชาติเดินทางมาจากต่างประเทศ   \n",
       "3              กรุงเทพมหานคร  คนต่างชาติเดินทางมาจากต่างประเทศ   \n",
       "4                    นนทบุรี  คนต่างชาติเดินทางมาจากต่างประเทศ   \n",
       "...                      ...                               ...   \n",
       "839766             กาญจนบุรี                  ทัณฑสถาน/เรือนจำ   \n",
       "839767             กาญจนบุรี                  ทัณฑสถาน/เรือนจำ   \n",
       "839768             กาญจนบุรี                  ทัณฑสถาน/เรือนจำ   \n",
       "839769             กาญจนบุรี                  ทัณฑสถาน/เรือนจำ   \n",
       "839770             กาญจนบุรี                  ทัณฑสถาน/เรือนจำ   \n",
       "\n",
       "       province_of_onset district_of_onset  \n",
       "0          กรุงเทพมหานคร               NaN  \n",
       "1          กรุงเทพมหานคร               NaN  \n",
       "2                 นครปฐม             เมือง  \n",
       "3          กรุงเทพมหานคร               NaN  \n",
       "4          กรุงเทพมหานคร               NaN  \n",
       "...                  ...               ...  \n",
       "839766         กาญจนบุรี               NaN  \n",
       "839767         กาญจนบุรี               NaN  \n",
       "839768         กาญจนบุรี               NaN  \n",
       "839769         กาญจนบุรี               NaN  \n",
       "839770         กาญจนบุรี               NaN  \n",
       "\n",
       "[839771 rows x 11 columns]"
      ]
     },
     "execution_count": 2,
     "metadata": {},
     "output_type": "execute_result"
    }
   ],
   "source": [
    "df = pd.read_csv('D:/Data/confirm-case.csv')\n",
    "df"
   ]
  },
  {
   "cell_type": "code",
   "execution_count": 3,
   "id": "7da29efb",
   "metadata": {},
   "outputs": [
    {
     "data": {
      "text/html": [
       "<div>\n",
       "<style scoped>\n",
       "    .dataframe tbody tr th:only-of-type {\n",
       "        vertical-align: middle;\n",
       "    }\n",
       "\n",
       "    .dataframe tbody tr th {\n",
       "        vertical-align: top;\n",
       "    }\n",
       "\n",
       "    .dataframe thead th {\n",
       "        text-align: right;\n",
       "    }\n",
       "</style>\n",
       "<table border=\"1\" class=\"dataframe\">\n",
       "  <thead>\n",
       "    <tr style=\"text-align: right;\">\n",
       "      <th></th>\n",
       "      <th>announce_date</th>\n",
       "      <th>Notified date</th>\n",
       "      <th>sex</th>\n",
       "      <th>age</th>\n",
       "      <th>Unit</th>\n",
       "      <th>nationality</th>\n",
       "      <th>province_of_isolation</th>\n",
       "      <th>risk</th>\n",
       "      <th>province_of_onset</th>\n",
       "      <th>district_of_onset</th>\n",
       "    </tr>\n",
       "  </thead>\n",
       "  <tbody>\n",
       "    <tr>\n",
       "      <th>0</th>\n",
       "      <td>12/1/2020</td>\n",
       "      <td>NaN</td>\n",
       "      <td>หญิง</td>\n",
       "      <td>61.0</td>\n",
       "      <td>ปี</td>\n",
       "      <td>China</td>\n",
       "      <td>กรุงเทพมหานคร</td>\n",
       "      <td>คนต่างชาติเดินทางมาจากต่างประเทศ</td>\n",
       "      <td>กรุงเทพมหานคร</td>\n",
       "      <td>NaN</td>\n",
       "    </tr>\n",
       "    <tr>\n",
       "      <th>1</th>\n",
       "      <td>17/1/2020</td>\n",
       "      <td>NaN</td>\n",
       "      <td>หญิง</td>\n",
       "      <td>74.0</td>\n",
       "      <td>ปี</td>\n",
       "      <td>China</td>\n",
       "      <td>กรุงเทพมหานคร</td>\n",
       "      <td>คนต่างชาติเดินทางมาจากต่างประเทศ</td>\n",
       "      <td>กรุงเทพมหานคร</td>\n",
       "      <td>NaN</td>\n",
       "    </tr>\n",
       "    <tr>\n",
       "      <th>2</th>\n",
       "      <td>22/1/2020</td>\n",
       "      <td>NaN</td>\n",
       "      <td>หญิง</td>\n",
       "      <td>73.0</td>\n",
       "      <td>ปี</td>\n",
       "      <td>Thailand</td>\n",
       "      <td>นครปฐม</td>\n",
       "      <td>คนต่างชาติเดินทางมาจากต่างประเทศ</td>\n",
       "      <td>นครปฐม</td>\n",
       "      <td>เมือง</td>\n",
       "    </tr>\n",
       "    <tr>\n",
       "      <th>3</th>\n",
       "      <td>22/1/2020</td>\n",
       "      <td>NaN</td>\n",
       "      <td>ชาย</td>\n",
       "      <td>68.0</td>\n",
       "      <td>ปี</td>\n",
       "      <td>China</td>\n",
       "      <td>กรุงเทพมหานคร</td>\n",
       "      <td>คนต่างชาติเดินทางมาจากต่างประเทศ</td>\n",
       "      <td>กรุงเทพมหานคร</td>\n",
       "      <td>NaN</td>\n",
       "    </tr>\n",
       "    <tr>\n",
       "      <th>4</th>\n",
       "      <td>24/1/2020</td>\n",
       "      <td>NaN</td>\n",
       "      <td>หญิง</td>\n",
       "      <td>66.0</td>\n",
       "      <td>ปี</td>\n",
       "      <td>China</td>\n",
       "      <td>นนทบุรี</td>\n",
       "      <td>คนต่างชาติเดินทางมาจากต่างประเทศ</td>\n",
       "      <td>กรุงเทพมหานคร</td>\n",
       "      <td>NaN</td>\n",
       "    </tr>\n",
       "    <tr>\n",
       "      <th>...</th>\n",
       "      <td>...</td>\n",
       "      <td>...</td>\n",
       "      <td>...</td>\n",
       "      <td>...</td>\n",
       "      <td>...</td>\n",
       "      <td>...</td>\n",
       "      <td>...</td>\n",
       "      <td>...</td>\n",
       "      <td>...</td>\n",
       "      <td>...</td>\n",
       "    </tr>\n",
       "    <tr>\n",
       "      <th>839766</th>\n",
       "      <td>12/8/2021</td>\n",
       "      <td>11/8/2021</td>\n",
       "      <td>ชาย</td>\n",
       "      <td>52.0</td>\n",
       "      <td>ปี</td>\n",
       "      <td>NaN</td>\n",
       "      <td>กาญจนบุรี</td>\n",
       "      <td>ทัณฑสถาน/เรือนจำ</td>\n",
       "      <td>กาญจนบุรี</td>\n",
       "      <td>NaN</td>\n",
       "    </tr>\n",
       "    <tr>\n",
       "      <th>839767</th>\n",
       "      <td>12/8/2021</td>\n",
       "      <td>11/8/2021</td>\n",
       "      <td>ชาย</td>\n",
       "      <td>34.0</td>\n",
       "      <td>ปี</td>\n",
       "      <td>Thailand</td>\n",
       "      <td>กาญจนบุรี</td>\n",
       "      <td>ทัณฑสถาน/เรือนจำ</td>\n",
       "      <td>กาญจนบุรี</td>\n",
       "      <td>NaN</td>\n",
       "    </tr>\n",
       "    <tr>\n",
       "      <th>839768</th>\n",
       "      <td>12/8/2021</td>\n",
       "      <td>11/8/2021</td>\n",
       "      <td>ชาย</td>\n",
       "      <td>31.0</td>\n",
       "      <td>ปี</td>\n",
       "      <td>Thailand</td>\n",
       "      <td>กาญจนบุรี</td>\n",
       "      <td>ทัณฑสถาน/เรือนจำ</td>\n",
       "      <td>กาญจนบุรี</td>\n",
       "      <td>NaN</td>\n",
       "    </tr>\n",
       "    <tr>\n",
       "      <th>839769</th>\n",
       "      <td>12/8/2021</td>\n",
       "      <td>11/8/2021</td>\n",
       "      <td>ชาย</td>\n",
       "      <td>83.0</td>\n",
       "      <td>ปี</td>\n",
       "      <td>Thailand</td>\n",
       "      <td>กาญจนบุรี</td>\n",
       "      <td>ทัณฑสถาน/เรือนจำ</td>\n",
       "      <td>กาญจนบุรี</td>\n",
       "      <td>NaN</td>\n",
       "    </tr>\n",
       "    <tr>\n",
       "      <th>839770</th>\n",
       "      <td>12/8/2021</td>\n",
       "      <td>11/8/2021</td>\n",
       "      <td>ชาย</td>\n",
       "      <td>47.0</td>\n",
       "      <td>ปี</td>\n",
       "      <td>Thailand</td>\n",
       "      <td>กาญจนบุรี</td>\n",
       "      <td>ทัณฑสถาน/เรือนจำ</td>\n",
       "      <td>กาญจนบุรี</td>\n",
       "      <td>NaN</td>\n",
       "    </tr>\n",
       "  </tbody>\n",
       "</table>\n",
       "<p>839771 rows × 10 columns</p>\n",
       "</div>"
      ],
      "text/plain": [
       "       announce_date Notified date   sex   age Unit nationality  \\\n",
       "0          12/1/2020           NaN  หญิง  61.0   ปี       China   \n",
       "1          17/1/2020           NaN  หญิง  74.0   ปี       China   \n",
       "2          22/1/2020           NaN  หญิง  73.0   ปี    Thailand   \n",
       "3          22/1/2020           NaN   ชาย  68.0   ปี       China   \n",
       "4          24/1/2020           NaN  หญิง  66.0   ปี       China   \n",
       "...              ...           ...   ...   ...  ...         ...   \n",
       "839766     12/8/2021     11/8/2021   ชาย  52.0   ปี         NaN   \n",
       "839767     12/8/2021     11/8/2021   ชาย  34.0   ปี    Thailand   \n",
       "839768     12/8/2021     11/8/2021   ชาย  31.0   ปี    Thailand   \n",
       "839769     12/8/2021     11/8/2021   ชาย  83.0   ปี    Thailand   \n",
       "839770     12/8/2021     11/8/2021   ชาย  47.0   ปี    Thailand   \n",
       "\n",
       "       province_of_isolation                              risk  \\\n",
       "0              กรุงเทพมหานคร  คนต่างชาติเดินทางมาจากต่างประเทศ   \n",
       "1              กรุงเทพมหานคร  คนต่างชาติเดินทางมาจากต่างประเทศ   \n",
       "2                     นครปฐม  คนต่างชาติเดินทางมาจากต่างประเทศ   \n",
       "3              กรุงเทพมหานคร  คนต่างชาติเดินทางมาจากต่างประเทศ   \n",
       "4                    นนทบุรี  คนต่างชาติเดินทางมาจากต่างประเทศ   \n",
       "...                      ...                               ...   \n",
       "839766             กาญจนบุรี                  ทัณฑสถาน/เรือนจำ   \n",
       "839767             กาญจนบุรี                  ทัณฑสถาน/เรือนจำ   \n",
       "839768             กาญจนบุรี                  ทัณฑสถาน/เรือนจำ   \n",
       "839769             กาญจนบุรี                  ทัณฑสถาน/เรือนจำ   \n",
       "839770             กาญจนบุรี                  ทัณฑสถาน/เรือนจำ   \n",
       "\n",
       "       province_of_onset district_of_onset  \n",
       "0          กรุงเทพมหานคร               NaN  \n",
       "1          กรุงเทพมหานคร               NaN  \n",
       "2                 นครปฐม             เมือง  \n",
       "3          กรุงเทพมหานคร               NaN  \n",
       "4          กรุงเทพมหานคร               NaN  \n",
       "...                  ...               ...  \n",
       "839766         กาญจนบุรี               NaN  \n",
       "839767         กาญจนบุรี               NaN  \n",
       "839768         กาญจนบุรี               NaN  \n",
       "839769         กาญจนบุรี               NaN  \n",
       "839770         กาญจนบุรี               NaN  \n",
       "\n",
       "[839771 rows x 10 columns]"
      ]
     },
     "execution_count": 3,
     "metadata": {},
     "output_type": "execute_result"
    }
   ],
   "source": [
    "df.drop(\"No.\", axis = 1, inplace = True)\n",
    "df"
   ]
  },
  {
   "cell_type": "code",
   "execution_count": 4,
   "id": "e3ffbbf9",
   "metadata": {},
   "outputs": [
    {
     "data": {
      "text/html": [
       "<div>\n",
       "<style scoped>\n",
       "    .dataframe tbody tr th:only-of-type {\n",
       "        vertical-align: middle;\n",
       "    }\n",
       "\n",
       "    .dataframe tbody tr th {\n",
       "        vertical-align: top;\n",
       "    }\n",
       "\n",
       "    .dataframe thead th {\n",
       "        text-align: right;\n",
       "    }\n",
       "</style>\n",
       "<table border=\"1\" class=\"dataframe\">\n",
       "  <thead>\n",
       "    <tr style=\"text-align: right;\">\n",
       "      <th></th>\n",
       "      <th>announce_date</th>\n",
       "      <th>sex</th>\n",
       "      <th>age</th>\n",
       "      <th>Unit</th>\n",
       "      <th>nationality</th>\n",
       "      <th>province_of_isolation</th>\n",
       "      <th>risk</th>\n",
       "      <th>province_of_onset</th>\n",
       "      <th>district_of_onset</th>\n",
       "    </tr>\n",
       "  </thead>\n",
       "  <tbody>\n",
       "    <tr>\n",
       "      <th>0</th>\n",
       "      <td>12/1/2020</td>\n",
       "      <td>หญิง</td>\n",
       "      <td>61.0</td>\n",
       "      <td>ปี</td>\n",
       "      <td>China</td>\n",
       "      <td>กรุงเทพมหานคร</td>\n",
       "      <td>คนต่างชาติเดินทางมาจากต่างประเทศ</td>\n",
       "      <td>กรุงเทพมหานคร</td>\n",
       "      <td>NaN</td>\n",
       "    </tr>\n",
       "    <tr>\n",
       "      <th>1</th>\n",
       "      <td>17/1/2020</td>\n",
       "      <td>หญิง</td>\n",
       "      <td>74.0</td>\n",
       "      <td>ปี</td>\n",
       "      <td>China</td>\n",
       "      <td>กรุงเทพมหานคร</td>\n",
       "      <td>คนต่างชาติเดินทางมาจากต่างประเทศ</td>\n",
       "      <td>กรุงเทพมหานคร</td>\n",
       "      <td>NaN</td>\n",
       "    </tr>\n",
       "    <tr>\n",
       "      <th>2</th>\n",
       "      <td>22/1/2020</td>\n",
       "      <td>หญิง</td>\n",
       "      <td>73.0</td>\n",
       "      <td>ปี</td>\n",
       "      <td>Thailand</td>\n",
       "      <td>นครปฐม</td>\n",
       "      <td>คนต่างชาติเดินทางมาจากต่างประเทศ</td>\n",
       "      <td>นครปฐม</td>\n",
       "      <td>เมือง</td>\n",
       "    </tr>\n",
       "    <tr>\n",
       "      <th>3</th>\n",
       "      <td>22/1/2020</td>\n",
       "      <td>ชาย</td>\n",
       "      <td>68.0</td>\n",
       "      <td>ปี</td>\n",
       "      <td>China</td>\n",
       "      <td>กรุงเทพมหานคร</td>\n",
       "      <td>คนต่างชาติเดินทางมาจากต่างประเทศ</td>\n",
       "      <td>กรุงเทพมหานคร</td>\n",
       "      <td>NaN</td>\n",
       "    </tr>\n",
       "    <tr>\n",
       "      <th>4</th>\n",
       "      <td>24/1/2020</td>\n",
       "      <td>หญิง</td>\n",
       "      <td>66.0</td>\n",
       "      <td>ปี</td>\n",
       "      <td>China</td>\n",
       "      <td>นนทบุรี</td>\n",
       "      <td>คนต่างชาติเดินทางมาจากต่างประเทศ</td>\n",
       "      <td>กรุงเทพมหานคร</td>\n",
       "      <td>NaN</td>\n",
       "    </tr>\n",
       "    <tr>\n",
       "      <th>...</th>\n",
       "      <td>...</td>\n",
       "      <td>...</td>\n",
       "      <td>...</td>\n",
       "      <td>...</td>\n",
       "      <td>...</td>\n",
       "      <td>...</td>\n",
       "      <td>...</td>\n",
       "      <td>...</td>\n",
       "      <td>...</td>\n",
       "    </tr>\n",
       "    <tr>\n",
       "      <th>839766</th>\n",
       "      <td>12/8/2021</td>\n",
       "      <td>ชาย</td>\n",
       "      <td>52.0</td>\n",
       "      <td>ปี</td>\n",
       "      <td>NaN</td>\n",
       "      <td>กาญจนบุรี</td>\n",
       "      <td>ทัณฑสถาน/เรือนจำ</td>\n",
       "      <td>กาญจนบุรี</td>\n",
       "      <td>NaN</td>\n",
       "    </tr>\n",
       "    <tr>\n",
       "      <th>839767</th>\n",
       "      <td>12/8/2021</td>\n",
       "      <td>ชาย</td>\n",
       "      <td>34.0</td>\n",
       "      <td>ปี</td>\n",
       "      <td>Thailand</td>\n",
       "      <td>กาญจนบุรี</td>\n",
       "      <td>ทัณฑสถาน/เรือนจำ</td>\n",
       "      <td>กาญจนบุรี</td>\n",
       "      <td>NaN</td>\n",
       "    </tr>\n",
       "    <tr>\n",
       "      <th>839768</th>\n",
       "      <td>12/8/2021</td>\n",
       "      <td>ชาย</td>\n",
       "      <td>31.0</td>\n",
       "      <td>ปี</td>\n",
       "      <td>Thailand</td>\n",
       "      <td>กาญจนบุรี</td>\n",
       "      <td>ทัณฑสถาน/เรือนจำ</td>\n",
       "      <td>กาญจนบุรี</td>\n",
       "      <td>NaN</td>\n",
       "    </tr>\n",
       "    <tr>\n",
       "      <th>839769</th>\n",
       "      <td>12/8/2021</td>\n",
       "      <td>ชาย</td>\n",
       "      <td>83.0</td>\n",
       "      <td>ปี</td>\n",
       "      <td>Thailand</td>\n",
       "      <td>กาญจนบุรี</td>\n",
       "      <td>ทัณฑสถาน/เรือนจำ</td>\n",
       "      <td>กาญจนบุรี</td>\n",
       "      <td>NaN</td>\n",
       "    </tr>\n",
       "    <tr>\n",
       "      <th>839770</th>\n",
       "      <td>12/8/2021</td>\n",
       "      <td>ชาย</td>\n",
       "      <td>47.0</td>\n",
       "      <td>ปี</td>\n",
       "      <td>Thailand</td>\n",
       "      <td>กาญจนบุรี</td>\n",
       "      <td>ทัณฑสถาน/เรือนจำ</td>\n",
       "      <td>กาญจนบุรี</td>\n",
       "      <td>NaN</td>\n",
       "    </tr>\n",
       "  </tbody>\n",
       "</table>\n",
       "<p>839771 rows × 9 columns</p>\n",
       "</div>"
      ],
      "text/plain": [
       "       announce_date   sex   age Unit nationality province_of_isolation  \\\n",
       "0          12/1/2020  หญิง  61.0   ปี       China         กรุงเทพมหานคร   \n",
       "1          17/1/2020  หญิง  74.0   ปี       China         กรุงเทพมหานคร   \n",
       "2          22/1/2020  หญิง  73.0   ปี    Thailand                นครปฐม   \n",
       "3          22/1/2020   ชาย  68.0   ปี       China         กรุงเทพมหานคร   \n",
       "4          24/1/2020  หญิง  66.0   ปี       China               นนทบุรี   \n",
       "...              ...   ...   ...  ...         ...                   ...   \n",
       "839766     12/8/2021   ชาย  52.0   ปี         NaN             กาญจนบุรี   \n",
       "839767     12/8/2021   ชาย  34.0   ปี    Thailand             กาญจนบุรี   \n",
       "839768     12/8/2021   ชาย  31.0   ปี    Thailand             กาญจนบุรี   \n",
       "839769     12/8/2021   ชาย  83.0   ปี    Thailand             กาญจนบุรี   \n",
       "839770     12/8/2021   ชาย  47.0   ปี    Thailand             กาญจนบุรี   \n",
       "\n",
       "                                    risk province_of_onset district_of_onset  \n",
       "0       คนต่างชาติเดินทางมาจากต่างประเทศ     กรุงเทพมหานคร               NaN  \n",
       "1       คนต่างชาติเดินทางมาจากต่างประเทศ     กรุงเทพมหานคร               NaN  \n",
       "2       คนต่างชาติเดินทางมาจากต่างประเทศ            นครปฐม             เมือง  \n",
       "3       คนต่างชาติเดินทางมาจากต่างประเทศ     กรุงเทพมหานคร               NaN  \n",
       "4       คนต่างชาติเดินทางมาจากต่างประเทศ     กรุงเทพมหานคร               NaN  \n",
       "...                                  ...               ...               ...  \n",
       "839766                  ทัณฑสถาน/เรือนจำ         กาญจนบุรี               NaN  \n",
       "839767                  ทัณฑสถาน/เรือนจำ         กาญจนบุรี               NaN  \n",
       "839768                  ทัณฑสถาน/เรือนจำ         กาญจนบุรี               NaN  \n",
       "839769                  ทัณฑสถาน/เรือนจำ         กาญจนบุรี               NaN  \n",
       "839770                  ทัณฑสถาน/เรือนจำ         กาญจนบุรี               NaN  \n",
       "\n",
       "[839771 rows x 9 columns]"
      ]
     },
     "execution_count": 4,
     "metadata": {},
     "output_type": "execute_result"
    }
   ],
   "source": [
    "df.drop(\"Notified date\", axis = 1, inplace = True)\n",
    "df"
   ]
  },
  {
   "cell_type": "code",
   "execution_count": 5,
   "id": "f520e3ce",
   "metadata": {},
   "outputs": [
    {
     "data": {
      "text/html": [
       "<div>\n",
       "<style scoped>\n",
       "    .dataframe tbody tr th:only-of-type {\n",
       "        vertical-align: middle;\n",
       "    }\n",
       "\n",
       "    .dataframe tbody tr th {\n",
       "        vertical-align: top;\n",
       "    }\n",
       "\n",
       "    .dataframe thead th {\n",
       "        text-align: right;\n",
       "    }\n",
       "</style>\n",
       "<table border=\"1\" class=\"dataframe\">\n",
       "  <thead>\n",
       "    <tr style=\"text-align: right;\">\n",
       "      <th></th>\n",
       "      <th>announce_date</th>\n",
       "      <th>sex</th>\n",
       "      <th>age</th>\n",
       "      <th>nationality</th>\n",
       "      <th>province_of_isolation</th>\n",
       "      <th>risk</th>\n",
       "      <th>province_of_onset</th>\n",
       "      <th>district_of_onset</th>\n",
       "    </tr>\n",
       "  </thead>\n",
       "  <tbody>\n",
       "    <tr>\n",
       "      <th>0</th>\n",
       "      <td>12/1/2020</td>\n",
       "      <td>หญิง</td>\n",
       "      <td>61.0</td>\n",
       "      <td>China</td>\n",
       "      <td>กรุงเทพมหานคร</td>\n",
       "      <td>คนต่างชาติเดินทางมาจากต่างประเทศ</td>\n",
       "      <td>กรุงเทพมหานคร</td>\n",
       "      <td>NaN</td>\n",
       "    </tr>\n",
       "    <tr>\n",
       "      <th>1</th>\n",
       "      <td>17/1/2020</td>\n",
       "      <td>หญิง</td>\n",
       "      <td>74.0</td>\n",
       "      <td>China</td>\n",
       "      <td>กรุงเทพมหานคร</td>\n",
       "      <td>คนต่างชาติเดินทางมาจากต่างประเทศ</td>\n",
       "      <td>กรุงเทพมหานคร</td>\n",
       "      <td>NaN</td>\n",
       "    </tr>\n",
       "    <tr>\n",
       "      <th>2</th>\n",
       "      <td>22/1/2020</td>\n",
       "      <td>หญิง</td>\n",
       "      <td>73.0</td>\n",
       "      <td>Thailand</td>\n",
       "      <td>นครปฐม</td>\n",
       "      <td>คนต่างชาติเดินทางมาจากต่างประเทศ</td>\n",
       "      <td>นครปฐม</td>\n",
       "      <td>เมือง</td>\n",
       "    </tr>\n",
       "    <tr>\n",
       "      <th>3</th>\n",
       "      <td>22/1/2020</td>\n",
       "      <td>ชาย</td>\n",
       "      <td>68.0</td>\n",
       "      <td>China</td>\n",
       "      <td>กรุงเทพมหานคร</td>\n",
       "      <td>คนต่างชาติเดินทางมาจากต่างประเทศ</td>\n",
       "      <td>กรุงเทพมหานคร</td>\n",
       "      <td>NaN</td>\n",
       "    </tr>\n",
       "    <tr>\n",
       "      <th>4</th>\n",
       "      <td>24/1/2020</td>\n",
       "      <td>หญิง</td>\n",
       "      <td>66.0</td>\n",
       "      <td>China</td>\n",
       "      <td>นนทบุรี</td>\n",
       "      <td>คนต่างชาติเดินทางมาจากต่างประเทศ</td>\n",
       "      <td>กรุงเทพมหานคร</td>\n",
       "      <td>NaN</td>\n",
       "    </tr>\n",
       "    <tr>\n",
       "      <th>...</th>\n",
       "      <td>...</td>\n",
       "      <td>...</td>\n",
       "      <td>...</td>\n",
       "      <td>...</td>\n",
       "      <td>...</td>\n",
       "      <td>...</td>\n",
       "      <td>...</td>\n",
       "      <td>...</td>\n",
       "    </tr>\n",
       "    <tr>\n",
       "      <th>839766</th>\n",
       "      <td>12/8/2021</td>\n",
       "      <td>ชาย</td>\n",
       "      <td>52.0</td>\n",
       "      <td>NaN</td>\n",
       "      <td>กาญจนบุรี</td>\n",
       "      <td>ทัณฑสถาน/เรือนจำ</td>\n",
       "      <td>กาญจนบุรี</td>\n",
       "      <td>NaN</td>\n",
       "    </tr>\n",
       "    <tr>\n",
       "      <th>839767</th>\n",
       "      <td>12/8/2021</td>\n",
       "      <td>ชาย</td>\n",
       "      <td>34.0</td>\n",
       "      <td>Thailand</td>\n",
       "      <td>กาญจนบุรี</td>\n",
       "      <td>ทัณฑสถาน/เรือนจำ</td>\n",
       "      <td>กาญจนบุรี</td>\n",
       "      <td>NaN</td>\n",
       "    </tr>\n",
       "    <tr>\n",
       "      <th>839768</th>\n",
       "      <td>12/8/2021</td>\n",
       "      <td>ชาย</td>\n",
       "      <td>31.0</td>\n",
       "      <td>Thailand</td>\n",
       "      <td>กาญจนบุรี</td>\n",
       "      <td>ทัณฑสถาน/เรือนจำ</td>\n",
       "      <td>กาญจนบุรี</td>\n",
       "      <td>NaN</td>\n",
       "    </tr>\n",
       "    <tr>\n",
       "      <th>839769</th>\n",
       "      <td>12/8/2021</td>\n",
       "      <td>ชาย</td>\n",
       "      <td>83.0</td>\n",
       "      <td>Thailand</td>\n",
       "      <td>กาญจนบุรี</td>\n",
       "      <td>ทัณฑสถาน/เรือนจำ</td>\n",
       "      <td>กาญจนบุรี</td>\n",
       "      <td>NaN</td>\n",
       "    </tr>\n",
       "    <tr>\n",
       "      <th>839770</th>\n",
       "      <td>12/8/2021</td>\n",
       "      <td>ชาย</td>\n",
       "      <td>47.0</td>\n",
       "      <td>Thailand</td>\n",
       "      <td>กาญจนบุรี</td>\n",
       "      <td>ทัณฑสถาน/เรือนจำ</td>\n",
       "      <td>กาญจนบุรี</td>\n",
       "      <td>NaN</td>\n",
       "    </tr>\n",
       "  </tbody>\n",
       "</table>\n",
       "<p>839771 rows × 8 columns</p>\n",
       "</div>"
      ],
      "text/plain": [
       "       announce_date   sex   age nationality province_of_isolation  \\\n",
       "0          12/1/2020  หญิง  61.0       China         กรุงเทพมหานคร   \n",
       "1          17/1/2020  หญิง  74.0       China         กรุงเทพมหานคร   \n",
       "2          22/1/2020  หญิง  73.0    Thailand                นครปฐม   \n",
       "3          22/1/2020   ชาย  68.0       China         กรุงเทพมหานคร   \n",
       "4          24/1/2020  หญิง  66.0       China               นนทบุรี   \n",
       "...              ...   ...   ...         ...                   ...   \n",
       "839766     12/8/2021   ชาย  52.0         NaN             กาญจนบุรี   \n",
       "839767     12/8/2021   ชาย  34.0    Thailand             กาญจนบุรี   \n",
       "839768     12/8/2021   ชาย  31.0    Thailand             กาญจนบุรี   \n",
       "839769     12/8/2021   ชาย  83.0    Thailand             กาญจนบุรี   \n",
       "839770     12/8/2021   ชาย  47.0    Thailand             กาญจนบุรี   \n",
       "\n",
       "                                    risk province_of_onset district_of_onset  \n",
       "0       คนต่างชาติเดินทางมาจากต่างประเทศ     กรุงเทพมหานคร               NaN  \n",
       "1       คนต่างชาติเดินทางมาจากต่างประเทศ     กรุงเทพมหานคร               NaN  \n",
       "2       คนต่างชาติเดินทางมาจากต่างประเทศ            นครปฐม             เมือง  \n",
       "3       คนต่างชาติเดินทางมาจากต่างประเทศ     กรุงเทพมหานคร               NaN  \n",
       "4       คนต่างชาติเดินทางมาจากต่างประเทศ     กรุงเทพมหานคร               NaN  \n",
       "...                                  ...               ...               ...  \n",
       "839766                  ทัณฑสถาน/เรือนจำ         กาญจนบุรี               NaN  \n",
       "839767                  ทัณฑสถาน/เรือนจำ         กาญจนบุรี               NaN  \n",
       "839768                  ทัณฑสถาน/เรือนจำ         กาญจนบุรี               NaN  \n",
       "839769                  ทัณฑสถาน/เรือนจำ         กาญจนบุรี               NaN  \n",
       "839770                  ทัณฑสถาน/เรือนจำ         กาญจนบุรี               NaN  \n",
       "\n",
       "[839771 rows x 8 columns]"
      ]
     },
     "execution_count": 5,
     "metadata": {},
     "output_type": "execute_result"
    }
   ],
   "source": [
    "df.drop(\"Unit\", axis = 1, inplace = True)\n",
    "df"
   ]
  },
  {
   "cell_type": "code",
   "execution_count": 6,
   "id": "33bdc136",
   "metadata": {},
   "outputs": [
    {
     "data": {
      "text/html": [
       "<div>\n",
       "<style scoped>\n",
       "    .dataframe tbody tr th:only-of-type {\n",
       "        vertical-align: middle;\n",
       "    }\n",
       "\n",
       "    .dataframe tbody tr th {\n",
       "        vertical-align: top;\n",
       "    }\n",
       "\n",
       "    .dataframe thead th {\n",
       "        text-align: right;\n",
       "    }\n",
       "</style>\n",
       "<table border=\"1\" class=\"dataframe\">\n",
       "  <thead>\n",
       "    <tr style=\"text-align: right;\">\n",
       "      <th></th>\n",
       "      <th>announce_date</th>\n",
       "      <th>sex</th>\n",
       "      <th>age</th>\n",
       "      <th>nationality</th>\n",
       "      <th>province_of_isolation</th>\n",
       "      <th>risk</th>\n",
       "      <th>province_of_onset</th>\n",
       "    </tr>\n",
       "  </thead>\n",
       "  <tbody>\n",
       "    <tr>\n",
       "      <th>0</th>\n",
       "      <td>12/1/2020</td>\n",
       "      <td>หญิง</td>\n",
       "      <td>61.0</td>\n",
       "      <td>China</td>\n",
       "      <td>กรุงเทพมหานคร</td>\n",
       "      <td>คนต่างชาติเดินทางมาจากต่างประเทศ</td>\n",
       "      <td>กรุงเทพมหานคร</td>\n",
       "    </tr>\n",
       "    <tr>\n",
       "      <th>1</th>\n",
       "      <td>17/1/2020</td>\n",
       "      <td>หญิง</td>\n",
       "      <td>74.0</td>\n",
       "      <td>China</td>\n",
       "      <td>กรุงเทพมหานคร</td>\n",
       "      <td>คนต่างชาติเดินทางมาจากต่างประเทศ</td>\n",
       "      <td>กรุงเทพมหานคร</td>\n",
       "    </tr>\n",
       "    <tr>\n",
       "      <th>2</th>\n",
       "      <td>22/1/2020</td>\n",
       "      <td>หญิง</td>\n",
       "      <td>73.0</td>\n",
       "      <td>Thailand</td>\n",
       "      <td>นครปฐม</td>\n",
       "      <td>คนต่างชาติเดินทางมาจากต่างประเทศ</td>\n",
       "      <td>นครปฐม</td>\n",
       "    </tr>\n",
       "    <tr>\n",
       "      <th>3</th>\n",
       "      <td>22/1/2020</td>\n",
       "      <td>ชาย</td>\n",
       "      <td>68.0</td>\n",
       "      <td>China</td>\n",
       "      <td>กรุงเทพมหานคร</td>\n",
       "      <td>คนต่างชาติเดินทางมาจากต่างประเทศ</td>\n",
       "      <td>กรุงเทพมหานคร</td>\n",
       "    </tr>\n",
       "    <tr>\n",
       "      <th>4</th>\n",
       "      <td>24/1/2020</td>\n",
       "      <td>หญิง</td>\n",
       "      <td>66.0</td>\n",
       "      <td>China</td>\n",
       "      <td>นนทบุรี</td>\n",
       "      <td>คนต่างชาติเดินทางมาจากต่างประเทศ</td>\n",
       "      <td>กรุงเทพมหานคร</td>\n",
       "    </tr>\n",
       "    <tr>\n",
       "      <th>...</th>\n",
       "      <td>...</td>\n",
       "      <td>...</td>\n",
       "      <td>...</td>\n",
       "      <td>...</td>\n",
       "      <td>...</td>\n",
       "      <td>...</td>\n",
       "      <td>...</td>\n",
       "    </tr>\n",
       "    <tr>\n",
       "      <th>839766</th>\n",
       "      <td>12/8/2021</td>\n",
       "      <td>ชาย</td>\n",
       "      <td>52.0</td>\n",
       "      <td>NaN</td>\n",
       "      <td>กาญจนบุรี</td>\n",
       "      <td>ทัณฑสถาน/เรือนจำ</td>\n",
       "      <td>กาญจนบุรี</td>\n",
       "    </tr>\n",
       "    <tr>\n",
       "      <th>839767</th>\n",
       "      <td>12/8/2021</td>\n",
       "      <td>ชาย</td>\n",
       "      <td>34.0</td>\n",
       "      <td>Thailand</td>\n",
       "      <td>กาญจนบุรี</td>\n",
       "      <td>ทัณฑสถาน/เรือนจำ</td>\n",
       "      <td>กาญจนบุรี</td>\n",
       "    </tr>\n",
       "    <tr>\n",
       "      <th>839768</th>\n",
       "      <td>12/8/2021</td>\n",
       "      <td>ชาย</td>\n",
       "      <td>31.0</td>\n",
       "      <td>Thailand</td>\n",
       "      <td>กาญจนบุรี</td>\n",
       "      <td>ทัณฑสถาน/เรือนจำ</td>\n",
       "      <td>กาญจนบุรี</td>\n",
       "    </tr>\n",
       "    <tr>\n",
       "      <th>839769</th>\n",
       "      <td>12/8/2021</td>\n",
       "      <td>ชาย</td>\n",
       "      <td>83.0</td>\n",
       "      <td>Thailand</td>\n",
       "      <td>กาญจนบุรี</td>\n",
       "      <td>ทัณฑสถาน/เรือนจำ</td>\n",
       "      <td>กาญจนบุรี</td>\n",
       "    </tr>\n",
       "    <tr>\n",
       "      <th>839770</th>\n",
       "      <td>12/8/2021</td>\n",
       "      <td>ชาย</td>\n",
       "      <td>47.0</td>\n",
       "      <td>Thailand</td>\n",
       "      <td>กาญจนบุรี</td>\n",
       "      <td>ทัณฑสถาน/เรือนจำ</td>\n",
       "      <td>กาญจนบุรี</td>\n",
       "    </tr>\n",
       "  </tbody>\n",
       "</table>\n",
       "<p>839771 rows × 7 columns</p>\n",
       "</div>"
      ],
      "text/plain": [
       "       announce_date   sex   age nationality province_of_isolation  \\\n",
       "0          12/1/2020  หญิง  61.0       China         กรุงเทพมหานคร   \n",
       "1          17/1/2020  หญิง  74.0       China         กรุงเทพมหานคร   \n",
       "2          22/1/2020  หญิง  73.0    Thailand                นครปฐม   \n",
       "3          22/1/2020   ชาย  68.0       China         กรุงเทพมหานคร   \n",
       "4          24/1/2020  หญิง  66.0       China               นนทบุรี   \n",
       "...              ...   ...   ...         ...                   ...   \n",
       "839766     12/8/2021   ชาย  52.0         NaN             กาญจนบุรี   \n",
       "839767     12/8/2021   ชาย  34.0    Thailand             กาญจนบุรี   \n",
       "839768     12/8/2021   ชาย  31.0    Thailand             กาญจนบุรี   \n",
       "839769     12/8/2021   ชาย  83.0    Thailand             กาญจนบุรี   \n",
       "839770     12/8/2021   ชาย  47.0    Thailand             กาญจนบุรี   \n",
       "\n",
       "                                    risk province_of_onset  \n",
       "0       คนต่างชาติเดินทางมาจากต่างประเทศ     กรุงเทพมหานคร  \n",
       "1       คนต่างชาติเดินทางมาจากต่างประเทศ     กรุงเทพมหานคร  \n",
       "2       คนต่างชาติเดินทางมาจากต่างประเทศ            นครปฐม  \n",
       "3       คนต่างชาติเดินทางมาจากต่างประเทศ     กรุงเทพมหานคร  \n",
       "4       คนต่างชาติเดินทางมาจากต่างประเทศ     กรุงเทพมหานคร  \n",
       "...                                  ...               ...  \n",
       "839766                  ทัณฑสถาน/เรือนจำ         กาญจนบุรี  \n",
       "839767                  ทัณฑสถาน/เรือนจำ         กาญจนบุรี  \n",
       "839768                  ทัณฑสถาน/เรือนจำ         กาญจนบุรี  \n",
       "839769                  ทัณฑสถาน/เรือนจำ         กาญจนบุรี  \n",
       "839770                  ทัณฑสถาน/เรือนจำ         กาญจนบุรี  \n",
       "\n",
       "[839771 rows x 7 columns]"
      ]
     },
     "execution_count": 6,
     "metadata": {},
     "output_type": "execute_result"
    }
   ],
   "source": [
    "df.drop(\"district_of_onset\", axis = 1, inplace = True)\n",
    "df"
   ]
  },
  {
   "cell_type": "code",
   "execution_count": 7,
   "id": "4b2be710",
   "metadata": {},
   "outputs": [
    {
     "data": {
      "text/html": [
       "<div>\n",
       "<style scoped>\n",
       "    .dataframe tbody tr th:only-of-type {\n",
       "        vertical-align: middle;\n",
       "    }\n",
       "\n",
       "    .dataframe tbody tr th {\n",
       "        vertical-align: top;\n",
       "    }\n",
       "\n",
       "    .dataframe thead th {\n",
       "        text-align: right;\n",
       "    }\n",
       "</style>\n",
       "<table border=\"1\" class=\"dataframe\">\n",
       "  <thead>\n",
       "    <tr style=\"text-align: right;\">\n",
       "      <th></th>\n",
       "      <th>Notified_date</th>\n",
       "      <th>sex</th>\n",
       "      <th>age</th>\n",
       "      <th>nationality</th>\n",
       "      <th>province_of_isolation</th>\n",
       "      <th>risk</th>\n",
       "      <th>province_of_onset</th>\n",
       "    </tr>\n",
       "  </thead>\n",
       "  <tbody>\n",
       "    <tr>\n",
       "      <th>0</th>\n",
       "      <td>12/1/2020</td>\n",
       "      <td>หญิง</td>\n",
       "      <td>61.0</td>\n",
       "      <td>China</td>\n",
       "      <td>กรุงเทพมหานคร</td>\n",
       "      <td>คนต่างชาติเดินทางมาจากต่างประเทศ</td>\n",
       "      <td>กรุงเทพมหานคร</td>\n",
       "    </tr>\n",
       "    <tr>\n",
       "      <th>1</th>\n",
       "      <td>17/1/2020</td>\n",
       "      <td>หญิง</td>\n",
       "      <td>74.0</td>\n",
       "      <td>China</td>\n",
       "      <td>กรุงเทพมหานคร</td>\n",
       "      <td>คนต่างชาติเดินทางมาจากต่างประเทศ</td>\n",
       "      <td>กรุงเทพมหานคร</td>\n",
       "    </tr>\n",
       "    <tr>\n",
       "      <th>2</th>\n",
       "      <td>22/1/2020</td>\n",
       "      <td>หญิง</td>\n",
       "      <td>73.0</td>\n",
       "      <td>Thailand</td>\n",
       "      <td>นครปฐม</td>\n",
       "      <td>คนต่างชาติเดินทางมาจากต่างประเทศ</td>\n",
       "      <td>นครปฐม</td>\n",
       "    </tr>\n",
       "    <tr>\n",
       "      <th>3</th>\n",
       "      <td>22/1/2020</td>\n",
       "      <td>ชาย</td>\n",
       "      <td>68.0</td>\n",
       "      <td>China</td>\n",
       "      <td>กรุงเทพมหานคร</td>\n",
       "      <td>คนต่างชาติเดินทางมาจากต่างประเทศ</td>\n",
       "      <td>กรุงเทพมหานคร</td>\n",
       "    </tr>\n",
       "    <tr>\n",
       "      <th>4</th>\n",
       "      <td>24/1/2020</td>\n",
       "      <td>หญิง</td>\n",
       "      <td>66.0</td>\n",
       "      <td>China</td>\n",
       "      <td>นนทบุรี</td>\n",
       "      <td>คนต่างชาติเดินทางมาจากต่างประเทศ</td>\n",
       "      <td>กรุงเทพมหานคร</td>\n",
       "    </tr>\n",
       "    <tr>\n",
       "      <th>...</th>\n",
       "      <td>...</td>\n",
       "      <td>...</td>\n",
       "      <td>...</td>\n",
       "      <td>...</td>\n",
       "      <td>...</td>\n",
       "      <td>...</td>\n",
       "      <td>...</td>\n",
       "    </tr>\n",
       "    <tr>\n",
       "      <th>839766</th>\n",
       "      <td>12/8/2021</td>\n",
       "      <td>ชาย</td>\n",
       "      <td>52.0</td>\n",
       "      <td>NaN</td>\n",
       "      <td>กาญจนบุรี</td>\n",
       "      <td>ทัณฑสถาน/เรือนจำ</td>\n",
       "      <td>กาญจนบุรี</td>\n",
       "    </tr>\n",
       "    <tr>\n",
       "      <th>839767</th>\n",
       "      <td>12/8/2021</td>\n",
       "      <td>ชาย</td>\n",
       "      <td>34.0</td>\n",
       "      <td>Thailand</td>\n",
       "      <td>กาญจนบุรี</td>\n",
       "      <td>ทัณฑสถาน/เรือนจำ</td>\n",
       "      <td>กาญจนบุรี</td>\n",
       "    </tr>\n",
       "    <tr>\n",
       "      <th>839768</th>\n",
       "      <td>12/8/2021</td>\n",
       "      <td>ชาย</td>\n",
       "      <td>31.0</td>\n",
       "      <td>Thailand</td>\n",
       "      <td>กาญจนบุรี</td>\n",
       "      <td>ทัณฑสถาน/เรือนจำ</td>\n",
       "      <td>กาญจนบุรี</td>\n",
       "    </tr>\n",
       "    <tr>\n",
       "      <th>839769</th>\n",
       "      <td>12/8/2021</td>\n",
       "      <td>ชาย</td>\n",
       "      <td>83.0</td>\n",
       "      <td>Thailand</td>\n",
       "      <td>กาญจนบุรี</td>\n",
       "      <td>ทัณฑสถาน/เรือนจำ</td>\n",
       "      <td>กาญจนบุรี</td>\n",
       "    </tr>\n",
       "    <tr>\n",
       "      <th>839770</th>\n",
       "      <td>12/8/2021</td>\n",
       "      <td>ชาย</td>\n",
       "      <td>47.0</td>\n",
       "      <td>Thailand</td>\n",
       "      <td>กาญจนบุรี</td>\n",
       "      <td>ทัณฑสถาน/เรือนจำ</td>\n",
       "      <td>กาญจนบุรี</td>\n",
       "    </tr>\n",
       "  </tbody>\n",
       "</table>\n",
       "<p>839771 rows × 7 columns</p>\n",
       "</div>"
      ],
      "text/plain": [
       "       Notified_date   sex   age nationality province_of_isolation  \\\n",
       "0          12/1/2020  หญิง  61.0       China         กรุงเทพมหานคร   \n",
       "1          17/1/2020  หญิง  74.0       China         กรุงเทพมหานคร   \n",
       "2          22/1/2020  หญิง  73.0    Thailand                นครปฐม   \n",
       "3          22/1/2020   ชาย  68.0       China         กรุงเทพมหานคร   \n",
       "4          24/1/2020  หญิง  66.0       China               นนทบุรี   \n",
       "...              ...   ...   ...         ...                   ...   \n",
       "839766     12/8/2021   ชาย  52.0         NaN             กาญจนบุรี   \n",
       "839767     12/8/2021   ชาย  34.0    Thailand             กาญจนบุรี   \n",
       "839768     12/8/2021   ชาย  31.0    Thailand             กาญจนบุรี   \n",
       "839769     12/8/2021   ชาย  83.0    Thailand             กาญจนบุรี   \n",
       "839770     12/8/2021   ชาย  47.0    Thailand             กาญจนบุรี   \n",
       "\n",
       "                                    risk province_of_onset  \n",
       "0       คนต่างชาติเดินทางมาจากต่างประเทศ     กรุงเทพมหานคร  \n",
       "1       คนต่างชาติเดินทางมาจากต่างประเทศ     กรุงเทพมหานคร  \n",
       "2       คนต่างชาติเดินทางมาจากต่างประเทศ            นครปฐม  \n",
       "3       คนต่างชาติเดินทางมาจากต่างประเทศ     กรุงเทพมหานคร  \n",
       "4       คนต่างชาติเดินทางมาจากต่างประเทศ     กรุงเทพมหานคร  \n",
       "...                                  ...               ...  \n",
       "839766                  ทัณฑสถาน/เรือนจำ         กาญจนบุรี  \n",
       "839767                  ทัณฑสถาน/เรือนจำ         กาญจนบุรี  \n",
       "839768                  ทัณฑสถาน/เรือนจำ         กาญจนบุรี  \n",
       "839769                  ทัณฑสถาน/เรือนจำ         กาญจนบุรี  \n",
       "839770                  ทัณฑสถาน/เรือนจำ         กาญจนบุรี  \n",
       "\n",
       "[839771 rows x 7 columns]"
      ]
     },
     "execution_count": 7,
     "metadata": {},
     "output_type": "execute_result"
    }
   ],
   "source": [
    "df.rename(columns = {\"announce_date\" : \"Notified_date\"}, inplace = True)\n",
    "df"
   ]
  },
  {
   "cell_type": "code",
   "execution_count": 8,
   "id": "45e72131",
   "metadata": {},
   "outputs": [
    {
     "data": {
      "text/html": [
       "<div>\n",
       "<style scoped>\n",
       "    .dataframe tbody tr th:only-of-type {\n",
       "        vertical-align: middle;\n",
       "    }\n",
       "\n",
       "    .dataframe tbody tr th {\n",
       "        vertical-align: top;\n",
       "    }\n",
       "\n",
       "    .dataframe thead th {\n",
       "        text-align: right;\n",
       "    }\n",
       "</style>\n",
       "<table border=\"1\" class=\"dataframe\">\n",
       "  <thead>\n",
       "    <tr style=\"text-align: right;\">\n",
       "      <th></th>\n",
       "      <th>Notified_date</th>\n",
       "      <th>sex</th>\n",
       "      <th>age</th>\n",
       "      <th>nationality</th>\n",
       "      <th>province_of_isolation</th>\n",
       "      <th>risk</th>\n",
       "      <th>province_of_onset</th>\n",
       "    </tr>\n",
       "  </thead>\n",
       "  <tbody>\n",
       "    <tr>\n",
       "      <th>count</th>\n",
       "      <td>839771</td>\n",
       "      <td>784876</td>\n",
       "      <td>763606.0</td>\n",
       "      <td>755567</td>\n",
       "      <td>839499</td>\n",
       "      <td>838677</td>\n",
       "      <td>740737</td>\n",
       "    </tr>\n",
       "    <tr>\n",
       "      <th>unique</th>\n",
       "      <td>523</td>\n",
       "      <td>3</td>\n",
       "      <td>238.0</td>\n",
       "      <td>245</td>\n",
       "      <td>77</td>\n",
       "      <td>128</td>\n",
       "      <td>180</td>\n",
       "    </tr>\n",
       "    <tr>\n",
       "      <th>top</th>\n",
       "      <td>12/8/2021</td>\n",
       "      <td>หญิง</td>\n",
       "      <td>25.0</td>\n",
       "      <td>Thailand</td>\n",
       "      <td>กรุงเทพมหานคร</td>\n",
       "      <td>สัมผัสใกล้ชิดกับผู้ป่วยยืนยันรายก่อนหน้านี้</td>\n",
       "      <td>กรุงเทพมหานคร</td>\n",
       "    </tr>\n",
       "    <tr>\n",
       "      <th>freq</th>\n",
       "      <td>22782</td>\n",
       "      <td>399881</td>\n",
       "      <td>19058.0</td>\n",
       "      <td>651511</td>\n",
       "      <td>226349</td>\n",
       "      <td>303184</td>\n",
       "      <td>200233</td>\n",
       "    </tr>\n",
       "  </tbody>\n",
       "</table>\n",
       "</div>"
      ],
      "text/plain": [
       "       Notified_date     sex       age nationality province_of_isolation  \\\n",
       "count         839771  784876  763606.0      755567                839499   \n",
       "unique           523       3     238.0         245                    77   \n",
       "top        12/8/2021    หญิง      25.0    Thailand         กรุงเทพมหานคร   \n",
       "freq           22782  399881   19058.0      651511                226349   \n",
       "\n",
       "                                               risk province_of_onset  \n",
       "count                                        838677            740737  \n",
       "unique                                          128               180  \n",
       "top     สัมผัสใกล้ชิดกับผู้ป่วยยืนยันรายก่อนหน้านี้     กรุงเทพมหานคร  \n",
       "freq                                         303184            200233  "
      ]
     },
     "execution_count": 8,
     "metadata": {},
     "output_type": "execute_result"
    }
   ],
   "source": [
    "df.describe()"
   ]
  },
  {
   "cell_type": "code",
   "execution_count": 9,
   "id": "1106969c",
   "metadata": {},
   "outputs": [
    {
     "data": {
      "text/plain": [
       "(839771, 7)"
      ]
     },
     "execution_count": 9,
     "metadata": {},
     "output_type": "execute_result"
    }
   ],
   "source": [
    "df.shape"
   ]
  },
  {
   "cell_type": "code",
   "execution_count": 10,
   "id": "b5f91860",
   "metadata": {
    "scrolled": false
   },
   "outputs": [
    {
     "data": {
      "text/plain": [
       "Index(['Notified_date', 'sex', 'age', 'nationality', 'province_of_isolation',\n",
       "       'risk', 'province_of_onset'],\n",
       "      dtype='object')"
      ]
     },
     "execution_count": 10,
     "metadata": {},
     "output_type": "execute_result"
    }
   ],
   "source": [
    "df.columns"
   ]
  },
  {
   "cell_type": "code",
   "execution_count": 11,
   "id": "b02c9329",
   "metadata": {},
   "outputs": [
    {
     "data": {
      "text/plain": [
       "Notified_date            object\n",
       "sex                      object\n",
       "age                      object\n",
       "nationality              object\n",
       "province_of_isolation    object\n",
       "risk                     object\n",
       "province_of_onset        object\n",
       "dtype: object"
      ]
     },
     "execution_count": 11,
     "metadata": {},
     "output_type": "execute_result"
    }
   ],
   "source": [
    "df.dtypes"
   ]
  },
  {
   "cell_type": "code",
   "execution_count": 12,
   "id": "5b8c08ff",
   "metadata": {},
   "outputs": [
    {
     "data": {
      "text/plain": [
       "Notified_date            False\n",
       "sex                       True\n",
       "age                       True\n",
       "nationality               True\n",
       "province_of_isolation     True\n",
       "risk                      True\n",
       "province_of_onset         True\n",
       "dtype: bool"
      ]
     },
     "execution_count": 12,
     "metadata": {},
     "output_type": "execute_result"
    }
   ],
   "source": [
    "df.isnull().any()"
   ]
  },
  {
   "cell_type": "code",
   "execution_count": 13,
   "id": "6e36cba8",
   "metadata": {},
   "outputs": [
    {
     "data": {
      "text/plain": [
       "Notified_date                0\n",
       "sex                      54895\n",
       "age                      76165\n",
       "nationality              84204\n",
       "province_of_isolation      272\n",
       "risk                      1094\n",
       "province_of_onset        99034\n",
       "dtype: int64"
      ]
     },
     "execution_count": 13,
     "metadata": {},
     "output_type": "execute_result"
    }
   ],
   "source": [
    "df.isnull().sum()"
   ]
  },
  {
   "cell_type": "code",
   "execution_count": 14,
   "id": "44c9ebba",
   "metadata": {},
   "outputs": [
    {
     "name": "stdout",
     "output_type": "stream",
     "text": [
      "<class 'pandas.core.frame.DataFrame'>\n",
      "RangeIndex: 839771 entries, 0 to 839770\n",
      "Data columns (total 7 columns):\n",
      " #   Column                 Non-Null Count   Dtype \n",
      "---  ------                 --------------   ----- \n",
      " 0   Notified_date          839771 non-null  object\n",
      " 1   sex                    784876 non-null  object\n",
      " 2   age                    763606 non-null  object\n",
      " 3   nationality            755567 non-null  object\n",
      " 4   province_of_isolation  839499 non-null  object\n",
      " 5   risk                   838677 non-null  object\n",
      " 6   province_of_onset      740737 non-null  object\n",
      "dtypes: object(7)\n",
      "memory usage: 44.8+ MB\n"
     ]
    }
   ],
   "source": [
    "df.info()"
   ]
  },
  {
   "cell_type": "markdown",
   "id": "d2c24d09",
   "metadata": {},
   "source": [
    "# Deal missing value"
   ]
  },
  {
   "cell_type": "code",
   "execution_count": 15,
   "id": "696a706d",
   "metadata": {},
   "outputs": [
    {
     "data": {
      "text/html": [
       "<div>\n",
       "<style scoped>\n",
       "    .dataframe tbody tr th:only-of-type {\n",
       "        vertical-align: middle;\n",
       "    }\n",
       "\n",
       "    .dataframe tbody tr th {\n",
       "        vertical-align: top;\n",
       "    }\n",
       "\n",
       "    .dataframe thead th {\n",
       "        text-align: right;\n",
       "    }\n",
       "</style>\n",
       "<table border=\"1\" class=\"dataframe\">\n",
       "  <thead>\n",
       "    <tr style=\"text-align: right;\">\n",
       "      <th></th>\n",
       "      <th>Notified_date</th>\n",
       "      <th>sex</th>\n",
       "      <th>age</th>\n",
       "      <th>nationality</th>\n",
       "      <th>province_of_isolation</th>\n",
       "      <th>risk</th>\n",
       "      <th>province_of_onset</th>\n",
       "    </tr>\n",
       "  </thead>\n",
       "  <tbody>\n",
       "    <tr>\n",
       "      <th>0</th>\n",
       "      <td>12/1/2020</td>\n",
       "      <td>หญิง</td>\n",
       "      <td>61.0</td>\n",
       "      <td>China</td>\n",
       "      <td>กรุงเทพมหานคร</td>\n",
       "      <td>คนต่างชาติเดินทางมาจากต่างประเทศ</td>\n",
       "      <td>กรุงเทพมหานคร</td>\n",
       "    </tr>\n",
       "    <tr>\n",
       "      <th>1</th>\n",
       "      <td>17/1/2020</td>\n",
       "      <td>หญิง</td>\n",
       "      <td>74.0</td>\n",
       "      <td>China</td>\n",
       "      <td>กรุงเทพมหานคร</td>\n",
       "      <td>คนต่างชาติเดินทางมาจากต่างประเทศ</td>\n",
       "      <td>กรุงเทพมหานคร</td>\n",
       "    </tr>\n",
       "    <tr>\n",
       "      <th>2</th>\n",
       "      <td>22/1/2020</td>\n",
       "      <td>หญิง</td>\n",
       "      <td>73.0</td>\n",
       "      <td>Thailand</td>\n",
       "      <td>นครปฐม</td>\n",
       "      <td>คนต่างชาติเดินทางมาจากต่างประเทศ</td>\n",
       "      <td>นครปฐม</td>\n",
       "    </tr>\n",
       "    <tr>\n",
       "      <th>3</th>\n",
       "      <td>22/1/2020</td>\n",
       "      <td>ชาย</td>\n",
       "      <td>68.0</td>\n",
       "      <td>China</td>\n",
       "      <td>กรุงเทพมหานคร</td>\n",
       "      <td>คนต่างชาติเดินทางมาจากต่างประเทศ</td>\n",
       "      <td>กรุงเทพมหานคร</td>\n",
       "    </tr>\n",
       "    <tr>\n",
       "      <th>4</th>\n",
       "      <td>24/1/2020</td>\n",
       "      <td>หญิง</td>\n",
       "      <td>66.0</td>\n",
       "      <td>China</td>\n",
       "      <td>นนทบุรี</td>\n",
       "      <td>คนต่างชาติเดินทางมาจากต่างประเทศ</td>\n",
       "      <td>กรุงเทพมหานคร</td>\n",
       "    </tr>\n",
       "    <tr>\n",
       "      <th>...</th>\n",
       "      <td>...</td>\n",
       "      <td>...</td>\n",
       "      <td>...</td>\n",
       "      <td>...</td>\n",
       "      <td>...</td>\n",
       "      <td>...</td>\n",
       "      <td>...</td>\n",
       "    </tr>\n",
       "    <tr>\n",
       "      <th>839766</th>\n",
       "      <td>12/8/2021</td>\n",
       "      <td>ชาย</td>\n",
       "      <td>52.0</td>\n",
       "      <td>NaN</td>\n",
       "      <td>กาญจนบุรี</td>\n",
       "      <td>ทัณฑสถาน/เรือนจำ</td>\n",
       "      <td>กาญจนบุรี</td>\n",
       "    </tr>\n",
       "    <tr>\n",
       "      <th>839767</th>\n",
       "      <td>12/8/2021</td>\n",
       "      <td>ชาย</td>\n",
       "      <td>34.0</td>\n",
       "      <td>Thailand</td>\n",
       "      <td>กาญจนบุรี</td>\n",
       "      <td>ทัณฑสถาน/เรือนจำ</td>\n",
       "      <td>กาญจนบุรี</td>\n",
       "    </tr>\n",
       "    <tr>\n",
       "      <th>839768</th>\n",
       "      <td>12/8/2021</td>\n",
       "      <td>ชาย</td>\n",
       "      <td>31.0</td>\n",
       "      <td>Thailand</td>\n",
       "      <td>กาญจนบุรี</td>\n",
       "      <td>ทัณฑสถาน/เรือนจำ</td>\n",
       "      <td>กาญจนบุรี</td>\n",
       "    </tr>\n",
       "    <tr>\n",
       "      <th>839769</th>\n",
       "      <td>12/8/2021</td>\n",
       "      <td>ชาย</td>\n",
       "      <td>83.0</td>\n",
       "      <td>Thailand</td>\n",
       "      <td>กาญจนบุรี</td>\n",
       "      <td>ทัณฑสถาน/เรือนจำ</td>\n",
       "      <td>กาญจนบุรี</td>\n",
       "    </tr>\n",
       "    <tr>\n",
       "      <th>839770</th>\n",
       "      <td>12/8/2021</td>\n",
       "      <td>ชาย</td>\n",
       "      <td>47.0</td>\n",
       "      <td>Thailand</td>\n",
       "      <td>กาญจนบุรี</td>\n",
       "      <td>ทัณฑสถาน/เรือนจำ</td>\n",
       "      <td>กาญจนบุรี</td>\n",
       "    </tr>\n",
       "  </tbody>\n",
       "</table>\n",
       "<p>839771 rows × 7 columns</p>\n",
       "</div>"
      ],
      "text/plain": [
       "       Notified_date   sex   age nationality province_of_isolation  \\\n",
       "0          12/1/2020  หญิง  61.0       China         กรุงเทพมหานคร   \n",
       "1          17/1/2020  หญิง  74.0       China         กรุงเทพมหานคร   \n",
       "2          22/1/2020  หญิง  73.0    Thailand                นครปฐม   \n",
       "3          22/1/2020   ชาย  68.0       China         กรุงเทพมหานคร   \n",
       "4          24/1/2020  หญิง  66.0       China               นนทบุรี   \n",
       "...              ...   ...   ...         ...                   ...   \n",
       "839766     12/8/2021   ชาย  52.0         NaN             กาญจนบุรี   \n",
       "839767     12/8/2021   ชาย  34.0    Thailand             กาญจนบุรี   \n",
       "839768     12/8/2021   ชาย  31.0    Thailand             กาญจนบุรี   \n",
       "839769     12/8/2021   ชาย  83.0    Thailand             กาญจนบุรี   \n",
       "839770     12/8/2021   ชาย  47.0    Thailand             กาญจนบุรี   \n",
       "\n",
       "                                    risk province_of_onset  \n",
       "0       คนต่างชาติเดินทางมาจากต่างประเทศ     กรุงเทพมหานคร  \n",
       "1       คนต่างชาติเดินทางมาจากต่างประเทศ     กรุงเทพมหานคร  \n",
       "2       คนต่างชาติเดินทางมาจากต่างประเทศ            นครปฐม  \n",
       "3       คนต่างชาติเดินทางมาจากต่างประเทศ     กรุงเทพมหานคร  \n",
       "4       คนต่างชาติเดินทางมาจากต่างประเทศ     กรุงเทพมหานคร  \n",
       "...                                  ...               ...  \n",
       "839766                  ทัณฑสถาน/เรือนจำ         กาญจนบุรี  \n",
       "839767                  ทัณฑสถาน/เรือนจำ         กาญจนบุรี  \n",
       "839768                  ทัณฑสถาน/เรือนจำ         กาญจนบุรี  \n",
       "839769                  ทัณฑสถาน/เรือนจำ         กาญจนบุรี  \n",
       "839770                  ทัณฑสถาน/เรือนจำ         กาญจนบุรี  \n",
       "\n",
       "[839771 rows x 7 columns]"
      ]
     },
     "execution_count": 15,
     "metadata": {},
     "output_type": "execute_result"
    }
   ],
   "source": [
    "df.sex.fillna(\"Not specified\", inplace = True)\n",
    "df"
   ]
  },
  {
   "cell_type": "code",
   "execution_count": 16,
   "id": "3b2809cb",
   "metadata": {},
   "outputs": [
    {
     "data": {
      "text/html": [
       "<div>\n",
       "<style scoped>\n",
       "    .dataframe tbody tr th:only-of-type {\n",
       "        vertical-align: middle;\n",
       "    }\n",
       "\n",
       "    .dataframe tbody tr th {\n",
       "        vertical-align: top;\n",
       "    }\n",
       "\n",
       "    .dataframe thead th {\n",
       "        text-align: right;\n",
       "    }\n",
       "</style>\n",
       "<table border=\"1\" class=\"dataframe\">\n",
       "  <thead>\n",
       "    <tr style=\"text-align: right;\">\n",
       "      <th></th>\n",
       "      <th>Notified_date</th>\n",
       "      <th>sex</th>\n",
       "      <th>age</th>\n",
       "      <th>nationality</th>\n",
       "      <th>province_of_isolation</th>\n",
       "      <th>risk</th>\n",
       "      <th>province_of_onset</th>\n",
       "    </tr>\n",
       "  </thead>\n",
       "  <tbody>\n",
       "    <tr>\n",
       "      <th>0</th>\n",
       "      <td>12/1/2020</td>\n",
       "      <td>หญิง</td>\n",
       "      <td>61.0</td>\n",
       "      <td>China</td>\n",
       "      <td>กรุงเทพมหานคร</td>\n",
       "      <td>คนต่างชาติเดินทางมาจากต่างประเทศ</td>\n",
       "      <td>กรุงเทพมหานคร</td>\n",
       "    </tr>\n",
       "    <tr>\n",
       "      <th>1</th>\n",
       "      <td>17/1/2020</td>\n",
       "      <td>หญิง</td>\n",
       "      <td>74.0</td>\n",
       "      <td>China</td>\n",
       "      <td>กรุงเทพมหานคร</td>\n",
       "      <td>คนต่างชาติเดินทางมาจากต่างประเทศ</td>\n",
       "      <td>กรุงเทพมหานคร</td>\n",
       "    </tr>\n",
       "    <tr>\n",
       "      <th>2</th>\n",
       "      <td>22/1/2020</td>\n",
       "      <td>หญิง</td>\n",
       "      <td>73.0</td>\n",
       "      <td>Thailand</td>\n",
       "      <td>นครปฐม</td>\n",
       "      <td>คนต่างชาติเดินทางมาจากต่างประเทศ</td>\n",
       "      <td>นครปฐม</td>\n",
       "    </tr>\n",
       "    <tr>\n",
       "      <th>3</th>\n",
       "      <td>22/1/2020</td>\n",
       "      <td>ชาย</td>\n",
       "      <td>68.0</td>\n",
       "      <td>China</td>\n",
       "      <td>กรุงเทพมหานคร</td>\n",
       "      <td>คนต่างชาติเดินทางมาจากต่างประเทศ</td>\n",
       "      <td>กรุงเทพมหานคร</td>\n",
       "    </tr>\n",
       "    <tr>\n",
       "      <th>4</th>\n",
       "      <td>24/1/2020</td>\n",
       "      <td>หญิง</td>\n",
       "      <td>66.0</td>\n",
       "      <td>China</td>\n",
       "      <td>นนทบุรี</td>\n",
       "      <td>คนต่างชาติเดินทางมาจากต่างประเทศ</td>\n",
       "      <td>กรุงเทพมหานคร</td>\n",
       "    </tr>\n",
       "    <tr>\n",
       "      <th>...</th>\n",
       "      <td>...</td>\n",
       "      <td>...</td>\n",
       "      <td>...</td>\n",
       "      <td>...</td>\n",
       "      <td>...</td>\n",
       "      <td>...</td>\n",
       "      <td>...</td>\n",
       "    </tr>\n",
       "    <tr>\n",
       "      <th>839766</th>\n",
       "      <td>12/8/2021</td>\n",
       "      <td>ชาย</td>\n",
       "      <td>52.0</td>\n",
       "      <td>unknown</td>\n",
       "      <td>กาญจนบุรี</td>\n",
       "      <td>ทัณฑสถาน/เรือนจำ</td>\n",
       "      <td>กาญจนบุรี</td>\n",
       "    </tr>\n",
       "    <tr>\n",
       "      <th>839767</th>\n",
       "      <td>12/8/2021</td>\n",
       "      <td>ชาย</td>\n",
       "      <td>34.0</td>\n",
       "      <td>Thailand</td>\n",
       "      <td>กาญจนบุรี</td>\n",
       "      <td>ทัณฑสถาน/เรือนจำ</td>\n",
       "      <td>กาญจนบุรี</td>\n",
       "    </tr>\n",
       "    <tr>\n",
       "      <th>839768</th>\n",
       "      <td>12/8/2021</td>\n",
       "      <td>ชาย</td>\n",
       "      <td>31.0</td>\n",
       "      <td>Thailand</td>\n",
       "      <td>กาญจนบุรี</td>\n",
       "      <td>ทัณฑสถาน/เรือนจำ</td>\n",
       "      <td>กาญจนบุรี</td>\n",
       "    </tr>\n",
       "    <tr>\n",
       "      <th>839769</th>\n",
       "      <td>12/8/2021</td>\n",
       "      <td>ชาย</td>\n",
       "      <td>83.0</td>\n",
       "      <td>Thailand</td>\n",
       "      <td>กาญจนบุรี</td>\n",
       "      <td>ทัณฑสถาน/เรือนจำ</td>\n",
       "      <td>กาญจนบุรี</td>\n",
       "    </tr>\n",
       "    <tr>\n",
       "      <th>839770</th>\n",
       "      <td>12/8/2021</td>\n",
       "      <td>ชาย</td>\n",
       "      <td>47.0</td>\n",
       "      <td>Thailand</td>\n",
       "      <td>กาญจนบุรี</td>\n",
       "      <td>ทัณฑสถาน/เรือนจำ</td>\n",
       "      <td>กาญจนบุรี</td>\n",
       "    </tr>\n",
       "  </tbody>\n",
       "</table>\n",
       "<p>839771 rows × 7 columns</p>\n",
       "</div>"
      ],
      "text/plain": [
       "       Notified_date   sex   age nationality province_of_isolation  \\\n",
       "0          12/1/2020  หญิง  61.0       China         กรุงเทพมหานคร   \n",
       "1          17/1/2020  หญิง  74.0       China         กรุงเทพมหานคร   \n",
       "2          22/1/2020  หญิง  73.0    Thailand                นครปฐม   \n",
       "3          22/1/2020   ชาย  68.0       China         กรุงเทพมหานคร   \n",
       "4          24/1/2020  หญิง  66.0       China               นนทบุรี   \n",
       "...              ...   ...   ...         ...                   ...   \n",
       "839766     12/8/2021   ชาย  52.0     unknown             กาญจนบุรี   \n",
       "839767     12/8/2021   ชาย  34.0    Thailand             กาญจนบุรี   \n",
       "839768     12/8/2021   ชาย  31.0    Thailand             กาญจนบุรี   \n",
       "839769     12/8/2021   ชาย  83.0    Thailand             กาญจนบุรี   \n",
       "839770     12/8/2021   ชาย  47.0    Thailand             กาญจนบุรี   \n",
       "\n",
       "                                    risk province_of_onset  \n",
       "0       คนต่างชาติเดินทางมาจากต่างประเทศ     กรุงเทพมหานคร  \n",
       "1       คนต่างชาติเดินทางมาจากต่างประเทศ     กรุงเทพมหานคร  \n",
       "2       คนต่างชาติเดินทางมาจากต่างประเทศ            นครปฐม  \n",
       "3       คนต่างชาติเดินทางมาจากต่างประเทศ     กรุงเทพมหานคร  \n",
       "4       คนต่างชาติเดินทางมาจากต่างประเทศ     กรุงเทพมหานคร  \n",
       "...                                  ...               ...  \n",
       "839766                  ทัณฑสถาน/เรือนจำ         กาญจนบุรี  \n",
       "839767                  ทัณฑสถาน/เรือนจำ         กาญจนบุรี  \n",
       "839768                  ทัณฑสถาน/เรือนจำ         กาญจนบุรี  \n",
       "839769                  ทัณฑสถาน/เรือนจำ         กาญจนบุรี  \n",
       "839770                  ทัณฑสถาน/เรือนจำ         กาญจนบุรี  \n",
       "\n",
       "[839771 rows x 7 columns]"
      ]
     },
     "execution_count": 16,
     "metadata": {},
     "output_type": "execute_result"
    }
   ],
   "source": [
    "df.nationality.fillna(\"unknown\", inplace = True)\n",
    "df"
   ]
  },
  {
   "cell_type": "code",
   "execution_count": 17,
   "id": "4744291e",
   "metadata": {},
   "outputs": [
    {
     "data": {
      "text/html": [
       "<div>\n",
       "<style scoped>\n",
       "    .dataframe tbody tr th:only-of-type {\n",
       "        vertical-align: middle;\n",
       "    }\n",
       "\n",
       "    .dataframe tbody tr th {\n",
       "        vertical-align: top;\n",
       "    }\n",
       "\n",
       "    .dataframe thead th {\n",
       "        text-align: right;\n",
       "    }\n",
       "</style>\n",
       "<table border=\"1\" class=\"dataframe\">\n",
       "  <thead>\n",
       "    <tr style=\"text-align: right;\">\n",
       "      <th></th>\n",
       "      <th>Notified_date</th>\n",
       "      <th>sex</th>\n",
       "      <th>age</th>\n",
       "      <th>nationality</th>\n",
       "      <th>province_of_isolation</th>\n",
       "      <th>risk</th>\n",
       "      <th>province_of_onset</th>\n",
       "    </tr>\n",
       "  </thead>\n",
       "  <tbody>\n",
       "    <tr>\n",
       "      <th>0</th>\n",
       "      <td>12/1/2020</td>\n",
       "      <td>หญิง</td>\n",
       "      <td>61.0</td>\n",
       "      <td>China</td>\n",
       "      <td>กรุงเทพมหานคร</td>\n",
       "      <td>คนต่างชาติเดินทางมาจากต่างประเทศ</td>\n",
       "      <td>กรุงเทพมหานคร</td>\n",
       "    </tr>\n",
       "    <tr>\n",
       "      <th>1</th>\n",
       "      <td>17/1/2020</td>\n",
       "      <td>หญิง</td>\n",
       "      <td>74.0</td>\n",
       "      <td>China</td>\n",
       "      <td>กรุงเทพมหานคร</td>\n",
       "      <td>คนต่างชาติเดินทางมาจากต่างประเทศ</td>\n",
       "      <td>กรุงเทพมหานคร</td>\n",
       "    </tr>\n",
       "    <tr>\n",
       "      <th>2</th>\n",
       "      <td>22/1/2020</td>\n",
       "      <td>หญิง</td>\n",
       "      <td>73.0</td>\n",
       "      <td>Thailand</td>\n",
       "      <td>นครปฐม</td>\n",
       "      <td>คนต่างชาติเดินทางมาจากต่างประเทศ</td>\n",
       "      <td>นครปฐม</td>\n",
       "    </tr>\n",
       "    <tr>\n",
       "      <th>3</th>\n",
       "      <td>22/1/2020</td>\n",
       "      <td>ชาย</td>\n",
       "      <td>68.0</td>\n",
       "      <td>China</td>\n",
       "      <td>กรุงเทพมหานคร</td>\n",
       "      <td>คนต่างชาติเดินทางมาจากต่างประเทศ</td>\n",
       "      <td>กรุงเทพมหานคร</td>\n",
       "    </tr>\n",
       "    <tr>\n",
       "      <th>4</th>\n",
       "      <td>24/1/2020</td>\n",
       "      <td>หญิง</td>\n",
       "      <td>66.0</td>\n",
       "      <td>China</td>\n",
       "      <td>นนทบุรี</td>\n",
       "      <td>คนต่างชาติเดินทางมาจากต่างประเทศ</td>\n",
       "      <td>กรุงเทพมหานคร</td>\n",
       "    </tr>\n",
       "    <tr>\n",
       "      <th>...</th>\n",
       "      <td>...</td>\n",
       "      <td>...</td>\n",
       "      <td>...</td>\n",
       "      <td>...</td>\n",
       "      <td>...</td>\n",
       "      <td>...</td>\n",
       "      <td>...</td>\n",
       "    </tr>\n",
       "    <tr>\n",
       "      <th>839766</th>\n",
       "      <td>12/8/2021</td>\n",
       "      <td>ชาย</td>\n",
       "      <td>52.0</td>\n",
       "      <td>unknown</td>\n",
       "      <td>กาญจนบุรี</td>\n",
       "      <td>ทัณฑสถาน/เรือนจำ</td>\n",
       "      <td>กาญจนบุรี</td>\n",
       "    </tr>\n",
       "    <tr>\n",
       "      <th>839767</th>\n",
       "      <td>12/8/2021</td>\n",
       "      <td>ชาย</td>\n",
       "      <td>34.0</td>\n",
       "      <td>Thailand</td>\n",
       "      <td>กาญจนบุรี</td>\n",
       "      <td>ทัณฑสถาน/เรือนจำ</td>\n",
       "      <td>กาญจนบุรี</td>\n",
       "    </tr>\n",
       "    <tr>\n",
       "      <th>839768</th>\n",
       "      <td>12/8/2021</td>\n",
       "      <td>ชาย</td>\n",
       "      <td>31.0</td>\n",
       "      <td>Thailand</td>\n",
       "      <td>กาญจนบุรี</td>\n",
       "      <td>ทัณฑสถาน/เรือนจำ</td>\n",
       "      <td>กาญจนบุรี</td>\n",
       "    </tr>\n",
       "    <tr>\n",
       "      <th>839769</th>\n",
       "      <td>12/8/2021</td>\n",
       "      <td>ชาย</td>\n",
       "      <td>83.0</td>\n",
       "      <td>Thailand</td>\n",
       "      <td>กาญจนบุรี</td>\n",
       "      <td>ทัณฑสถาน/เรือนจำ</td>\n",
       "      <td>กาญจนบุรี</td>\n",
       "    </tr>\n",
       "    <tr>\n",
       "      <th>839770</th>\n",
       "      <td>12/8/2021</td>\n",
       "      <td>ชาย</td>\n",
       "      <td>47.0</td>\n",
       "      <td>Thailand</td>\n",
       "      <td>กาญจนบุรี</td>\n",
       "      <td>ทัณฑสถาน/เรือนจำ</td>\n",
       "      <td>กาญจนบุรี</td>\n",
       "    </tr>\n",
       "  </tbody>\n",
       "</table>\n",
       "<p>839771 rows × 7 columns</p>\n",
       "</div>"
      ],
      "text/plain": [
       "       Notified_date   sex   age nationality province_of_isolation  \\\n",
       "0          12/1/2020  หญิง  61.0       China         กรุงเทพมหานคร   \n",
       "1          17/1/2020  หญิง  74.0       China         กรุงเทพมหานคร   \n",
       "2          22/1/2020  หญิง  73.0    Thailand                นครปฐม   \n",
       "3          22/1/2020   ชาย  68.0       China         กรุงเทพมหานคร   \n",
       "4          24/1/2020  หญิง  66.0       China               นนทบุรี   \n",
       "...              ...   ...   ...         ...                   ...   \n",
       "839766     12/8/2021   ชาย  52.0     unknown             กาญจนบุรี   \n",
       "839767     12/8/2021   ชาย  34.0    Thailand             กาญจนบุรี   \n",
       "839768     12/8/2021   ชาย  31.0    Thailand             กาญจนบุรี   \n",
       "839769     12/8/2021   ชาย  83.0    Thailand             กาญจนบุรี   \n",
       "839770     12/8/2021   ชาย  47.0    Thailand             กาญจนบุรี   \n",
       "\n",
       "                                    risk province_of_onset  \n",
       "0       คนต่างชาติเดินทางมาจากต่างประเทศ     กรุงเทพมหานคร  \n",
       "1       คนต่างชาติเดินทางมาจากต่างประเทศ     กรุงเทพมหานคร  \n",
       "2       คนต่างชาติเดินทางมาจากต่างประเทศ            นครปฐม  \n",
       "3       คนต่างชาติเดินทางมาจากต่างประเทศ     กรุงเทพมหานคร  \n",
       "4       คนต่างชาติเดินทางมาจากต่างประเทศ     กรุงเทพมหานคร  \n",
       "...                                  ...               ...  \n",
       "839766                  ทัณฑสถาน/เรือนจำ         กาญจนบุรี  \n",
       "839767                  ทัณฑสถาน/เรือนจำ         กาญจนบุรี  \n",
       "839768                  ทัณฑสถาน/เรือนจำ         กาญจนบุรี  \n",
       "839769                  ทัณฑสถาน/เรือนจำ         กาญจนบุรี  \n",
       "839770                  ทัณฑสถาน/เรือนจำ         กาญจนบุรี  \n",
       "\n",
       "[839771 rows x 7 columns]"
      ]
     },
     "execution_count": 17,
     "metadata": {},
     "output_type": "execute_result"
    }
   ],
   "source": [
    "df.province_of_isolation.fillna(\"unknown\", inplace = True)\n",
    "df"
   ]
  },
  {
   "cell_type": "code",
   "execution_count": 18,
   "id": "00f376ae",
   "metadata": {},
   "outputs": [
    {
     "data": {
      "text/html": [
       "<div>\n",
       "<style scoped>\n",
       "    .dataframe tbody tr th:only-of-type {\n",
       "        vertical-align: middle;\n",
       "    }\n",
       "\n",
       "    .dataframe tbody tr th {\n",
       "        vertical-align: top;\n",
       "    }\n",
       "\n",
       "    .dataframe thead th {\n",
       "        text-align: right;\n",
       "    }\n",
       "</style>\n",
       "<table border=\"1\" class=\"dataframe\">\n",
       "  <thead>\n",
       "    <tr style=\"text-align: right;\">\n",
       "      <th></th>\n",
       "      <th>Notified_date</th>\n",
       "      <th>sex</th>\n",
       "      <th>age</th>\n",
       "      <th>nationality</th>\n",
       "      <th>province_of_isolation</th>\n",
       "      <th>risk</th>\n",
       "      <th>province_of_onset</th>\n",
       "    </tr>\n",
       "  </thead>\n",
       "  <tbody>\n",
       "    <tr>\n",
       "      <th>0</th>\n",
       "      <td>12/1/2020</td>\n",
       "      <td>หญิง</td>\n",
       "      <td>61.0</td>\n",
       "      <td>China</td>\n",
       "      <td>กรุงเทพมหานคร</td>\n",
       "      <td>คนต่างชาติเดินทางมาจากต่างประเทศ</td>\n",
       "      <td>กรุงเทพมหานคร</td>\n",
       "    </tr>\n",
       "    <tr>\n",
       "      <th>1</th>\n",
       "      <td>17/1/2020</td>\n",
       "      <td>หญิง</td>\n",
       "      <td>74.0</td>\n",
       "      <td>China</td>\n",
       "      <td>กรุงเทพมหานคร</td>\n",
       "      <td>คนต่างชาติเดินทางมาจากต่างประเทศ</td>\n",
       "      <td>กรุงเทพมหานคร</td>\n",
       "    </tr>\n",
       "    <tr>\n",
       "      <th>2</th>\n",
       "      <td>22/1/2020</td>\n",
       "      <td>หญิง</td>\n",
       "      <td>73.0</td>\n",
       "      <td>Thailand</td>\n",
       "      <td>นครปฐม</td>\n",
       "      <td>คนต่างชาติเดินทางมาจากต่างประเทศ</td>\n",
       "      <td>นครปฐม</td>\n",
       "    </tr>\n",
       "    <tr>\n",
       "      <th>3</th>\n",
       "      <td>22/1/2020</td>\n",
       "      <td>ชาย</td>\n",
       "      <td>68.0</td>\n",
       "      <td>China</td>\n",
       "      <td>กรุงเทพมหานคร</td>\n",
       "      <td>คนต่างชาติเดินทางมาจากต่างประเทศ</td>\n",
       "      <td>กรุงเทพมหานคร</td>\n",
       "    </tr>\n",
       "    <tr>\n",
       "      <th>4</th>\n",
       "      <td>24/1/2020</td>\n",
       "      <td>หญิง</td>\n",
       "      <td>66.0</td>\n",
       "      <td>China</td>\n",
       "      <td>นนทบุรี</td>\n",
       "      <td>คนต่างชาติเดินทางมาจากต่างประเทศ</td>\n",
       "      <td>กรุงเทพมหานคร</td>\n",
       "    </tr>\n",
       "    <tr>\n",
       "      <th>...</th>\n",
       "      <td>...</td>\n",
       "      <td>...</td>\n",
       "      <td>...</td>\n",
       "      <td>...</td>\n",
       "      <td>...</td>\n",
       "      <td>...</td>\n",
       "      <td>...</td>\n",
       "    </tr>\n",
       "    <tr>\n",
       "      <th>839766</th>\n",
       "      <td>12/8/2021</td>\n",
       "      <td>ชาย</td>\n",
       "      <td>52.0</td>\n",
       "      <td>unknown</td>\n",
       "      <td>กาญจนบุรี</td>\n",
       "      <td>ทัณฑสถาน/เรือนจำ</td>\n",
       "      <td>กาญจนบุรี</td>\n",
       "    </tr>\n",
       "    <tr>\n",
       "      <th>839767</th>\n",
       "      <td>12/8/2021</td>\n",
       "      <td>ชาย</td>\n",
       "      <td>34.0</td>\n",
       "      <td>Thailand</td>\n",
       "      <td>กาญจนบุรี</td>\n",
       "      <td>ทัณฑสถาน/เรือนจำ</td>\n",
       "      <td>กาญจนบุรี</td>\n",
       "    </tr>\n",
       "    <tr>\n",
       "      <th>839768</th>\n",
       "      <td>12/8/2021</td>\n",
       "      <td>ชาย</td>\n",
       "      <td>31.0</td>\n",
       "      <td>Thailand</td>\n",
       "      <td>กาญจนบุรี</td>\n",
       "      <td>ทัณฑสถาน/เรือนจำ</td>\n",
       "      <td>กาญจนบุรี</td>\n",
       "    </tr>\n",
       "    <tr>\n",
       "      <th>839769</th>\n",
       "      <td>12/8/2021</td>\n",
       "      <td>ชาย</td>\n",
       "      <td>83.0</td>\n",
       "      <td>Thailand</td>\n",
       "      <td>กาญจนบุรี</td>\n",
       "      <td>ทัณฑสถาน/เรือนจำ</td>\n",
       "      <td>กาญจนบุรี</td>\n",
       "    </tr>\n",
       "    <tr>\n",
       "      <th>839770</th>\n",
       "      <td>12/8/2021</td>\n",
       "      <td>ชาย</td>\n",
       "      <td>47.0</td>\n",
       "      <td>Thailand</td>\n",
       "      <td>กาญจนบุรี</td>\n",
       "      <td>ทัณฑสถาน/เรือนจำ</td>\n",
       "      <td>กาญจนบุรี</td>\n",
       "    </tr>\n",
       "  </tbody>\n",
       "</table>\n",
       "<p>839771 rows × 7 columns</p>\n",
       "</div>"
      ],
      "text/plain": [
       "       Notified_date   sex   age nationality province_of_isolation  \\\n",
       "0          12/1/2020  หญิง  61.0       China         กรุงเทพมหานคร   \n",
       "1          17/1/2020  หญิง  74.0       China         กรุงเทพมหานคร   \n",
       "2          22/1/2020  หญิง  73.0    Thailand                นครปฐม   \n",
       "3          22/1/2020   ชาย  68.0       China         กรุงเทพมหานคร   \n",
       "4          24/1/2020  หญิง  66.0       China               นนทบุรี   \n",
       "...              ...   ...   ...         ...                   ...   \n",
       "839766     12/8/2021   ชาย  52.0     unknown             กาญจนบุรี   \n",
       "839767     12/8/2021   ชาย  34.0    Thailand             กาญจนบุรี   \n",
       "839768     12/8/2021   ชาย  31.0    Thailand             กาญจนบุรี   \n",
       "839769     12/8/2021   ชาย  83.0    Thailand             กาญจนบุรี   \n",
       "839770     12/8/2021   ชาย  47.0    Thailand             กาญจนบุรี   \n",
       "\n",
       "                                    risk province_of_onset  \n",
       "0       คนต่างชาติเดินทางมาจากต่างประเทศ     กรุงเทพมหานคร  \n",
       "1       คนต่างชาติเดินทางมาจากต่างประเทศ     กรุงเทพมหานคร  \n",
       "2       คนต่างชาติเดินทางมาจากต่างประเทศ            นครปฐม  \n",
       "3       คนต่างชาติเดินทางมาจากต่างประเทศ     กรุงเทพมหานคร  \n",
       "4       คนต่างชาติเดินทางมาจากต่างประเทศ     กรุงเทพมหานคร  \n",
       "...                                  ...               ...  \n",
       "839766                  ทัณฑสถาน/เรือนจำ         กาญจนบุรี  \n",
       "839767                  ทัณฑสถาน/เรือนจำ         กาญจนบุรี  \n",
       "839768                  ทัณฑสถาน/เรือนจำ         กาญจนบุรี  \n",
       "839769                  ทัณฑสถาน/เรือนจำ         กาญจนบุรี  \n",
       "839770                  ทัณฑสถาน/เรือนจำ         กาญจนบุรี  \n",
       "\n",
       "[839771 rows x 7 columns]"
      ]
     },
     "execution_count": 18,
     "metadata": {},
     "output_type": "execute_result"
    }
   ],
   "source": [
    "df.risk.fillna(\"unknown\", inplace = True)\n",
    "df"
   ]
  },
  {
   "cell_type": "code",
   "execution_count": 19,
   "id": "98ba4e97",
   "metadata": {
    "scrolled": true
   },
   "outputs": [
    {
     "data": {
      "text/html": [
       "<div>\n",
       "<style scoped>\n",
       "    .dataframe tbody tr th:only-of-type {\n",
       "        vertical-align: middle;\n",
       "    }\n",
       "\n",
       "    .dataframe tbody tr th {\n",
       "        vertical-align: top;\n",
       "    }\n",
       "\n",
       "    .dataframe thead th {\n",
       "        text-align: right;\n",
       "    }\n",
       "</style>\n",
       "<table border=\"1\" class=\"dataframe\">\n",
       "  <thead>\n",
       "    <tr style=\"text-align: right;\">\n",
       "      <th></th>\n",
       "      <th>Notified_date</th>\n",
       "      <th>sex</th>\n",
       "      <th>age</th>\n",
       "      <th>nationality</th>\n",
       "      <th>province_of_isolation</th>\n",
       "      <th>risk</th>\n",
       "      <th>province_of_onset</th>\n",
       "    </tr>\n",
       "  </thead>\n",
       "  <tbody>\n",
       "    <tr>\n",
       "      <th>0</th>\n",
       "      <td>12/1/2020</td>\n",
       "      <td>หญิง</td>\n",
       "      <td>61.0</td>\n",
       "      <td>China</td>\n",
       "      <td>กรุงเทพมหานคร</td>\n",
       "      <td>คนต่างชาติเดินทางมาจากต่างประเทศ</td>\n",
       "      <td>กรุงเทพมหานคร</td>\n",
       "    </tr>\n",
       "    <tr>\n",
       "      <th>1</th>\n",
       "      <td>17/1/2020</td>\n",
       "      <td>หญิง</td>\n",
       "      <td>74.0</td>\n",
       "      <td>China</td>\n",
       "      <td>กรุงเทพมหานคร</td>\n",
       "      <td>คนต่างชาติเดินทางมาจากต่างประเทศ</td>\n",
       "      <td>กรุงเทพมหานคร</td>\n",
       "    </tr>\n",
       "    <tr>\n",
       "      <th>2</th>\n",
       "      <td>22/1/2020</td>\n",
       "      <td>หญิง</td>\n",
       "      <td>73.0</td>\n",
       "      <td>Thailand</td>\n",
       "      <td>นครปฐม</td>\n",
       "      <td>คนต่างชาติเดินทางมาจากต่างประเทศ</td>\n",
       "      <td>นครปฐม</td>\n",
       "    </tr>\n",
       "    <tr>\n",
       "      <th>3</th>\n",
       "      <td>22/1/2020</td>\n",
       "      <td>ชาย</td>\n",
       "      <td>68.0</td>\n",
       "      <td>China</td>\n",
       "      <td>กรุงเทพมหานคร</td>\n",
       "      <td>คนต่างชาติเดินทางมาจากต่างประเทศ</td>\n",
       "      <td>กรุงเทพมหานคร</td>\n",
       "    </tr>\n",
       "    <tr>\n",
       "      <th>4</th>\n",
       "      <td>24/1/2020</td>\n",
       "      <td>หญิง</td>\n",
       "      <td>66.0</td>\n",
       "      <td>China</td>\n",
       "      <td>นนทบุรี</td>\n",
       "      <td>คนต่างชาติเดินทางมาจากต่างประเทศ</td>\n",
       "      <td>กรุงเทพมหานคร</td>\n",
       "    </tr>\n",
       "    <tr>\n",
       "      <th>...</th>\n",
       "      <td>...</td>\n",
       "      <td>...</td>\n",
       "      <td>...</td>\n",
       "      <td>...</td>\n",
       "      <td>...</td>\n",
       "      <td>...</td>\n",
       "      <td>...</td>\n",
       "    </tr>\n",
       "    <tr>\n",
       "      <th>839766</th>\n",
       "      <td>12/8/2021</td>\n",
       "      <td>ชาย</td>\n",
       "      <td>52.0</td>\n",
       "      <td>unknown</td>\n",
       "      <td>กาญจนบุรี</td>\n",
       "      <td>ทัณฑสถาน/เรือนจำ</td>\n",
       "      <td>กาญจนบุรี</td>\n",
       "    </tr>\n",
       "    <tr>\n",
       "      <th>839767</th>\n",
       "      <td>12/8/2021</td>\n",
       "      <td>ชาย</td>\n",
       "      <td>34.0</td>\n",
       "      <td>Thailand</td>\n",
       "      <td>กาญจนบุรี</td>\n",
       "      <td>ทัณฑสถาน/เรือนจำ</td>\n",
       "      <td>กาญจนบุรี</td>\n",
       "    </tr>\n",
       "    <tr>\n",
       "      <th>839768</th>\n",
       "      <td>12/8/2021</td>\n",
       "      <td>ชาย</td>\n",
       "      <td>31.0</td>\n",
       "      <td>Thailand</td>\n",
       "      <td>กาญจนบุรี</td>\n",
       "      <td>ทัณฑสถาน/เรือนจำ</td>\n",
       "      <td>กาญจนบุรี</td>\n",
       "    </tr>\n",
       "    <tr>\n",
       "      <th>839769</th>\n",
       "      <td>12/8/2021</td>\n",
       "      <td>ชาย</td>\n",
       "      <td>83.0</td>\n",
       "      <td>Thailand</td>\n",
       "      <td>กาญจนบุรี</td>\n",
       "      <td>ทัณฑสถาน/เรือนจำ</td>\n",
       "      <td>กาญจนบุรี</td>\n",
       "    </tr>\n",
       "    <tr>\n",
       "      <th>839770</th>\n",
       "      <td>12/8/2021</td>\n",
       "      <td>ชาย</td>\n",
       "      <td>47.0</td>\n",
       "      <td>Thailand</td>\n",
       "      <td>กาญจนบุรี</td>\n",
       "      <td>ทัณฑสถาน/เรือนจำ</td>\n",
       "      <td>กาญจนบุรี</td>\n",
       "    </tr>\n",
       "  </tbody>\n",
       "</table>\n",
       "<p>839771 rows × 7 columns</p>\n",
       "</div>"
      ],
      "text/plain": [
       "       Notified_date   sex   age nationality province_of_isolation  \\\n",
       "0          12/1/2020  หญิง  61.0       China         กรุงเทพมหานคร   \n",
       "1          17/1/2020  หญิง  74.0       China         กรุงเทพมหานคร   \n",
       "2          22/1/2020  หญิง  73.0    Thailand                นครปฐม   \n",
       "3          22/1/2020   ชาย  68.0       China         กรุงเทพมหานคร   \n",
       "4          24/1/2020  หญิง  66.0       China               นนทบุรี   \n",
       "...              ...   ...   ...         ...                   ...   \n",
       "839766     12/8/2021   ชาย  52.0     unknown             กาญจนบุรี   \n",
       "839767     12/8/2021   ชาย  34.0    Thailand             กาญจนบุรี   \n",
       "839768     12/8/2021   ชาย  31.0    Thailand             กาญจนบุรี   \n",
       "839769     12/8/2021   ชาย  83.0    Thailand             กาญจนบุรี   \n",
       "839770     12/8/2021   ชาย  47.0    Thailand             กาญจนบุรี   \n",
       "\n",
       "                                    risk province_of_onset  \n",
       "0       คนต่างชาติเดินทางมาจากต่างประเทศ     กรุงเทพมหานคร  \n",
       "1       คนต่างชาติเดินทางมาจากต่างประเทศ     กรุงเทพมหานคร  \n",
       "2       คนต่างชาติเดินทางมาจากต่างประเทศ            นครปฐม  \n",
       "3       คนต่างชาติเดินทางมาจากต่างประเทศ     กรุงเทพมหานคร  \n",
       "4       คนต่างชาติเดินทางมาจากต่างประเทศ     กรุงเทพมหานคร  \n",
       "...                                  ...               ...  \n",
       "839766                  ทัณฑสถาน/เรือนจำ         กาญจนบุรี  \n",
       "839767                  ทัณฑสถาน/เรือนจำ         กาญจนบุรี  \n",
       "839768                  ทัณฑสถาน/เรือนจำ         กาญจนบุรี  \n",
       "839769                  ทัณฑสถาน/เรือนจำ         กาญจนบุรี  \n",
       "839770                  ทัณฑสถาน/เรือนจำ         กาญจนบุรี  \n",
       "\n",
       "[839771 rows x 7 columns]"
      ]
     },
     "execution_count": 19,
     "metadata": {},
     "output_type": "execute_result"
    }
   ],
   "source": [
    "df.province_of_onset.fillna(\"unknown\", inplace = True)\n",
    "df"
   ]
  },
  {
   "cell_type": "code",
   "execution_count": 20,
   "id": "0b33fdf0",
   "metadata": {},
   "outputs": [
    {
     "data": {
      "text/plain": [
       "Notified_date                0\n",
       "sex                          0\n",
       "age                      76165\n",
       "nationality                  0\n",
       "province_of_isolation        0\n",
       "risk                         0\n",
       "province_of_onset            0\n",
       "dtype: int64"
      ]
     },
     "execution_count": 20,
     "metadata": {},
     "output_type": "execute_result"
    }
   ],
   "source": [
    "df.isnull().sum()\n"
   ]
  },
  {
   "cell_type": "markdown",
   "id": "de393ed7",
   "metadata": {},
   "source": [
    "# แปลง Data type ของ age, จาก object to float"
   ]
  },
  {
   "cell_type": "code",
   "execution_count": 21,
   "id": "145046f6",
   "metadata": {},
   "outputs": [
    {
     "ename": "ValueError",
     "evalue": "could not convert string to float: '55/664'",
     "output_type": "error",
     "traceback": [
      "\u001b[1;31m---------------------------------------------------------------------------\u001b[0m",
      "\u001b[1;31mValueError\u001b[0m                                Traceback (most recent call last)",
      "\u001b[1;32mC:\\Users\\IKMEEU~1\\AppData\\Local\\Temp/ipykernel_3100/2479663696.py\u001b[0m in \u001b[0;36m<module>\u001b[1;34m\u001b[0m\n\u001b[1;32m----> 1\u001b[1;33m \u001b[0mdf\u001b[0m\u001b[1;33m[\u001b[0m\u001b[1;34m'age'\u001b[0m\u001b[1;33m]\u001b[0m\u001b[1;33m.\u001b[0m\u001b[0mastype\u001b[0m\u001b[1;33m(\u001b[0m\u001b[1;34m'float'\u001b[0m\u001b[1;33m)\u001b[0m\u001b[1;33m\u001b[0m\u001b[1;33m\u001b[0m\u001b[0m\n\u001b[0m\u001b[0;32m      2\u001b[0m \u001b[0mdf\u001b[0m\u001b[1;33m\u001b[0m\u001b[1;33m\u001b[0m\u001b[0m\n",
      "\u001b[1;32m~\\anaconda3\\lib\\site-packages\\pandas\\core\\generic.py\u001b[0m in \u001b[0;36mastype\u001b[1;34m(self, dtype, copy, errors)\u001b[0m\n\u001b[0;32m   5813\u001b[0m         \u001b[1;32melse\u001b[0m\u001b[1;33m:\u001b[0m\u001b[1;33m\u001b[0m\u001b[1;33m\u001b[0m\u001b[0m\n\u001b[0;32m   5814\u001b[0m             \u001b[1;31m# else, only a single dtype is given\u001b[0m\u001b[1;33m\u001b[0m\u001b[1;33m\u001b[0m\u001b[0m\n\u001b[1;32m-> 5815\u001b[1;33m             \u001b[0mnew_data\u001b[0m \u001b[1;33m=\u001b[0m \u001b[0mself\u001b[0m\u001b[1;33m.\u001b[0m\u001b[0m_mgr\u001b[0m\u001b[1;33m.\u001b[0m\u001b[0mastype\u001b[0m\u001b[1;33m(\u001b[0m\u001b[0mdtype\u001b[0m\u001b[1;33m=\u001b[0m\u001b[0mdtype\u001b[0m\u001b[1;33m,\u001b[0m \u001b[0mcopy\u001b[0m\u001b[1;33m=\u001b[0m\u001b[0mcopy\u001b[0m\u001b[1;33m,\u001b[0m \u001b[0merrors\u001b[0m\u001b[1;33m=\u001b[0m\u001b[0merrors\u001b[0m\u001b[1;33m)\u001b[0m\u001b[1;33m\u001b[0m\u001b[1;33m\u001b[0m\u001b[0m\n\u001b[0m\u001b[0;32m   5816\u001b[0m             \u001b[1;32mreturn\u001b[0m \u001b[0mself\u001b[0m\u001b[1;33m.\u001b[0m\u001b[0m_constructor\u001b[0m\u001b[1;33m(\u001b[0m\u001b[0mnew_data\u001b[0m\u001b[1;33m)\u001b[0m\u001b[1;33m.\u001b[0m\u001b[0m__finalize__\u001b[0m\u001b[1;33m(\u001b[0m\u001b[0mself\u001b[0m\u001b[1;33m,\u001b[0m \u001b[0mmethod\u001b[0m\u001b[1;33m=\u001b[0m\u001b[1;34m\"astype\"\u001b[0m\u001b[1;33m)\u001b[0m\u001b[1;33m\u001b[0m\u001b[1;33m\u001b[0m\u001b[0m\n\u001b[0;32m   5817\u001b[0m \u001b[1;33m\u001b[0m\u001b[0m\n",
      "\u001b[1;32m~\\anaconda3\\lib\\site-packages\\pandas\\core\\internals\\managers.py\u001b[0m in \u001b[0;36mastype\u001b[1;34m(self, dtype, copy, errors)\u001b[0m\n\u001b[0;32m    416\u001b[0m \u001b[1;33m\u001b[0m\u001b[0m\n\u001b[0;32m    417\u001b[0m     \u001b[1;32mdef\u001b[0m \u001b[0mastype\u001b[0m\u001b[1;33m(\u001b[0m\u001b[0mself\u001b[0m\u001b[1;33m:\u001b[0m \u001b[0mT\u001b[0m\u001b[1;33m,\u001b[0m \u001b[0mdtype\u001b[0m\u001b[1;33m,\u001b[0m \u001b[0mcopy\u001b[0m\u001b[1;33m:\u001b[0m \u001b[0mbool\u001b[0m \u001b[1;33m=\u001b[0m \u001b[1;32mFalse\u001b[0m\u001b[1;33m,\u001b[0m \u001b[0merrors\u001b[0m\u001b[1;33m:\u001b[0m \u001b[0mstr\u001b[0m \u001b[1;33m=\u001b[0m \u001b[1;34m\"raise\"\u001b[0m\u001b[1;33m)\u001b[0m \u001b[1;33m->\u001b[0m \u001b[0mT\u001b[0m\u001b[1;33m:\u001b[0m\u001b[1;33m\u001b[0m\u001b[1;33m\u001b[0m\u001b[0m\n\u001b[1;32m--> 418\u001b[1;33m         \u001b[1;32mreturn\u001b[0m \u001b[0mself\u001b[0m\u001b[1;33m.\u001b[0m\u001b[0mapply\u001b[0m\u001b[1;33m(\u001b[0m\u001b[1;34m\"astype\"\u001b[0m\u001b[1;33m,\u001b[0m \u001b[0mdtype\u001b[0m\u001b[1;33m=\u001b[0m\u001b[0mdtype\u001b[0m\u001b[1;33m,\u001b[0m \u001b[0mcopy\u001b[0m\u001b[1;33m=\u001b[0m\u001b[0mcopy\u001b[0m\u001b[1;33m,\u001b[0m \u001b[0merrors\u001b[0m\u001b[1;33m=\u001b[0m\u001b[0merrors\u001b[0m\u001b[1;33m)\u001b[0m\u001b[1;33m\u001b[0m\u001b[1;33m\u001b[0m\u001b[0m\n\u001b[0m\u001b[0;32m    419\u001b[0m \u001b[1;33m\u001b[0m\u001b[0m\n\u001b[0;32m    420\u001b[0m     def convert(\n",
      "\u001b[1;32m~\\anaconda3\\lib\\site-packages\\pandas\\core\\internals\\managers.py\u001b[0m in \u001b[0;36mapply\u001b[1;34m(self, f, align_keys, ignore_failures, **kwargs)\u001b[0m\n\u001b[0;32m    325\u001b[0m                     \u001b[0mapplied\u001b[0m \u001b[1;33m=\u001b[0m \u001b[0mb\u001b[0m\u001b[1;33m.\u001b[0m\u001b[0mapply\u001b[0m\u001b[1;33m(\u001b[0m\u001b[0mf\u001b[0m\u001b[1;33m,\u001b[0m \u001b[1;33m**\u001b[0m\u001b[0mkwargs\u001b[0m\u001b[1;33m)\u001b[0m\u001b[1;33m\u001b[0m\u001b[1;33m\u001b[0m\u001b[0m\n\u001b[0;32m    326\u001b[0m                 \u001b[1;32melse\u001b[0m\u001b[1;33m:\u001b[0m\u001b[1;33m\u001b[0m\u001b[1;33m\u001b[0m\u001b[0m\n\u001b[1;32m--> 327\u001b[1;33m                     \u001b[0mapplied\u001b[0m \u001b[1;33m=\u001b[0m \u001b[0mgetattr\u001b[0m\u001b[1;33m(\u001b[0m\u001b[0mb\u001b[0m\u001b[1;33m,\u001b[0m \u001b[0mf\u001b[0m\u001b[1;33m)\u001b[0m\u001b[1;33m(\u001b[0m\u001b[1;33m**\u001b[0m\u001b[0mkwargs\u001b[0m\u001b[1;33m)\u001b[0m\u001b[1;33m\u001b[0m\u001b[1;33m\u001b[0m\u001b[0m\n\u001b[0m\u001b[0;32m    328\u001b[0m             \u001b[1;32mexcept\u001b[0m \u001b[1;33m(\u001b[0m\u001b[0mTypeError\u001b[0m\u001b[1;33m,\u001b[0m \u001b[0mNotImplementedError\u001b[0m\u001b[1;33m)\u001b[0m\u001b[1;33m:\u001b[0m\u001b[1;33m\u001b[0m\u001b[1;33m\u001b[0m\u001b[0m\n\u001b[0;32m    329\u001b[0m                 \u001b[1;32mif\u001b[0m \u001b[1;32mnot\u001b[0m \u001b[0mignore_failures\u001b[0m\u001b[1;33m:\u001b[0m\u001b[1;33m\u001b[0m\u001b[1;33m\u001b[0m\u001b[0m\n",
      "\u001b[1;32m~\\anaconda3\\lib\\site-packages\\pandas\\core\\internals\\blocks.py\u001b[0m in \u001b[0;36mastype\u001b[1;34m(self, dtype, copy, errors)\u001b[0m\n\u001b[0;32m    589\u001b[0m         \u001b[0mvalues\u001b[0m \u001b[1;33m=\u001b[0m \u001b[0mself\u001b[0m\u001b[1;33m.\u001b[0m\u001b[0mvalues\u001b[0m\u001b[1;33m\u001b[0m\u001b[1;33m\u001b[0m\u001b[0m\n\u001b[0;32m    590\u001b[0m \u001b[1;33m\u001b[0m\u001b[0m\n\u001b[1;32m--> 591\u001b[1;33m         \u001b[0mnew_values\u001b[0m \u001b[1;33m=\u001b[0m \u001b[0mastype_array_safe\u001b[0m\u001b[1;33m(\u001b[0m\u001b[0mvalues\u001b[0m\u001b[1;33m,\u001b[0m \u001b[0mdtype\u001b[0m\u001b[1;33m,\u001b[0m \u001b[0mcopy\u001b[0m\u001b[1;33m=\u001b[0m\u001b[0mcopy\u001b[0m\u001b[1;33m,\u001b[0m \u001b[0merrors\u001b[0m\u001b[1;33m=\u001b[0m\u001b[0merrors\u001b[0m\u001b[1;33m)\u001b[0m\u001b[1;33m\u001b[0m\u001b[1;33m\u001b[0m\u001b[0m\n\u001b[0m\u001b[0;32m    592\u001b[0m \u001b[1;33m\u001b[0m\u001b[0m\n\u001b[0;32m    593\u001b[0m         \u001b[0mnew_values\u001b[0m \u001b[1;33m=\u001b[0m \u001b[0mmaybe_coerce_values\u001b[0m\u001b[1;33m(\u001b[0m\u001b[0mnew_values\u001b[0m\u001b[1;33m)\u001b[0m\u001b[1;33m\u001b[0m\u001b[1;33m\u001b[0m\u001b[0m\n",
      "\u001b[1;32m~\\anaconda3\\lib\\site-packages\\pandas\\core\\dtypes\\cast.py\u001b[0m in \u001b[0;36mastype_array_safe\u001b[1;34m(values, dtype, copy, errors)\u001b[0m\n\u001b[0;32m   1307\u001b[0m \u001b[1;33m\u001b[0m\u001b[0m\n\u001b[0;32m   1308\u001b[0m     \u001b[1;32mtry\u001b[0m\u001b[1;33m:\u001b[0m\u001b[1;33m\u001b[0m\u001b[1;33m\u001b[0m\u001b[0m\n\u001b[1;32m-> 1309\u001b[1;33m         \u001b[0mnew_values\u001b[0m \u001b[1;33m=\u001b[0m \u001b[0mastype_array\u001b[0m\u001b[1;33m(\u001b[0m\u001b[0mvalues\u001b[0m\u001b[1;33m,\u001b[0m \u001b[0mdtype\u001b[0m\u001b[1;33m,\u001b[0m \u001b[0mcopy\u001b[0m\u001b[1;33m=\u001b[0m\u001b[0mcopy\u001b[0m\u001b[1;33m)\u001b[0m\u001b[1;33m\u001b[0m\u001b[1;33m\u001b[0m\u001b[0m\n\u001b[0m\u001b[0;32m   1310\u001b[0m     \u001b[1;32mexcept\u001b[0m \u001b[1;33m(\u001b[0m\u001b[0mValueError\u001b[0m\u001b[1;33m,\u001b[0m \u001b[0mTypeError\u001b[0m\u001b[1;33m)\u001b[0m\u001b[1;33m:\u001b[0m\u001b[1;33m\u001b[0m\u001b[1;33m\u001b[0m\u001b[0m\n\u001b[0;32m   1311\u001b[0m         \u001b[1;31m# e.g. astype_nansafe can fail on object-dtype of strings\u001b[0m\u001b[1;33m\u001b[0m\u001b[1;33m\u001b[0m\u001b[0m\n",
      "\u001b[1;32m~\\anaconda3\\lib\\site-packages\\pandas\\core\\dtypes\\cast.py\u001b[0m in \u001b[0;36mastype_array\u001b[1;34m(values, dtype, copy)\u001b[0m\n\u001b[0;32m   1255\u001b[0m \u001b[1;33m\u001b[0m\u001b[0m\n\u001b[0;32m   1256\u001b[0m     \u001b[1;32melse\u001b[0m\u001b[1;33m:\u001b[0m\u001b[1;33m\u001b[0m\u001b[1;33m\u001b[0m\u001b[0m\n\u001b[1;32m-> 1257\u001b[1;33m         \u001b[0mvalues\u001b[0m \u001b[1;33m=\u001b[0m \u001b[0mastype_nansafe\u001b[0m\u001b[1;33m(\u001b[0m\u001b[0mvalues\u001b[0m\u001b[1;33m,\u001b[0m \u001b[0mdtype\u001b[0m\u001b[1;33m,\u001b[0m \u001b[0mcopy\u001b[0m\u001b[1;33m=\u001b[0m\u001b[0mcopy\u001b[0m\u001b[1;33m)\u001b[0m\u001b[1;33m\u001b[0m\u001b[1;33m\u001b[0m\u001b[0m\n\u001b[0m\u001b[0;32m   1258\u001b[0m \u001b[1;33m\u001b[0m\u001b[0m\n\u001b[0;32m   1259\u001b[0m     \u001b[1;31m# in pandas we don't store numpy str dtypes, so convert to object\u001b[0m\u001b[1;33m\u001b[0m\u001b[1;33m\u001b[0m\u001b[0m\n",
      "\u001b[1;32m~\\anaconda3\\lib\\site-packages\\pandas\\core\\dtypes\\cast.py\u001b[0m in \u001b[0;36mastype_nansafe\u001b[1;34m(arr, dtype, copy, skipna)\u001b[0m\n\u001b[0;32m   1199\u001b[0m     \u001b[1;32mif\u001b[0m \u001b[0mcopy\u001b[0m \u001b[1;32mor\u001b[0m \u001b[0mis_object_dtype\u001b[0m\u001b[1;33m(\u001b[0m\u001b[0marr\u001b[0m\u001b[1;33m.\u001b[0m\u001b[0mdtype\u001b[0m\u001b[1;33m)\u001b[0m \u001b[1;32mor\u001b[0m \u001b[0mis_object_dtype\u001b[0m\u001b[1;33m(\u001b[0m\u001b[0mdtype\u001b[0m\u001b[1;33m)\u001b[0m\u001b[1;33m:\u001b[0m\u001b[1;33m\u001b[0m\u001b[1;33m\u001b[0m\u001b[0m\n\u001b[0;32m   1200\u001b[0m         \u001b[1;31m# Explicit copy, or required since NumPy can't view from / to object.\u001b[0m\u001b[1;33m\u001b[0m\u001b[1;33m\u001b[0m\u001b[0m\n\u001b[1;32m-> 1201\u001b[1;33m         \u001b[1;32mreturn\u001b[0m \u001b[0marr\u001b[0m\u001b[1;33m.\u001b[0m\u001b[0mastype\u001b[0m\u001b[1;33m(\u001b[0m\u001b[0mdtype\u001b[0m\u001b[1;33m,\u001b[0m \u001b[0mcopy\u001b[0m\u001b[1;33m=\u001b[0m\u001b[1;32mTrue\u001b[0m\u001b[1;33m)\u001b[0m\u001b[1;33m\u001b[0m\u001b[1;33m\u001b[0m\u001b[0m\n\u001b[0m\u001b[0;32m   1202\u001b[0m \u001b[1;33m\u001b[0m\u001b[0m\n\u001b[0;32m   1203\u001b[0m     \u001b[1;32mreturn\u001b[0m \u001b[0marr\u001b[0m\u001b[1;33m.\u001b[0m\u001b[0mastype\u001b[0m\u001b[1;33m(\u001b[0m\u001b[0mdtype\u001b[0m\u001b[1;33m,\u001b[0m \u001b[0mcopy\u001b[0m\u001b[1;33m=\u001b[0m\u001b[0mcopy\u001b[0m\u001b[1;33m)\u001b[0m\u001b[1;33m\u001b[0m\u001b[1;33m\u001b[0m\u001b[0m\n",
      "\u001b[1;31mValueError\u001b[0m: could not convert string to float: '55/664'"
     ]
    }
   ],
   "source": [
    "df['age'].astype('float')\n",
    "df"
   ]
  },
  {
   "cell_type": "code",
   "execution_count": 25,
   "id": "e2eee95e",
   "metadata": {},
   "outputs": [
    {
     "data": {
      "text/html": [
       "<div>\n",
       "<style scoped>\n",
       "    .dataframe tbody tr th:only-of-type {\n",
       "        vertical-align: middle;\n",
       "    }\n",
       "\n",
       "    .dataframe tbody tr th {\n",
       "        vertical-align: top;\n",
       "    }\n",
       "\n",
       "    .dataframe thead th {\n",
       "        text-align: right;\n",
       "    }\n",
       "</style>\n",
       "<table border=\"1\" class=\"dataframe\">\n",
       "  <thead>\n",
       "    <tr style=\"text-align: right;\">\n",
       "      <th></th>\n",
       "      <th>Notified_date</th>\n",
       "      <th>sex</th>\n",
       "      <th>age</th>\n",
       "      <th>nationality</th>\n",
       "      <th>province_of_isolation</th>\n",
       "      <th>risk</th>\n",
       "      <th>province_of_onset</th>\n",
       "    </tr>\n",
       "  </thead>\n",
       "  <tbody>\n",
       "    <tr>\n",
       "      <th>0</th>\n",
       "      <td>12/1/2020</td>\n",
       "      <td>หญิง</td>\n",
       "      <td>61.0</td>\n",
       "      <td>China</td>\n",
       "      <td>กรุงเทพมหานคร</td>\n",
       "      <td>คนต่างชาติเดินทางมาจากต่างประเทศ</td>\n",
       "      <td>กรุงเทพมหานคร</td>\n",
       "    </tr>\n",
       "    <tr>\n",
       "      <th>1</th>\n",
       "      <td>17/1/2020</td>\n",
       "      <td>หญิง</td>\n",
       "      <td>74.0</td>\n",
       "      <td>China</td>\n",
       "      <td>กรุงเทพมหานคร</td>\n",
       "      <td>คนต่างชาติเดินทางมาจากต่างประเทศ</td>\n",
       "      <td>กรุงเทพมหานคร</td>\n",
       "    </tr>\n",
       "    <tr>\n",
       "      <th>2</th>\n",
       "      <td>22/1/2020</td>\n",
       "      <td>หญิง</td>\n",
       "      <td>73.0</td>\n",
       "      <td>Thailand</td>\n",
       "      <td>นครปฐม</td>\n",
       "      <td>คนต่างชาติเดินทางมาจากต่างประเทศ</td>\n",
       "      <td>นครปฐม</td>\n",
       "    </tr>\n",
       "    <tr>\n",
       "      <th>3</th>\n",
       "      <td>22/1/2020</td>\n",
       "      <td>ชาย</td>\n",
       "      <td>68.0</td>\n",
       "      <td>China</td>\n",
       "      <td>กรุงเทพมหานคร</td>\n",
       "      <td>คนต่างชาติเดินทางมาจากต่างประเทศ</td>\n",
       "      <td>กรุงเทพมหานคร</td>\n",
       "    </tr>\n",
       "    <tr>\n",
       "      <th>4</th>\n",
       "      <td>24/1/2020</td>\n",
       "      <td>หญิง</td>\n",
       "      <td>66.0</td>\n",
       "      <td>China</td>\n",
       "      <td>นนทบุรี</td>\n",
       "      <td>คนต่างชาติเดินทางมาจากต่างประเทศ</td>\n",
       "      <td>กรุงเทพมหานคร</td>\n",
       "    </tr>\n",
       "    <tr>\n",
       "      <th>...</th>\n",
       "      <td>...</td>\n",
       "      <td>...</td>\n",
       "      <td>...</td>\n",
       "      <td>...</td>\n",
       "      <td>...</td>\n",
       "      <td>...</td>\n",
       "      <td>...</td>\n",
       "    </tr>\n",
       "    <tr>\n",
       "      <th>839766</th>\n",
       "      <td>12/8/2021</td>\n",
       "      <td>ชาย</td>\n",
       "      <td>52.0</td>\n",
       "      <td>unknown</td>\n",
       "      <td>กาญจนบุรี</td>\n",
       "      <td>ทัณฑสถาน/เรือนจำ</td>\n",
       "      <td>กาญจนบุรี</td>\n",
       "    </tr>\n",
       "    <tr>\n",
       "      <th>839767</th>\n",
       "      <td>12/8/2021</td>\n",
       "      <td>ชาย</td>\n",
       "      <td>34.0</td>\n",
       "      <td>Thailand</td>\n",
       "      <td>กาญจนบุรี</td>\n",
       "      <td>ทัณฑสถาน/เรือนจำ</td>\n",
       "      <td>กาญจนบุรี</td>\n",
       "    </tr>\n",
       "    <tr>\n",
       "      <th>839768</th>\n",
       "      <td>12/8/2021</td>\n",
       "      <td>ชาย</td>\n",
       "      <td>31.0</td>\n",
       "      <td>Thailand</td>\n",
       "      <td>กาญจนบุรี</td>\n",
       "      <td>ทัณฑสถาน/เรือนจำ</td>\n",
       "      <td>กาญจนบุรี</td>\n",
       "    </tr>\n",
       "    <tr>\n",
       "      <th>839769</th>\n",
       "      <td>12/8/2021</td>\n",
       "      <td>ชาย</td>\n",
       "      <td>83.0</td>\n",
       "      <td>Thailand</td>\n",
       "      <td>กาญจนบุรี</td>\n",
       "      <td>ทัณฑสถาน/เรือนจำ</td>\n",
       "      <td>กาญจนบุรี</td>\n",
       "    </tr>\n",
       "    <tr>\n",
       "      <th>839770</th>\n",
       "      <td>12/8/2021</td>\n",
       "      <td>ชาย</td>\n",
       "      <td>47.0</td>\n",
       "      <td>Thailand</td>\n",
       "      <td>กาญจนบุรี</td>\n",
       "      <td>ทัณฑสถาน/เรือนจำ</td>\n",
       "      <td>กาญจนบุรี</td>\n",
       "    </tr>\n",
       "  </tbody>\n",
       "</table>\n",
       "<p>839771 rows × 7 columns</p>\n",
       "</div>"
      ],
      "text/plain": [
       "       Notified_date   sex   age nationality province_of_isolation  \\\n",
       "0          12/1/2020  หญิง  61.0       China         กรุงเทพมหานคร   \n",
       "1          17/1/2020  หญิง  74.0       China         กรุงเทพมหานคร   \n",
       "2          22/1/2020  หญิง  73.0    Thailand                นครปฐม   \n",
       "3          22/1/2020   ชาย  68.0       China         กรุงเทพมหานคร   \n",
       "4          24/1/2020  หญิง  66.0       China               นนทบุรี   \n",
       "...              ...   ...   ...         ...                   ...   \n",
       "839766     12/8/2021   ชาย  52.0     unknown             กาญจนบุรี   \n",
       "839767     12/8/2021   ชาย  34.0    Thailand             กาญจนบุรี   \n",
       "839768     12/8/2021   ชาย  31.0    Thailand             กาญจนบุรี   \n",
       "839769     12/8/2021   ชาย  83.0    Thailand             กาญจนบุรี   \n",
       "839770     12/8/2021   ชาย  47.0    Thailand             กาญจนบุรี   \n",
       "\n",
       "                                    risk province_of_onset  \n",
       "0       คนต่างชาติเดินทางมาจากต่างประเทศ     กรุงเทพมหานคร  \n",
       "1       คนต่างชาติเดินทางมาจากต่างประเทศ     กรุงเทพมหานคร  \n",
       "2       คนต่างชาติเดินทางมาจากต่างประเทศ            นครปฐม  \n",
       "3       คนต่างชาติเดินทางมาจากต่างประเทศ     กรุงเทพมหานคร  \n",
       "4       คนต่างชาติเดินทางมาจากต่างประเทศ     กรุงเทพมหานคร  \n",
       "...                                  ...               ...  \n",
       "839766                  ทัณฑสถาน/เรือนจำ         กาญจนบุรี  \n",
       "839767                  ทัณฑสถาน/เรือนจำ         กาญจนบุรี  \n",
       "839768                  ทัณฑสถาน/เรือนจำ         กาญจนบุรี  \n",
       "839769                  ทัณฑสถาน/เรือนจำ         กาญจนบุรี  \n",
       "839770                  ทัณฑสถาน/เรือนจำ         กาญจนบุรี  \n",
       "\n",
       "[839771 rows x 7 columns]"
      ]
     },
     "execution_count": 25,
     "metadata": {},
     "output_type": "execute_result"
    }
   ],
   "source": [
    "df['age'] = pd.to_numeric(df['age'], errors='coerce')\n",
    "df"
   ]
  },
  {
   "cell_type": "code",
   "execution_count": 26,
   "id": "09605f84",
   "metadata": {},
   "outputs": [
    {
     "data": {
      "text/plain": [
       "dtype('float64')"
      ]
     },
     "execution_count": 26,
     "metadata": {},
     "output_type": "execute_result"
    }
   ],
   "source": [
    "df['age'] .dtype"
   ]
  },
  {
   "cell_type": "markdown",
   "id": "cd386e51",
   "metadata": {},
   "source": [
    "Deal missing value 'age' with mean value"
   ]
  },
  {
   "cell_type": "code",
   "execution_count": 27,
   "id": "b536bd1d",
   "metadata": {},
   "outputs": [
    {
     "data": {
      "text/plain": [
       "35.70010851159958"
      ]
     },
     "execution_count": 27,
     "metadata": {},
     "output_type": "execute_result"
    }
   ],
   "source": [
    "mean_age = np.mean(df.age)    \n",
    "mean_age                           #Get the mean value"
   ]
  },
  {
   "cell_type": "code",
   "execution_count": 28,
   "id": "87893fa2",
   "metadata": {},
   "outputs": [
    {
     "data": {
      "text/html": [
       "<div>\n",
       "<style scoped>\n",
       "    .dataframe tbody tr th:only-of-type {\n",
       "        vertical-align: middle;\n",
       "    }\n",
       "\n",
       "    .dataframe tbody tr th {\n",
       "        vertical-align: top;\n",
       "    }\n",
       "\n",
       "    .dataframe thead th {\n",
       "        text-align: right;\n",
       "    }\n",
       "</style>\n",
       "<table border=\"1\" class=\"dataframe\">\n",
       "  <thead>\n",
       "    <tr style=\"text-align: right;\">\n",
       "      <th></th>\n",
       "      <th>Notified_date</th>\n",
       "      <th>sex</th>\n",
       "      <th>age</th>\n",
       "      <th>nationality</th>\n",
       "      <th>province_of_isolation</th>\n",
       "      <th>risk</th>\n",
       "      <th>province_of_onset</th>\n",
       "    </tr>\n",
       "  </thead>\n",
       "  <tbody>\n",
       "    <tr>\n",
       "      <th>0</th>\n",
       "      <td>12/1/2020</td>\n",
       "      <td>หญิง</td>\n",
       "      <td>61.0</td>\n",
       "      <td>China</td>\n",
       "      <td>กรุงเทพมหานคร</td>\n",
       "      <td>คนต่างชาติเดินทางมาจากต่างประเทศ</td>\n",
       "      <td>กรุงเทพมหานคร</td>\n",
       "    </tr>\n",
       "    <tr>\n",
       "      <th>1</th>\n",
       "      <td>17/1/2020</td>\n",
       "      <td>หญิง</td>\n",
       "      <td>74.0</td>\n",
       "      <td>China</td>\n",
       "      <td>กรุงเทพมหานคร</td>\n",
       "      <td>คนต่างชาติเดินทางมาจากต่างประเทศ</td>\n",
       "      <td>กรุงเทพมหานคร</td>\n",
       "    </tr>\n",
       "    <tr>\n",
       "      <th>2</th>\n",
       "      <td>22/1/2020</td>\n",
       "      <td>หญิง</td>\n",
       "      <td>73.0</td>\n",
       "      <td>Thailand</td>\n",
       "      <td>นครปฐม</td>\n",
       "      <td>คนต่างชาติเดินทางมาจากต่างประเทศ</td>\n",
       "      <td>นครปฐม</td>\n",
       "    </tr>\n",
       "    <tr>\n",
       "      <th>3</th>\n",
       "      <td>22/1/2020</td>\n",
       "      <td>ชาย</td>\n",
       "      <td>68.0</td>\n",
       "      <td>China</td>\n",
       "      <td>กรุงเทพมหานคร</td>\n",
       "      <td>คนต่างชาติเดินทางมาจากต่างประเทศ</td>\n",
       "      <td>กรุงเทพมหานคร</td>\n",
       "    </tr>\n",
       "    <tr>\n",
       "      <th>4</th>\n",
       "      <td>24/1/2020</td>\n",
       "      <td>หญิง</td>\n",
       "      <td>66.0</td>\n",
       "      <td>China</td>\n",
       "      <td>นนทบุรี</td>\n",
       "      <td>คนต่างชาติเดินทางมาจากต่างประเทศ</td>\n",
       "      <td>กรุงเทพมหานคร</td>\n",
       "    </tr>\n",
       "    <tr>\n",
       "      <th>...</th>\n",
       "      <td>...</td>\n",
       "      <td>...</td>\n",
       "      <td>...</td>\n",
       "      <td>...</td>\n",
       "      <td>...</td>\n",
       "      <td>...</td>\n",
       "      <td>...</td>\n",
       "    </tr>\n",
       "    <tr>\n",
       "      <th>839766</th>\n",
       "      <td>12/8/2021</td>\n",
       "      <td>ชาย</td>\n",
       "      <td>52.0</td>\n",
       "      <td>unknown</td>\n",
       "      <td>กาญจนบุรี</td>\n",
       "      <td>ทัณฑสถาน/เรือนจำ</td>\n",
       "      <td>กาญจนบุรี</td>\n",
       "    </tr>\n",
       "    <tr>\n",
       "      <th>839767</th>\n",
       "      <td>12/8/2021</td>\n",
       "      <td>ชาย</td>\n",
       "      <td>34.0</td>\n",
       "      <td>Thailand</td>\n",
       "      <td>กาญจนบุรี</td>\n",
       "      <td>ทัณฑสถาน/เรือนจำ</td>\n",
       "      <td>กาญจนบุรี</td>\n",
       "    </tr>\n",
       "    <tr>\n",
       "      <th>839768</th>\n",
       "      <td>12/8/2021</td>\n",
       "      <td>ชาย</td>\n",
       "      <td>31.0</td>\n",
       "      <td>Thailand</td>\n",
       "      <td>กาญจนบุรี</td>\n",
       "      <td>ทัณฑสถาน/เรือนจำ</td>\n",
       "      <td>กาญจนบุรี</td>\n",
       "    </tr>\n",
       "    <tr>\n",
       "      <th>839769</th>\n",
       "      <td>12/8/2021</td>\n",
       "      <td>ชาย</td>\n",
       "      <td>83.0</td>\n",
       "      <td>Thailand</td>\n",
       "      <td>กาญจนบุรี</td>\n",
       "      <td>ทัณฑสถาน/เรือนจำ</td>\n",
       "      <td>กาญจนบุรี</td>\n",
       "    </tr>\n",
       "    <tr>\n",
       "      <th>839770</th>\n",
       "      <td>12/8/2021</td>\n",
       "      <td>ชาย</td>\n",
       "      <td>47.0</td>\n",
       "      <td>Thailand</td>\n",
       "      <td>กาญจนบุรี</td>\n",
       "      <td>ทัณฑสถาน/เรือนจำ</td>\n",
       "      <td>กาญจนบุรี</td>\n",
       "    </tr>\n",
       "  </tbody>\n",
       "</table>\n",
       "<p>839771 rows × 7 columns</p>\n",
       "</div>"
      ],
      "text/plain": [
       "       Notified_date   sex   age nationality province_of_isolation  \\\n",
       "0          12/1/2020  หญิง  61.0       China         กรุงเทพมหานคร   \n",
       "1          17/1/2020  หญิง  74.0       China         กรุงเทพมหานคร   \n",
       "2          22/1/2020  หญิง  73.0    Thailand                นครปฐม   \n",
       "3          22/1/2020   ชาย  68.0       China         กรุงเทพมหานคร   \n",
       "4          24/1/2020  หญิง  66.0       China               นนทบุรี   \n",
       "...              ...   ...   ...         ...                   ...   \n",
       "839766     12/8/2021   ชาย  52.0     unknown             กาญจนบุรี   \n",
       "839767     12/8/2021   ชาย  34.0    Thailand             กาญจนบุรี   \n",
       "839768     12/8/2021   ชาย  31.0    Thailand             กาญจนบุรี   \n",
       "839769     12/8/2021   ชาย  83.0    Thailand             กาญจนบุรี   \n",
       "839770     12/8/2021   ชาย  47.0    Thailand             กาญจนบุรี   \n",
       "\n",
       "                                    risk province_of_onset  \n",
       "0       คนต่างชาติเดินทางมาจากต่างประเทศ     กรุงเทพมหานคร  \n",
       "1       คนต่างชาติเดินทางมาจากต่างประเทศ     กรุงเทพมหานคร  \n",
       "2       คนต่างชาติเดินทางมาจากต่างประเทศ            นครปฐม  \n",
       "3       คนต่างชาติเดินทางมาจากต่างประเทศ     กรุงเทพมหานคร  \n",
       "4       คนต่างชาติเดินทางมาจากต่างประเทศ     กรุงเทพมหานคร  \n",
       "...                                  ...               ...  \n",
       "839766                  ทัณฑสถาน/เรือนจำ         กาญจนบุรี  \n",
       "839767                  ทัณฑสถาน/เรือนจำ         กาญจนบุรี  \n",
       "839768                  ทัณฑสถาน/เรือนจำ         กาญจนบุรี  \n",
       "839769                  ทัณฑสถาน/เรือนจำ         กาญจนบุรี  \n",
       "839770                  ทัณฑสถาน/เรือนจำ         กาญจนบุรี  \n",
       "\n",
       "[839771 rows x 7 columns]"
      ]
     },
     "execution_count": 28,
     "metadata": {},
     "output_type": "execute_result"
    }
   ],
   "source": [
    "df.age.fillna(mean_age, inplace = True)             #จะใช้ค่าเฉลี่ยแทนค่าว่าง\n",
    "df"
   ]
  },
  {
   "cell_type": "markdown",
   "id": "68037cd7",
   "metadata": {},
   "source": [
    "# Filtering "
   ]
  },
  {
   "cell_type": "markdown",
   "id": "7f8c5e52",
   "metadata": {},
   "source": [
    "กำหนดให้ผู้ที่มีอายุ\n",
    "ตำ่กว่า 13 ปี = วัยเด็ก,\n",
    "13-20 ปี = วัยรุ่น,\n",
    "21-60 ปี = วัยผู้ใหญ่,\n",
    "61 ปี ขึ้นไป = วัยชรา"
   ]
  },
  {
   "cell_type": "code",
   "execution_count": 29,
   "id": "5b7c69c7",
   "metadata": {},
   "outputs": [
    {
     "data": {
      "text/html": [
       "<div>\n",
       "<style scoped>\n",
       "    .dataframe tbody tr th:only-of-type {\n",
       "        vertical-align: middle;\n",
       "    }\n",
       "\n",
       "    .dataframe tbody tr th {\n",
       "        vertical-align: top;\n",
       "    }\n",
       "\n",
       "    .dataframe thead th {\n",
       "        text-align: right;\n",
       "    }\n",
       "</style>\n",
       "<table border=\"1\" class=\"dataframe\">\n",
       "  <thead>\n",
       "    <tr style=\"text-align: right;\">\n",
       "      <th></th>\n",
       "      <th>Notified_date</th>\n",
       "      <th>sex</th>\n",
       "      <th>age</th>\n",
       "      <th>nationality</th>\n",
       "      <th>province_of_isolation</th>\n",
       "      <th>risk</th>\n",
       "      <th>province_of_onset</th>\n",
       "      <th>Agegroup</th>\n",
       "    </tr>\n",
       "  </thead>\n",
       "  <tbody>\n",
       "    <tr>\n",
       "      <th>0</th>\n",
       "      <td>12/1/2020</td>\n",
       "      <td>หญิง</td>\n",
       "      <td>61.0</td>\n",
       "      <td>China</td>\n",
       "      <td>กรุงเทพมหานคร</td>\n",
       "      <td>คนต่างชาติเดินทางมาจากต่างประเทศ</td>\n",
       "      <td>กรุงเทพมหานคร</td>\n",
       "      <td>old</td>\n",
       "    </tr>\n",
       "    <tr>\n",
       "      <th>1</th>\n",
       "      <td>17/1/2020</td>\n",
       "      <td>หญิง</td>\n",
       "      <td>74.0</td>\n",
       "      <td>China</td>\n",
       "      <td>กรุงเทพมหานคร</td>\n",
       "      <td>คนต่างชาติเดินทางมาจากต่างประเทศ</td>\n",
       "      <td>กรุงเทพมหานคร</td>\n",
       "      <td>old</td>\n",
       "    </tr>\n",
       "    <tr>\n",
       "      <th>2</th>\n",
       "      <td>22/1/2020</td>\n",
       "      <td>หญิง</td>\n",
       "      <td>73.0</td>\n",
       "      <td>Thailand</td>\n",
       "      <td>นครปฐม</td>\n",
       "      <td>คนต่างชาติเดินทางมาจากต่างประเทศ</td>\n",
       "      <td>นครปฐม</td>\n",
       "      <td>old</td>\n",
       "    </tr>\n",
       "    <tr>\n",
       "      <th>3</th>\n",
       "      <td>22/1/2020</td>\n",
       "      <td>ชาย</td>\n",
       "      <td>68.0</td>\n",
       "      <td>China</td>\n",
       "      <td>กรุงเทพมหานคร</td>\n",
       "      <td>คนต่างชาติเดินทางมาจากต่างประเทศ</td>\n",
       "      <td>กรุงเทพมหานคร</td>\n",
       "      <td>old</td>\n",
       "    </tr>\n",
       "    <tr>\n",
       "      <th>4</th>\n",
       "      <td>24/1/2020</td>\n",
       "      <td>หญิง</td>\n",
       "      <td>66.0</td>\n",
       "      <td>China</td>\n",
       "      <td>นนทบุรี</td>\n",
       "      <td>คนต่างชาติเดินทางมาจากต่างประเทศ</td>\n",
       "      <td>กรุงเทพมหานคร</td>\n",
       "      <td>old</td>\n",
       "    </tr>\n",
       "    <tr>\n",
       "      <th>...</th>\n",
       "      <td>...</td>\n",
       "      <td>...</td>\n",
       "      <td>...</td>\n",
       "      <td>...</td>\n",
       "      <td>...</td>\n",
       "      <td>...</td>\n",
       "      <td>...</td>\n",
       "      <td>...</td>\n",
       "    </tr>\n",
       "    <tr>\n",
       "      <th>839766</th>\n",
       "      <td>12/8/2021</td>\n",
       "      <td>ชาย</td>\n",
       "      <td>52.0</td>\n",
       "      <td>unknown</td>\n",
       "      <td>กาญจนบุรี</td>\n",
       "      <td>ทัณฑสถาน/เรือนจำ</td>\n",
       "      <td>กาญจนบุรี</td>\n",
       "      <td>young</td>\n",
       "    </tr>\n",
       "    <tr>\n",
       "      <th>839767</th>\n",
       "      <td>12/8/2021</td>\n",
       "      <td>ชาย</td>\n",
       "      <td>34.0</td>\n",
       "      <td>Thailand</td>\n",
       "      <td>กาญจนบุรี</td>\n",
       "      <td>ทัณฑสถาน/เรือนจำ</td>\n",
       "      <td>กาญจนบุรี</td>\n",
       "      <td>young</td>\n",
       "    </tr>\n",
       "    <tr>\n",
       "      <th>839768</th>\n",
       "      <td>12/8/2021</td>\n",
       "      <td>ชาย</td>\n",
       "      <td>31.0</td>\n",
       "      <td>Thailand</td>\n",
       "      <td>กาญจนบุรี</td>\n",
       "      <td>ทัณฑสถาน/เรือนจำ</td>\n",
       "      <td>กาญจนบุรี</td>\n",
       "      <td>young</td>\n",
       "    </tr>\n",
       "    <tr>\n",
       "      <th>839769</th>\n",
       "      <td>12/8/2021</td>\n",
       "      <td>ชาย</td>\n",
       "      <td>83.0</td>\n",
       "      <td>Thailand</td>\n",
       "      <td>กาญจนบุรี</td>\n",
       "      <td>ทัณฑสถาน/เรือนจำ</td>\n",
       "      <td>กาญจนบุรี</td>\n",
       "      <td>old</td>\n",
       "    </tr>\n",
       "    <tr>\n",
       "      <th>839770</th>\n",
       "      <td>12/8/2021</td>\n",
       "      <td>ชาย</td>\n",
       "      <td>47.0</td>\n",
       "      <td>Thailand</td>\n",
       "      <td>กาญจนบุรี</td>\n",
       "      <td>ทัณฑสถาน/เรือนจำ</td>\n",
       "      <td>กาญจนบุรี</td>\n",
       "      <td>young</td>\n",
       "    </tr>\n",
       "  </tbody>\n",
       "</table>\n",
       "<p>839771 rows × 8 columns</p>\n",
       "</div>"
      ],
      "text/plain": [
       "       Notified_date   sex   age nationality province_of_isolation  \\\n",
       "0          12/1/2020  หญิง  61.0       China         กรุงเทพมหานคร   \n",
       "1          17/1/2020  หญิง  74.0       China         กรุงเทพมหานคร   \n",
       "2          22/1/2020  หญิง  73.0    Thailand                นครปฐม   \n",
       "3          22/1/2020   ชาย  68.0       China         กรุงเทพมหานคร   \n",
       "4          24/1/2020  หญิง  66.0       China               นนทบุรี   \n",
       "...              ...   ...   ...         ...                   ...   \n",
       "839766     12/8/2021   ชาย  52.0     unknown             กาญจนบุรี   \n",
       "839767     12/8/2021   ชาย  34.0    Thailand             กาญจนบุรี   \n",
       "839768     12/8/2021   ชาย  31.0    Thailand             กาญจนบุรี   \n",
       "839769     12/8/2021   ชาย  83.0    Thailand             กาญจนบุรี   \n",
       "839770     12/8/2021   ชาย  47.0    Thailand             กาญจนบุรี   \n",
       "\n",
       "                                    risk province_of_onset Agegroup  \n",
       "0       คนต่างชาติเดินทางมาจากต่างประเทศ     กรุงเทพมหานคร      old  \n",
       "1       คนต่างชาติเดินทางมาจากต่างประเทศ     กรุงเทพมหานคร      old  \n",
       "2       คนต่างชาติเดินทางมาจากต่างประเทศ            นครปฐม      old  \n",
       "3       คนต่างชาติเดินทางมาจากต่างประเทศ     กรุงเทพมหานคร      old  \n",
       "4       คนต่างชาติเดินทางมาจากต่างประเทศ     กรุงเทพมหานคร      old  \n",
       "...                                  ...               ...      ...  \n",
       "839766                  ทัณฑสถาน/เรือนจำ         กาญจนบุรี    young  \n",
       "839767                  ทัณฑสถาน/เรือนจำ         กาญจนบุรี    young  \n",
       "839768                  ทัณฑสถาน/เรือนจำ         กาญจนบุรี    young  \n",
       "839769                  ทัณฑสถาน/เรือนจำ         กาญจนบุรี      old  \n",
       "839770                  ทัณฑสถาน/เรือนจำ         กาญจนบุรี    young  \n",
       "\n",
       "[839771 rows x 8 columns]"
      ]
     },
     "execution_count": 29,
     "metadata": {},
     "output_type": "execute_result"
    }
   ],
   "source": [
    "df.loc[(df.age < 13), 'Agegroup'] = 'kid'\n",
    "df.loc[(df.age >=20), 'Agegroup'] = 'young'\n",
    "df.loc[(df.age >=60), 'Agegroup'] = 'adult'\n",
    "df.loc[(df.age >60), 'Agegroup'] = 'old'\n",
    "\n",
    "df"
   ]
  },
  {
   "cell_type": "code",
   "execution_count": 30,
   "id": "9ce22565",
   "metadata": {},
   "outputs": [
    {
     "data": {
      "text/html": [
       "<div>\n",
       "<style scoped>\n",
       "    .dataframe tbody tr th:only-of-type {\n",
       "        vertical-align: middle;\n",
       "    }\n",
       "\n",
       "    .dataframe tbody tr th {\n",
       "        vertical-align: top;\n",
       "    }\n",
       "\n",
       "    .dataframe thead th {\n",
       "        text-align: right;\n",
       "    }\n",
       "</style>\n",
       "<table border=\"1\" class=\"dataframe\">\n",
       "  <thead>\n",
       "    <tr style=\"text-align: right;\">\n",
       "      <th></th>\n",
       "      <th>Notified_date</th>\n",
       "      <th>sex</th>\n",
       "      <th>age</th>\n",
       "      <th>nationality</th>\n",
       "      <th>province_of_isolation</th>\n",
       "      <th>risk</th>\n",
       "      <th>province_of_onset</th>\n",
       "      <th>Agegroup</th>\n",
       "    </tr>\n",
       "  </thead>\n",
       "  <tbody>\n",
       "    <tr>\n",
       "      <th>53014</th>\n",
       "      <td>24/4/2021</td>\n",
       "      <td>ชาย</td>\n",
       "      <td>60.0</td>\n",
       "      <td>Thailand</td>\n",
       "      <td>ระนอง</td>\n",
       "      <td>ไปสถานที่ชุมชน เช่น ตลาดนัด สถานที่ท่องเที่ยว</td>\n",
       "      <td>ระนอง</td>\n",
       "      <td>adult</td>\n",
       "    </tr>\n",
       "    <tr>\n",
       "      <th>53691</th>\n",
       "      <td>25/4/2021</td>\n",
       "      <td>หญิง</td>\n",
       "      <td>60.0</td>\n",
       "      <td>Thailand</td>\n",
       "      <td>ราชบุรี</td>\n",
       "      <td>สัมผัสใกล้ชิดกับผู้ป่วยยืนยันรายก่อนหน้านี้</td>\n",
       "      <td>ราชบุรี</td>\n",
       "      <td>adult</td>\n",
       "    </tr>\n",
       "    <tr>\n",
       "      <th>153693</th>\n",
       "      <td>30/5/2021</td>\n",
       "      <td>ชาย</td>\n",
       "      <td>60.0</td>\n",
       "      <td>Thailand</td>\n",
       "      <td>นนทบุรี</td>\n",
       "      <td>ทัณฑสถาน/เรือนจำ</td>\n",
       "      <td>นนทบุรี</td>\n",
       "      <td>adult</td>\n",
       "    </tr>\n",
       "    <tr>\n",
       "      <th>7191</th>\n",
       "      <td>2/1/2021</td>\n",
       "      <td>ชาย</td>\n",
       "      <td>60.0</td>\n",
       "      <td>Thailand</td>\n",
       "      <td>กรุงเทพมหานคร</td>\n",
       "      <td>สถานบันเทิง</td>\n",
       "      <td>กรุงเทพมหานคร</td>\n",
       "      <td>adult</td>\n",
       "    </tr>\n",
       "    <tr>\n",
       "      <th>519125</th>\n",
       "      <td>27/7/2021</td>\n",
       "      <td>หญิง</td>\n",
       "      <td>60.0</td>\n",
       "      <td>Thailand</td>\n",
       "      <td>ฉะเชิงเทรา</td>\n",
       "      <td>สัมผัสใกล้ชิดกับผู้ป่วยยืนยันรายก่อนหน้านี้</td>\n",
       "      <td>ฉะเชิงเทรา</td>\n",
       "      <td>adult</td>\n",
       "    </tr>\n",
       "    <tr>\n",
       "      <th>...</th>\n",
       "      <td>...</td>\n",
       "      <td>...</td>\n",
       "      <td>...</td>\n",
       "      <td>...</td>\n",
       "      <td>...</td>\n",
       "      <td>...</td>\n",
       "      <td>...</td>\n",
       "      <td>...</td>\n",
       "    </tr>\n",
       "    <tr>\n",
       "      <th>839377</th>\n",
       "      <td>12/8/2021</td>\n",
       "      <td>หญิง</td>\n",
       "      <td>15.0</td>\n",
       "      <td>Thailand</td>\n",
       "      <td>กรุงเทพมหานคร</td>\n",
       "      <td>การค้นหาผู้ป่วยเชิงรุกและค้นหาผู้ติดเชื้อในชุมชน</td>\n",
       "      <td>สมุทรปราการ</td>\n",
       "      <td>NaN</td>\n",
       "    </tr>\n",
       "    <tr>\n",
       "      <th>839441</th>\n",
       "      <td>12/8/2021</td>\n",
       "      <td>ชาย</td>\n",
       "      <td>19.0</td>\n",
       "      <td>Thailand</td>\n",
       "      <td>ชลบุรี</td>\n",
       "      <td>ทัณฑสถาน/เรือนจำ</td>\n",
       "      <td>ชลบุรี</td>\n",
       "      <td>NaN</td>\n",
       "    </tr>\n",
       "    <tr>\n",
       "      <th>839484</th>\n",
       "      <td>12/8/2021</td>\n",
       "      <td>ชาย</td>\n",
       "      <td>18.0</td>\n",
       "      <td>Thailand</td>\n",
       "      <td>อุบลราชธานี</td>\n",
       "      <td>ทัณฑสถาน/เรือนจำ</td>\n",
       "      <td>อุบลราชธานี</td>\n",
       "      <td>NaN</td>\n",
       "    </tr>\n",
       "    <tr>\n",
       "      <th>839500</th>\n",
       "      <td>12/8/2021</td>\n",
       "      <td>ชาย</td>\n",
       "      <td>19.0</td>\n",
       "      <td>Thailand</td>\n",
       "      <td>อุบลราชธานี</td>\n",
       "      <td>ทัณฑสถาน/เรือนจำ</td>\n",
       "      <td>อุบลราชธานี</td>\n",
       "      <td>NaN</td>\n",
       "    </tr>\n",
       "    <tr>\n",
       "      <th>839721</th>\n",
       "      <td>12/8/2021</td>\n",
       "      <td>ชาย</td>\n",
       "      <td>19.0</td>\n",
       "      <td>Thailand</td>\n",
       "      <td>กาญจนบุรี</td>\n",
       "      <td>ทัณฑสถาน/เรือนจำ</td>\n",
       "      <td>กาญจนบุรี</td>\n",
       "      <td>NaN</td>\n",
       "    </tr>\n",
       "  </tbody>\n",
       "</table>\n",
       "<p>839771 rows × 8 columns</p>\n",
       "</div>"
      ],
      "text/plain": [
       "       Notified_date   sex   age nationality province_of_isolation  \\\n",
       "53014      24/4/2021   ชาย  60.0    Thailand                 ระนอง   \n",
       "53691      25/4/2021  หญิง  60.0    Thailand               ราชบุรี   \n",
       "153693     30/5/2021   ชาย  60.0    Thailand               นนทบุรี   \n",
       "7191        2/1/2021   ชาย  60.0    Thailand         กรุงเทพมหานคร   \n",
       "519125     27/7/2021  หญิง  60.0    Thailand            ฉะเชิงเทรา   \n",
       "...              ...   ...   ...         ...                   ...   \n",
       "839377     12/8/2021  หญิง  15.0    Thailand         กรุงเทพมหานคร   \n",
       "839441     12/8/2021   ชาย  19.0    Thailand                ชลบุรี   \n",
       "839484     12/8/2021   ชาย  18.0    Thailand           อุบลราชธานี   \n",
       "839500     12/8/2021   ชาย  19.0    Thailand           อุบลราชธานี   \n",
       "839721     12/8/2021   ชาย  19.0    Thailand             กาญจนบุรี   \n",
       "\n",
       "                                                    risk province_of_onset  \\\n",
       "53014      ไปสถานที่ชุมชน เช่น ตลาดนัด สถานที่ท่องเที่ยว             ระนอง   \n",
       "53691        สัมผัสใกล้ชิดกับผู้ป่วยยืนยันรายก่อนหน้านี้           ราชบุรี   \n",
       "153693                                  ทัณฑสถาน/เรือนจำ           นนทบุรี   \n",
       "7191                                         สถานบันเทิง     กรุงเทพมหานคร   \n",
       "519125       สัมผัสใกล้ชิดกับผู้ป่วยยืนยันรายก่อนหน้านี้        ฉะเชิงเทรา   \n",
       "...                                                  ...               ...   \n",
       "839377  การค้นหาผู้ป่วยเชิงรุกและค้นหาผู้ติดเชื้อในชุมชน       สมุทรปราการ   \n",
       "839441                                  ทัณฑสถาน/เรือนจำ            ชลบุรี   \n",
       "839484                                  ทัณฑสถาน/เรือนจำ       อุบลราชธานี   \n",
       "839500                                  ทัณฑสถาน/เรือนจำ       อุบลราชธานี   \n",
       "839721                                  ทัณฑสถาน/เรือนจำ         กาญจนบุรี   \n",
       "\n",
       "       Agegroup  \n",
       "53014     adult  \n",
       "53691     adult  \n",
       "153693    adult  \n",
       "7191      adult  \n",
       "519125    adult  \n",
       "...         ...  \n",
       "839377      NaN  \n",
       "839441      NaN  \n",
       "839484      NaN  \n",
       "839500      NaN  \n",
       "839721      NaN  \n",
       "\n",
       "[839771 rows x 8 columns]"
      ]
     },
     "execution_count": 30,
     "metadata": {},
     "output_type": "execute_result"
    }
   ],
   "source": [
    "df.sort_values(by = 'Agegroup', ascending = True, inplace = True)\n",
    "df"
   ]
  },
  {
   "cell_type": "code",
   "execution_count": 31,
   "id": "2c7bebbd",
   "metadata": {},
   "outputs": [
    {
     "data": {
      "text/plain": [
       "47804"
      ]
     },
     "execution_count": 31,
     "metadata": {},
     "output_type": "execute_result"
    }
   ],
   "source": [
    "df.Agegroup.isnull().sum()"
   ]
  },
  {
   "cell_type": "code",
   "execution_count": 32,
   "id": "eecd6b55",
   "metadata": {},
   "outputs": [
    {
     "data": {
      "text/html": [
       "<div>\n",
       "<style scoped>\n",
       "    .dataframe tbody tr th:only-of-type {\n",
       "        vertical-align: middle;\n",
       "    }\n",
       "\n",
       "    .dataframe tbody tr th {\n",
       "        vertical-align: top;\n",
       "    }\n",
       "\n",
       "    .dataframe thead th {\n",
       "        text-align: right;\n",
       "    }\n",
       "</style>\n",
       "<table border=\"1\" class=\"dataframe\">\n",
       "  <thead>\n",
       "    <tr style=\"text-align: right;\">\n",
       "      <th></th>\n",
       "      <th>Notified_date</th>\n",
       "      <th>sex</th>\n",
       "      <th>age</th>\n",
       "      <th>nationality</th>\n",
       "      <th>province_of_isolation</th>\n",
       "      <th>risk</th>\n",
       "      <th>province_of_onset</th>\n",
       "      <th>Agegroup</th>\n",
       "    </tr>\n",
       "  </thead>\n",
       "  <tbody>\n",
       "    <tr>\n",
       "      <th>53014</th>\n",
       "      <td>24/4/2021</td>\n",
       "      <td>ชาย</td>\n",
       "      <td>60.0</td>\n",
       "      <td>Thailand</td>\n",
       "      <td>ระนอง</td>\n",
       "      <td>ไปสถานที่ชุมชน เช่น ตลาดนัด สถานที่ท่องเที่ยว</td>\n",
       "      <td>ระนอง</td>\n",
       "      <td>adult</td>\n",
       "    </tr>\n",
       "    <tr>\n",
       "      <th>53691</th>\n",
       "      <td>25/4/2021</td>\n",
       "      <td>หญิง</td>\n",
       "      <td>60.0</td>\n",
       "      <td>Thailand</td>\n",
       "      <td>ราชบุรี</td>\n",
       "      <td>สัมผัสใกล้ชิดกับผู้ป่วยยืนยันรายก่อนหน้านี้</td>\n",
       "      <td>ราชบุรี</td>\n",
       "      <td>adult</td>\n",
       "    </tr>\n",
       "    <tr>\n",
       "      <th>153693</th>\n",
       "      <td>30/5/2021</td>\n",
       "      <td>ชาย</td>\n",
       "      <td>60.0</td>\n",
       "      <td>Thailand</td>\n",
       "      <td>นนทบุรี</td>\n",
       "      <td>ทัณฑสถาน/เรือนจำ</td>\n",
       "      <td>นนทบุรี</td>\n",
       "      <td>adult</td>\n",
       "    </tr>\n",
       "    <tr>\n",
       "      <th>7191</th>\n",
       "      <td>2/1/2021</td>\n",
       "      <td>ชาย</td>\n",
       "      <td>60.0</td>\n",
       "      <td>Thailand</td>\n",
       "      <td>กรุงเทพมหานคร</td>\n",
       "      <td>สถานบันเทิง</td>\n",
       "      <td>กรุงเทพมหานคร</td>\n",
       "      <td>adult</td>\n",
       "    </tr>\n",
       "    <tr>\n",
       "      <th>519125</th>\n",
       "      <td>27/7/2021</td>\n",
       "      <td>หญิง</td>\n",
       "      <td>60.0</td>\n",
       "      <td>Thailand</td>\n",
       "      <td>ฉะเชิงเทรา</td>\n",
       "      <td>สัมผัสใกล้ชิดกับผู้ป่วยยืนยันรายก่อนหน้านี้</td>\n",
       "      <td>ฉะเชิงเทรา</td>\n",
       "      <td>adult</td>\n",
       "    </tr>\n",
       "    <tr>\n",
       "      <th>...</th>\n",
       "      <td>...</td>\n",
       "      <td>...</td>\n",
       "      <td>...</td>\n",
       "      <td>...</td>\n",
       "      <td>...</td>\n",
       "      <td>...</td>\n",
       "      <td>...</td>\n",
       "      <td>...</td>\n",
       "    </tr>\n",
       "    <tr>\n",
       "      <th>839377</th>\n",
       "      <td>12/8/2021</td>\n",
       "      <td>หญิง</td>\n",
       "      <td>15.0</td>\n",
       "      <td>Thailand</td>\n",
       "      <td>กรุงเทพมหานคร</td>\n",
       "      <td>การค้นหาผู้ป่วยเชิงรุกและค้นหาผู้ติดเชื้อในชุมชน</td>\n",
       "      <td>สมุทรปราการ</td>\n",
       "      <td>unknow</td>\n",
       "    </tr>\n",
       "    <tr>\n",
       "      <th>839441</th>\n",
       "      <td>12/8/2021</td>\n",
       "      <td>ชาย</td>\n",
       "      <td>19.0</td>\n",
       "      <td>Thailand</td>\n",
       "      <td>ชลบุรี</td>\n",
       "      <td>ทัณฑสถาน/เรือนจำ</td>\n",
       "      <td>ชลบุรี</td>\n",
       "      <td>unknow</td>\n",
       "    </tr>\n",
       "    <tr>\n",
       "      <th>839484</th>\n",
       "      <td>12/8/2021</td>\n",
       "      <td>ชาย</td>\n",
       "      <td>18.0</td>\n",
       "      <td>Thailand</td>\n",
       "      <td>อุบลราชธานี</td>\n",
       "      <td>ทัณฑสถาน/เรือนจำ</td>\n",
       "      <td>อุบลราชธานี</td>\n",
       "      <td>unknow</td>\n",
       "    </tr>\n",
       "    <tr>\n",
       "      <th>839500</th>\n",
       "      <td>12/8/2021</td>\n",
       "      <td>ชาย</td>\n",
       "      <td>19.0</td>\n",
       "      <td>Thailand</td>\n",
       "      <td>อุบลราชธานี</td>\n",
       "      <td>ทัณฑสถาน/เรือนจำ</td>\n",
       "      <td>อุบลราชธานี</td>\n",
       "      <td>unknow</td>\n",
       "    </tr>\n",
       "    <tr>\n",
       "      <th>839721</th>\n",
       "      <td>12/8/2021</td>\n",
       "      <td>ชาย</td>\n",
       "      <td>19.0</td>\n",
       "      <td>Thailand</td>\n",
       "      <td>กาญจนบุรี</td>\n",
       "      <td>ทัณฑสถาน/เรือนจำ</td>\n",
       "      <td>กาญจนบุรี</td>\n",
       "      <td>unknow</td>\n",
       "    </tr>\n",
       "  </tbody>\n",
       "</table>\n",
       "<p>839771 rows × 8 columns</p>\n",
       "</div>"
      ],
      "text/plain": [
       "       Notified_date   sex   age nationality province_of_isolation  \\\n",
       "53014      24/4/2021   ชาย  60.0    Thailand                 ระนอง   \n",
       "53691      25/4/2021  หญิง  60.0    Thailand               ราชบุรี   \n",
       "153693     30/5/2021   ชาย  60.0    Thailand               นนทบุรี   \n",
       "7191        2/1/2021   ชาย  60.0    Thailand         กรุงเทพมหานคร   \n",
       "519125     27/7/2021  หญิง  60.0    Thailand            ฉะเชิงเทรา   \n",
       "...              ...   ...   ...         ...                   ...   \n",
       "839377     12/8/2021  หญิง  15.0    Thailand         กรุงเทพมหานคร   \n",
       "839441     12/8/2021   ชาย  19.0    Thailand                ชลบุรี   \n",
       "839484     12/8/2021   ชาย  18.0    Thailand           อุบลราชธานี   \n",
       "839500     12/8/2021   ชาย  19.0    Thailand           อุบลราชธานี   \n",
       "839721     12/8/2021   ชาย  19.0    Thailand             กาญจนบุรี   \n",
       "\n",
       "                                                    risk province_of_onset  \\\n",
       "53014      ไปสถานที่ชุมชน เช่น ตลาดนัด สถานที่ท่องเที่ยว             ระนอง   \n",
       "53691        สัมผัสใกล้ชิดกับผู้ป่วยยืนยันรายก่อนหน้านี้           ราชบุรี   \n",
       "153693                                  ทัณฑสถาน/เรือนจำ           นนทบุรี   \n",
       "7191                                         สถานบันเทิง     กรุงเทพมหานคร   \n",
       "519125       สัมผัสใกล้ชิดกับผู้ป่วยยืนยันรายก่อนหน้านี้        ฉะเชิงเทรา   \n",
       "...                                                  ...               ...   \n",
       "839377  การค้นหาผู้ป่วยเชิงรุกและค้นหาผู้ติดเชื้อในชุมชน       สมุทรปราการ   \n",
       "839441                                  ทัณฑสถาน/เรือนจำ            ชลบุรี   \n",
       "839484                                  ทัณฑสถาน/เรือนจำ       อุบลราชธานี   \n",
       "839500                                  ทัณฑสถาน/เรือนจำ       อุบลราชธานี   \n",
       "839721                                  ทัณฑสถาน/เรือนจำ         กาญจนบุรี   \n",
       "\n",
       "       Agegroup  \n",
       "53014     adult  \n",
       "53691     adult  \n",
       "153693    adult  \n",
       "7191      adult  \n",
       "519125    adult  \n",
       "...         ...  \n",
       "839377   unknow  \n",
       "839441   unknow  \n",
       "839484   unknow  \n",
       "839500   unknow  \n",
       "839721   unknow  \n",
       "\n",
       "[839771 rows x 8 columns]"
      ]
     },
     "execution_count": 32,
     "metadata": {},
     "output_type": "execute_result"
    }
   ],
   "source": [
    "df['Agegroup'].fillna('unknow', inplace = True)\n",
    "df"
   ]
  },
  {
   "cell_type": "code",
   "execution_count": 33,
   "id": "4321af05",
   "metadata": {},
   "outputs": [
    {
     "data": {
      "text/plain": [
       "0"
      ]
     },
     "execution_count": 33,
     "metadata": {},
     "output_type": "execute_result"
    }
   ],
   "source": [
    "df.Agegroup.isnull().sum()"
   ]
  },
  {
   "cell_type": "code",
   "execution_count": 34,
   "id": "60444daa",
   "metadata": {},
   "outputs": [
    {
     "data": {
      "text/html": [
       "<div>\n",
       "<style scoped>\n",
       "    .dataframe tbody tr th:only-of-type {\n",
       "        vertical-align: middle;\n",
       "    }\n",
       "\n",
       "    .dataframe tbody tr th {\n",
       "        vertical-align: top;\n",
       "    }\n",
       "\n",
       "    .dataframe thead tr th {\n",
       "        text-align: left;\n",
       "    }\n",
       "\n",
       "    .dataframe thead tr:last-of-type th {\n",
       "        text-align: right;\n",
       "    }\n",
       "</style>\n",
       "<table border=\"1\" class=\"dataframe\">\n",
       "  <thead>\n",
       "    <tr>\n",
       "      <th></th>\n",
       "      <th colspan=\"8\" halign=\"left\">age</th>\n",
       "    </tr>\n",
       "    <tr>\n",
       "      <th></th>\n",
       "      <th>count</th>\n",
       "      <th>mean</th>\n",
       "      <th>std</th>\n",
       "      <th>min</th>\n",
       "      <th>25%</th>\n",
       "      <th>50%</th>\n",
       "      <th>75%</th>\n",
       "      <th>max</th>\n",
       "    </tr>\n",
       "    <tr>\n",
       "      <th>Agegroup</th>\n",
       "      <th></th>\n",
       "      <th></th>\n",
       "      <th></th>\n",
       "      <th></th>\n",
       "      <th></th>\n",
       "      <th></th>\n",
       "      <th></th>\n",
       "      <th></th>\n",
       "    </tr>\n",
       "  </thead>\n",
       "  <tbody>\n",
       "    <tr>\n",
       "      <th>adult</th>\n",
       "      <td>5806.0</td>\n",
       "      <td>60.000000</td>\n",
       "      <td>0.000000</td>\n",
       "      <td>60.00</td>\n",
       "      <td>60.0</td>\n",
       "      <td>60.000000</td>\n",
       "      <td>60.0</td>\n",
       "      <td>60.0</td>\n",
       "    </tr>\n",
       "    <tr>\n",
       "      <th>kid</th>\n",
       "      <td>59240.0</td>\n",
       "      <td>6.578764</td>\n",
       "      <td>3.502177</td>\n",
       "      <td>0.75</td>\n",
       "      <td>3.0</td>\n",
       "      <td>7.000000</td>\n",
       "      <td>10.0</td>\n",
       "      <td>12.0</td>\n",
       "    </tr>\n",
       "    <tr>\n",
       "      <th>old</th>\n",
       "      <td>59414.0</td>\n",
       "      <td>69.431496</td>\n",
       "      <td>7.657783</td>\n",
       "      <td>61.00</td>\n",
       "      <td>63.0</td>\n",
       "      <td>67.000000</td>\n",
       "      <td>73.0</td>\n",
       "      <td>440.0</td>\n",
       "    </tr>\n",
       "    <tr>\n",
       "      <th>unknow</th>\n",
       "      <td>47804.0</td>\n",
       "      <td>16.484353</td>\n",
       "      <td>2.043332</td>\n",
       "      <td>13.00</td>\n",
       "      <td>15.0</td>\n",
       "      <td>17.000000</td>\n",
       "      <td>18.0</td>\n",
       "      <td>19.0</td>\n",
       "    </tr>\n",
       "    <tr>\n",
       "      <th>young</th>\n",
       "      <td>667507.0</td>\n",
       "      <td>36.446972</td>\n",
       "      <td>9.993235</td>\n",
       "      <td>20.00</td>\n",
       "      <td>28.0</td>\n",
       "      <td>35.700109</td>\n",
       "      <td>43.0</td>\n",
       "      <td>59.0</td>\n",
       "    </tr>\n",
       "  </tbody>\n",
       "</table>\n",
       "</div>"
      ],
      "text/plain": [
       "               age                                                          \n",
       "             count       mean       std    min   25%        50%   75%    max\n",
       "Agegroup                                                                    \n",
       "adult       5806.0  60.000000  0.000000  60.00  60.0  60.000000  60.0   60.0\n",
       "kid        59240.0   6.578764  3.502177   0.75   3.0   7.000000  10.0   12.0\n",
       "old        59414.0  69.431496  7.657783  61.00  63.0  67.000000  73.0  440.0\n",
       "unknow     47804.0  16.484353  2.043332  13.00  15.0  17.000000  18.0   19.0\n",
       "young     667507.0  36.446972  9.993235  20.00  28.0  35.700109  43.0   59.0"
      ]
     },
     "execution_count": 34,
     "metadata": {},
     "output_type": "execute_result"
    }
   ],
   "source": [
    "df.groupby('Agegroup').describe()"
   ]
  },
  {
   "cell_type": "code",
   "execution_count": 35,
   "id": "b7c8648b",
   "metadata": {},
   "outputs": [],
   "source": [
    "import matplotlib.pyplot as plt"
   ]
  },
  {
   "cell_type": "code",
   "execution_count": 36,
   "id": "52df5f91",
   "metadata": {},
   "outputs": [
    {
     "data": {
      "text/plain": [
       "<AxesSubplot:>"
      ]
     },
     "execution_count": 36,
     "metadata": {},
     "output_type": "execute_result"
    },
    {
     "data": {
      "image/png": "[encoded data removed]",
      "text/plain": [
       "<Figure size 432x288 with 1 Axes>"
      ]
     },
     "metadata": {
      "needs_background": "light"
     },
     "output_type": "display_data"
    }
   ],
   "source": [
    "plt.rcParams['font.size'] = 16\n",
    "df.Agegroup.value_counts().plot.barh()"
   ]
  },
  {
   "cell_type": "markdown",
   "id": "2b131a21",
   "metadata": {},
   "source": [
    "กำหนดให้ ชาย = male, นาย = male, หญิง = female"
   ]
  },
  {
   "cell_type": "code",
   "execution_count": 37,
   "id": "ee33d801",
   "metadata": {},
   "outputs": [
    {
     "data": {
      "text/html": [
       "<div>\n",
       "<style scoped>\n",
       "    .dataframe tbody tr th:only-of-type {\n",
       "        vertical-align: middle;\n",
       "    }\n",
       "\n",
       "    .dataframe tbody tr th {\n",
       "        vertical-align: top;\n",
       "    }\n",
       "\n",
       "    .dataframe thead tr th {\n",
       "        text-align: left;\n",
       "    }\n",
       "\n",
       "    .dataframe thead tr:last-of-type th {\n",
       "        text-align: right;\n",
       "    }\n",
       "</style>\n",
       "<table border=\"1\" class=\"dataframe\">\n",
       "  <thead>\n",
       "    <tr>\n",
       "      <th></th>\n",
       "      <th colspan=\"8\" halign=\"left\">age</th>\n",
       "    </tr>\n",
       "    <tr>\n",
       "      <th></th>\n",
       "      <th>count</th>\n",
       "      <th>mean</th>\n",
       "      <th>std</th>\n",
       "      <th>min</th>\n",
       "      <th>25%</th>\n",
       "      <th>50%</th>\n",
       "      <th>75%</th>\n",
       "      <th>max</th>\n",
       "    </tr>\n",
       "    <tr>\n",
       "      <th>sex</th>\n",
       "      <th></th>\n",
       "      <th></th>\n",
       "      <th></th>\n",
       "      <th></th>\n",
       "      <th></th>\n",
       "      <th></th>\n",
       "      <th></th>\n",
       "      <th></th>\n",
       "    </tr>\n",
       "  </thead>\n",
       "  <tbody>\n",
       "    <tr>\n",
       "      <th>Not specified</th>\n",
       "      <td>54895.0</td>\n",
       "      <td>37.326147</td>\n",
       "      <td>13.521739</td>\n",
       "      <td>1.00</td>\n",
       "      <td>35.0</td>\n",
       "      <td>35.700109</td>\n",
       "      <td>38.0</td>\n",
       "      <td>103.0</td>\n",
       "    </tr>\n",
       "    <tr>\n",
       "      <th>ชาย</th>\n",
       "      <td>384994.0</td>\n",
       "      <td>35.016750</td>\n",
       "      <td>15.678686</td>\n",
       "      <td>1.00</td>\n",
       "      <td>25.0</td>\n",
       "      <td>35.000000</td>\n",
       "      <td>44.0</td>\n",
       "      <td>440.0</td>\n",
       "    </tr>\n",
       "    <tr>\n",
       "      <th>นาย</th>\n",
       "      <td>1.0</td>\n",
       "      <td>37.000000</td>\n",
       "      <td>NaN</td>\n",
       "      <td>37.00</td>\n",
       "      <td>37.0</td>\n",
       "      <td>37.000000</td>\n",
       "      <td>37.0</td>\n",
       "      <td>37.0</td>\n",
       "    </tr>\n",
       "    <tr>\n",
       "      <th>หญิง</th>\n",
       "      <td>399881.0</td>\n",
       "      <td>36.134804</td>\n",
       "      <td>16.226361</td>\n",
       "      <td>0.75</td>\n",
       "      <td>25.0</td>\n",
       "      <td>35.700109</td>\n",
       "      <td>46.0</td>\n",
       "      <td>110.0</td>\n",
       "    </tr>\n",
       "  </tbody>\n",
       "</table>\n",
       "</div>"
      ],
      "text/plain": [
       "                    age                                                      \\\n",
       "                  count       mean        std    min   25%        50%   75%   \n",
       "sex                                                                           \n",
       "Not specified   54895.0  37.326147  13.521739   1.00  35.0  35.700109  38.0   \n",
       "ชาย            384994.0  35.016750  15.678686   1.00  25.0  35.000000  44.0   \n",
       "นาย                 1.0  37.000000        NaN  37.00  37.0  37.000000  37.0   \n",
       "หญิง           399881.0  36.134804  16.226361   0.75  25.0  35.700109  46.0   \n",
       "\n",
       "                      \n",
       "                 max  \n",
       "sex                   \n",
       "Not specified  103.0  \n",
       "ชาย            440.0  \n",
       "นาย             37.0  \n",
       "หญิง           110.0  "
      ]
     },
     "execution_count": 37,
     "metadata": {},
     "output_type": "execute_result"
    }
   ],
   "source": [
    "df.groupby('sex').describe()"
   ]
  },
  {
   "cell_type": "code",
   "execution_count": 38,
   "id": "62495bc3",
   "metadata": {},
   "outputs": [
    {
     "data": {
      "text/html": [
       "<div>\n",
       "<style scoped>\n",
       "    .dataframe tbody tr th:only-of-type {\n",
       "        vertical-align: middle;\n",
       "    }\n",
       "\n",
       "    .dataframe tbody tr th {\n",
       "        vertical-align: top;\n",
       "    }\n",
       "\n",
       "    .dataframe thead th {\n",
       "        text-align: right;\n",
       "    }\n",
       "</style>\n",
       "<table border=\"1\" class=\"dataframe\">\n",
       "  <thead>\n",
       "    <tr style=\"text-align: right;\">\n",
       "      <th></th>\n",
       "      <th>Notified_date</th>\n",
       "      <th>sex</th>\n",
       "      <th>age</th>\n",
       "      <th>nationality</th>\n",
       "      <th>province_of_isolation</th>\n",
       "      <th>risk</th>\n",
       "      <th>province_of_onset</th>\n",
       "      <th>Agegroup</th>\n",
       "      <th>Gender</th>\n",
       "    </tr>\n",
       "  </thead>\n",
       "  <tbody>\n",
       "    <tr>\n",
       "      <th>53014</th>\n",
       "      <td>24/4/2021</td>\n",
       "      <td>ชาย</td>\n",
       "      <td>60.0</td>\n",
       "      <td>Thailand</td>\n",
       "      <td>ระนอง</td>\n",
       "      <td>ไปสถานที่ชุมชน เช่น ตลาดนัด สถานที่ท่องเที่ยว</td>\n",
       "      <td>ระนอง</td>\n",
       "      <td>adult</td>\n",
       "      <td>male</td>\n",
       "    </tr>\n",
       "    <tr>\n",
       "      <th>53691</th>\n",
       "      <td>25/4/2021</td>\n",
       "      <td>หญิง</td>\n",
       "      <td>60.0</td>\n",
       "      <td>Thailand</td>\n",
       "      <td>ราชบุรี</td>\n",
       "      <td>สัมผัสใกล้ชิดกับผู้ป่วยยืนยันรายก่อนหน้านี้</td>\n",
       "      <td>ราชบุรี</td>\n",
       "      <td>adult</td>\n",
       "      <td>female</td>\n",
       "    </tr>\n",
       "    <tr>\n",
       "      <th>153693</th>\n",
       "      <td>30/5/2021</td>\n",
       "      <td>ชาย</td>\n",
       "      <td>60.0</td>\n",
       "      <td>Thailand</td>\n",
       "      <td>นนทบุรี</td>\n",
       "      <td>ทัณฑสถาน/เรือนจำ</td>\n",
       "      <td>นนทบุรี</td>\n",
       "      <td>adult</td>\n",
       "      <td>male</td>\n",
       "    </tr>\n",
       "    <tr>\n",
       "      <th>7191</th>\n",
       "      <td>2/1/2021</td>\n",
       "      <td>ชาย</td>\n",
       "      <td>60.0</td>\n",
       "      <td>Thailand</td>\n",
       "      <td>กรุงเทพมหานคร</td>\n",
       "      <td>สถานบันเทิง</td>\n",
       "      <td>กรุงเทพมหานคร</td>\n",
       "      <td>adult</td>\n",
       "      <td>male</td>\n",
       "    </tr>\n",
       "    <tr>\n",
       "      <th>519125</th>\n",
       "      <td>27/7/2021</td>\n",
       "      <td>หญิง</td>\n",
       "      <td>60.0</td>\n",
       "      <td>Thailand</td>\n",
       "      <td>ฉะเชิงเทรา</td>\n",
       "      <td>สัมผัสใกล้ชิดกับผู้ป่วยยืนยันรายก่อนหน้านี้</td>\n",
       "      <td>ฉะเชิงเทรา</td>\n",
       "      <td>adult</td>\n",
       "      <td>female</td>\n",
       "    </tr>\n",
       "    <tr>\n",
       "      <th>...</th>\n",
       "      <td>...</td>\n",
       "      <td>...</td>\n",
       "      <td>...</td>\n",
       "      <td>...</td>\n",
       "      <td>...</td>\n",
       "      <td>...</td>\n",
       "      <td>...</td>\n",
       "      <td>...</td>\n",
       "      <td>...</td>\n",
       "    </tr>\n",
       "    <tr>\n",
       "      <th>839377</th>\n",
       "      <td>12/8/2021</td>\n",
       "      <td>หญิง</td>\n",
       "      <td>15.0</td>\n",
       "      <td>Thailand</td>\n",
       "      <td>กรุงเทพมหานคร</td>\n",
       "      <td>การค้นหาผู้ป่วยเชิงรุกและค้นหาผู้ติดเชื้อในชุมชน</td>\n",
       "      <td>สมุทรปราการ</td>\n",
       "      <td>unknow</td>\n",
       "      <td>female</td>\n",
       "    </tr>\n",
       "    <tr>\n",
       "      <th>839441</th>\n",
       "      <td>12/8/2021</td>\n",
       "      <td>ชาย</td>\n",
       "      <td>19.0</td>\n",
       "      <td>Thailand</td>\n",
       "      <td>ชลบุรี</td>\n",
       "      <td>ทัณฑสถาน/เรือนจำ</td>\n",
       "      <td>ชลบุรี</td>\n",
       "      <td>unknow</td>\n",
       "      <td>male</td>\n",
       "    </tr>\n",
       "    <tr>\n",
       "      <th>839484</th>\n",
       "      <td>12/8/2021</td>\n",
       "      <td>ชาย</td>\n",
       "      <td>18.0</td>\n",
       "      <td>Thailand</td>\n",
       "      <td>อุบลราชธานี</td>\n",
       "      <td>ทัณฑสถาน/เรือนจำ</td>\n",
       "      <td>อุบลราชธานี</td>\n",
       "      <td>unknow</td>\n",
       "      <td>male</td>\n",
       "    </tr>\n",
       "    <tr>\n",
       "      <th>839500</th>\n",
       "      <td>12/8/2021</td>\n",
       "      <td>ชาย</td>\n",
       "      <td>19.0</td>\n",
       "      <td>Thailand</td>\n",
       "      <td>อุบลราชธานี</td>\n",
       "      <td>ทัณฑสถาน/เรือนจำ</td>\n",
       "      <td>อุบลราชธานี</td>\n",
       "      <td>unknow</td>\n",
       "      <td>male</td>\n",
       "    </tr>\n",
       "    <tr>\n",
       "      <th>839721</th>\n",
       "      <td>12/8/2021</td>\n",
       "      <td>ชาย</td>\n",
       "      <td>19.0</td>\n",
       "      <td>Thailand</td>\n",
       "      <td>กาญจนบุรี</td>\n",
       "      <td>ทัณฑสถาน/เรือนจำ</td>\n",
       "      <td>กาญจนบุรี</td>\n",
       "      <td>unknow</td>\n",
       "      <td>male</td>\n",
       "    </tr>\n",
       "  </tbody>\n",
       "</table>\n",
       "<p>839771 rows × 9 columns</p>\n",
       "</div>"
      ],
      "text/plain": [
       "       Notified_date   sex   age nationality province_of_isolation  \\\n",
       "53014      24/4/2021   ชาย  60.0    Thailand                 ระนอง   \n",
       "53691      25/4/2021  หญิง  60.0    Thailand               ราชบุรี   \n",
       "153693     30/5/2021   ชาย  60.0    Thailand               นนทบุรี   \n",
       "7191        2/1/2021   ชาย  60.0    Thailand         กรุงเทพมหานคร   \n",
       "519125     27/7/2021  หญิง  60.0    Thailand            ฉะเชิงเทรา   \n",
       "...              ...   ...   ...         ...                   ...   \n",
       "839377     12/8/2021  หญิง  15.0    Thailand         กรุงเทพมหานคร   \n",
       "839441     12/8/2021   ชาย  19.0    Thailand                ชลบุรี   \n",
       "839484     12/8/2021   ชาย  18.0    Thailand           อุบลราชธานี   \n",
       "839500     12/8/2021   ชาย  19.0    Thailand           อุบลราชธานี   \n",
       "839721     12/8/2021   ชาย  19.0    Thailand             กาญจนบุรี   \n",
       "\n",
       "                                                    risk province_of_onset  \\\n",
       "53014      ไปสถานที่ชุมชน เช่น ตลาดนัด สถานที่ท่องเที่ยว             ระนอง   \n",
       "53691        สัมผัสใกล้ชิดกับผู้ป่วยยืนยันรายก่อนหน้านี้           ราชบุรี   \n",
       "153693                                  ทัณฑสถาน/เรือนจำ           นนทบุรี   \n",
       "7191                                         สถานบันเทิง     กรุงเทพมหานคร   \n",
       "519125       สัมผัสใกล้ชิดกับผู้ป่วยยืนยันรายก่อนหน้านี้        ฉะเชิงเทรา   \n",
       "...                                                  ...               ...   \n",
       "839377  การค้นหาผู้ป่วยเชิงรุกและค้นหาผู้ติดเชื้อในชุมชน       สมุทรปราการ   \n",
       "839441                                  ทัณฑสถาน/เรือนจำ            ชลบุรี   \n",
       "839484                                  ทัณฑสถาน/เรือนจำ       อุบลราชธานี   \n",
       "839500                                  ทัณฑสถาน/เรือนจำ       อุบลราชธานี   \n",
       "839721                                  ทัณฑสถาน/เรือนจำ         กาญจนบุรี   \n",
       "\n",
       "       Agegroup  Gender  \n",
       "53014     adult    male  \n",
       "53691     adult  female  \n",
       "153693    adult    male  \n",
       "7191      adult    male  \n",
       "519125    adult  female  \n",
       "...         ...     ...  \n",
       "839377   unknow  female  \n",
       "839441   unknow    male  \n",
       "839484   unknow    male  \n",
       "839500   unknow    male  \n",
       "839721   unknow    male  \n",
       "\n",
       "[839771 rows x 9 columns]"
      ]
     },
     "execution_count": 38,
     "metadata": {},
     "output_type": "execute_result"
    }
   ],
   "source": [
    "df.loc[(df.sex == \"ชาย\"), 'Gender'] = 'male'\n",
    "df.loc[(df.sex == \"นาย\"), 'Gender'] = 'male'\n",
    "df.loc[(df.sex == \"หญิง\"), 'Gender'] = 'female'\n",
    "df.loc[(df.sex == \"Not specified\"), 'Gender'] = 'Not specified'\n",
    "\n",
    "df"
   ]
  },
  {
   "cell_type": "code",
   "execution_count": 39,
   "id": "5578d1a8",
   "metadata": {},
   "outputs": [
    {
     "data": {
      "text/plain": [
       "0"
      ]
     },
     "execution_count": 39,
     "metadata": {},
     "output_type": "execute_result"
    }
   ],
   "source": [
    "df.Gender.isnull().sum()"
   ]
  },
  {
   "cell_type": "code",
   "execution_count": 40,
   "id": "3268b058",
   "metadata": {},
   "outputs": [
    {
     "data": {
      "text/html": [
       "<div>\n",
       "<style scoped>\n",
       "    .dataframe tbody tr th:only-of-type {\n",
       "        vertical-align: middle;\n",
       "    }\n",
       "\n",
       "    .dataframe tbody tr th {\n",
       "        vertical-align: top;\n",
       "    }\n",
       "\n",
       "    .dataframe thead tr th {\n",
       "        text-align: left;\n",
       "    }\n",
       "\n",
       "    .dataframe thead tr:last-of-type th {\n",
       "        text-align: right;\n",
       "    }\n",
       "</style>\n",
       "<table border=\"1\" class=\"dataframe\">\n",
       "  <thead>\n",
       "    <tr>\n",
       "      <th></th>\n",
       "      <th colspan=\"8\" halign=\"left\">age</th>\n",
       "    </tr>\n",
       "    <tr>\n",
       "      <th></th>\n",
       "      <th>count</th>\n",
       "      <th>mean</th>\n",
       "      <th>std</th>\n",
       "      <th>min</th>\n",
       "      <th>25%</th>\n",
       "      <th>50%</th>\n",
       "      <th>75%</th>\n",
       "      <th>max</th>\n",
       "    </tr>\n",
       "    <tr>\n",
       "      <th>Gender</th>\n",
       "      <th></th>\n",
       "      <th></th>\n",
       "      <th></th>\n",
       "      <th></th>\n",
       "      <th></th>\n",
       "      <th></th>\n",
       "      <th></th>\n",
       "      <th></th>\n",
       "    </tr>\n",
       "  </thead>\n",
       "  <tbody>\n",
       "    <tr>\n",
       "      <th>Not specified</th>\n",
       "      <td>54895.0</td>\n",
       "      <td>37.326147</td>\n",
       "      <td>13.521739</td>\n",
       "      <td>1.00</td>\n",
       "      <td>35.0</td>\n",
       "      <td>35.700109</td>\n",
       "      <td>38.0</td>\n",
       "      <td>103.0</td>\n",
       "    </tr>\n",
       "    <tr>\n",
       "      <th>female</th>\n",
       "      <td>399881.0</td>\n",
       "      <td>36.134804</td>\n",
       "      <td>16.226361</td>\n",
       "      <td>0.75</td>\n",
       "      <td>25.0</td>\n",
       "      <td>35.700109</td>\n",
       "      <td>46.0</td>\n",
       "      <td>110.0</td>\n",
       "    </tr>\n",
       "    <tr>\n",
       "      <th>male</th>\n",
       "      <td>384995.0</td>\n",
       "      <td>35.016755</td>\n",
       "      <td>15.678666</td>\n",
       "      <td>1.00</td>\n",
       "      <td>25.0</td>\n",
       "      <td>35.000000</td>\n",
       "      <td>44.0</td>\n",
       "      <td>440.0</td>\n",
       "    </tr>\n",
       "  </tbody>\n",
       "</table>\n",
       "</div>"
      ],
      "text/plain": [
       "                    age                                                     \\\n",
       "                  count       mean        std   min   25%        50%   75%   \n",
       "Gender                                                                       \n",
       "Not specified   54895.0  37.326147  13.521739  1.00  35.0  35.700109  38.0   \n",
       "female         399881.0  36.134804  16.226361  0.75  25.0  35.700109  46.0   \n",
       "male           384995.0  35.016755  15.678666  1.00  25.0  35.000000  44.0   \n",
       "\n",
       "                      \n",
       "                 max  \n",
       "Gender                \n",
       "Not specified  103.0  \n",
       "female         110.0  \n",
       "male           440.0  "
      ]
     },
     "execution_count": 40,
     "metadata": {},
     "output_type": "execute_result"
    }
   ],
   "source": [
    "df.groupby('Gender').describe()"
   ]
  },
  {
   "cell_type": "code",
   "execution_count": 41,
   "id": "d5f74910",
   "metadata": {},
   "outputs": [],
   "source": [
    "import matplotlib.pyplot as plt"
   ]
  },
  {
   "cell_type": "code",
   "execution_count": 42,
   "id": "6d93fbc8",
   "metadata": {},
   "outputs": [
    {
     "data": {
      "text/plain": [
       "<AxesSubplot:>"
      ]
     },
     "execution_count": 42,
     "metadata": {},
     "output_type": "execute_result"
    },
    {
     "data": {
      "image/png": "[encoded data removed]",
      "text/plain": [
       "<Figure size 432x288 with 1 Axes>"
      ]
     },
     "metadata": {
      "needs_background": "light"
     },
     "output_type": "display_data"
    }
   ],
   "source": [
    "plt.rcParams['font.size'] = 16\n",
    "df.Gender.value_counts().plot.barh()"
   ]
  },
  {
   "cell_type": "code",
   "execution_count": null,
   "id": "d4543db9",
   "metadata": {},
   "outputs": [],
   "source": []
  },
  {
   "cell_type": "code",
   "execution_count": 43,
   "id": "6b2ee63c",
   "metadata": {},
   "outputs": [
    {
     "name": "stdout",
     "output_type": "stream",
     "text": [
      "Requirement already satisfied: datetime in c:\\users\\ikmee u-daidee\\anaconda3\\lib\\site-packages (4.4)\n",
      "Requirement already satisfied: pytz in c:\\users\\ikmee u-daidee\\anaconda3\\lib\\site-packages (from datetime) (2021.3)\n",
      "Requirement already satisfied: zope.interface in c:\\users\\ikmee u-daidee\\anaconda3\\lib\\site-packages (from datetime) (5.4.0)\n",
      "Requirement already satisfied: setuptools in c:\\users\\ikmee u-daidee\\anaconda3\\lib\\site-packages (from zope.interface->datetime) (58.0.4)\n"
     ]
    }
   ],
   "source": [
    "!pip install datetime"
   ]
  },
  {
   "cell_type": "code",
   "execution_count": 44,
   "id": "d03eaa8c",
   "metadata": {},
   "outputs": [],
   "source": [
    "import datetime"
   ]
  },
  {
   "cell_type": "code",
   "execution_count": 45,
   "id": "515eeb86",
   "metadata": {
    "scrolled": true
   },
   "outputs": [
    {
     "data": {
      "text/html": [
       "<div>\n",
       "<style scoped>\n",
       "    .dataframe tbody tr th:only-of-type {\n",
       "        vertical-align: middle;\n",
       "    }\n",
       "\n",
       "    .dataframe tbody tr th {\n",
       "        vertical-align: top;\n",
       "    }\n",
       "\n",
       "    .dataframe thead th {\n",
       "        text-align: right;\n",
       "    }\n",
       "</style>\n",
       "<table border=\"1\" class=\"dataframe\">\n",
       "  <thead>\n",
       "    <tr style=\"text-align: right;\">\n",
       "      <th></th>\n",
       "      <th>Notified_date</th>\n",
       "      <th>sex</th>\n",
       "      <th>age</th>\n",
       "      <th>nationality</th>\n",
       "      <th>province_of_isolation</th>\n",
       "      <th>risk</th>\n",
       "      <th>province_of_onset</th>\n",
       "      <th>Agegroup</th>\n",
       "      <th>Gender</th>\n",
       "    </tr>\n",
       "  </thead>\n",
       "  <tbody>\n",
       "    <tr>\n",
       "      <th>53014</th>\n",
       "      <td>2021-04-24</td>\n",
       "      <td>ชาย</td>\n",
       "      <td>60.0</td>\n",
       "      <td>Thailand</td>\n",
       "      <td>ระนอง</td>\n",
       "      <td>ไปสถานที่ชุมชน เช่น ตลาดนัด สถานที่ท่องเที่ยว</td>\n",
       "      <td>ระนอง</td>\n",
       "      <td>adult</td>\n",
       "      <td>male</td>\n",
       "    </tr>\n",
       "    <tr>\n",
       "      <th>53691</th>\n",
       "      <td>2021-04-25</td>\n",
       "      <td>หญิง</td>\n",
       "      <td>60.0</td>\n",
       "      <td>Thailand</td>\n",
       "      <td>ราชบุรี</td>\n",
       "      <td>สัมผัสใกล้ชิดกับผู้ป่วยยืนยันรายก่อนหน้านี้</td>\n",
       "      <td>ราชบุรี</td>\n",
       "      <td>adult</td>\n",
       "      <td>female</td>\n",
       "    </tr>\n",
       "    <tr>\n",
       "      <th>153693</th>\n",
       "      <td>2021-05-30</td>\n",
       "      <td>ชาย</td>\n",
       "      <td>60.0</td>\n",
       "      <td>Thailand</td>\n",
       "      <td>นนทบุรี</td>\n",
       "      <td>ทัณฑสถาน/เรือนจำ</td>\n",
       "      <td>นนทบุรี</td>\n",
       "      <td>adult</td>\n",
       "      <td>male</td>\n",
       "    </tr>\n",
       "    <tr>\n",
       "      <th>7191</th>\n",
       "      <td>2021-02-01</td>\n",
       "      <td>ชาย</td>\n",
       "      <td>60.0</td>\n",
       "      <td>Thailand</td>\n",
       "      <td>กรุงเทพมหานคร</td>\n",
       "      <td>สถานบันเทิง</td>\n",
       "      <td>กรุงเทพมหานคร</td>\n",
       "      <td>adult</td>\n",
       "      <td>male</td>\n",
       "    </tr>\n",
       "    <tr>\n",
       "      <th>519125</th>\n",
       "      <td>2021-07-27</td>\n",
       "      <td>หญิง</td>\n",
       "      <td>60.0</td>\n",
       "      <td>Thailand</td>\n",
       "      <td>ฉะเชิงเทรา</td>\n",
       "      <td>สัมผัสใกล้ชิดกับผู้ป่วยยืนยันรายก่อนหน้านี้</td>\n",
       "      <td>ฉะเชิงเทรา</td>\n",
       "      <td>adult</td>\n",
       "      <td>female</td>\n",
       "    </tr>\n",
       "    <tr>\n",
       "      <th>...</th>\n",
       "      <td>...</td>\n",
       "      <td>...</td>\n",
       "      <td>...</td>\n",
       "      <td>...</td>\n",
       "      <td>...</td>\n",
       "      <td>...</td>\n",
       "      <td>...</td>\n",
       "      <td>...</td>\n",
       "      <td>...</td>\n",
       "    </tr>\n",
       "    <tr>\n",
       "      <th>839377</th>\n",
       "      <td>2021-12-08</td>\n",
       "      <td>หญิง</td>\n",
       "      <td>15.0</td>\n",
       "      <td>Thailand</td>\n",
       "      <td>กรุงเทพมหานคร</td>\n",
       "      <td>การค้นหาผู้ป่วยเชิงรุกและค้นหาผู้ติดเชื้อในชุมชน</td>\n",
       "      <td>สมุทรปราการ</td>\n",
       "      <td>unknow</td>\n",
       "      <td>female</td>\n",
       "    </tr>\n",
       "    <tr>\n",
       "      <th>839441</th>\n",
       "      <td>2021-12-08</td>\n",
       "      <td>ชาย</td>\n",
       "      <td>19.0</td>\n",
       "      <td>Thailand</td>\n",
       "      <td>ชลบุรี</td>\n",
       "      <td>ทัณฑสถาน/เรือนจำ</td>\n",
       "      <td>ชลบุรี</td>\n",
       "      <td>unknow</td>\n",
       "      <td>male</td>\n",
       "    </tr>\n",
       "    <tr>\n",
       "      <th>839484</th>\n",
       "      <td>2021-12-08</td>\n",
       "      <td>ชาย</td>\n",
       "      <td>18.0</td>\n",
       "      <td>Thailand</td>\n",
       "      <td>อุบลราชธานี</td>\n",
       "      <td>ทัณฑสถาน/เรือนจำ</td>\n",
       "      <td>อุบลราชธานี</td>\n",
       "      <td>unknow</td>\n",
       "      <td>male</td>\n",
       "    </tr>\n",
       "    <tr>\n",
       "      <th>839500</th>\n",
       "      <td>2021-12-08</td>\n",
       "      <td>ชาย</td>\n",
       "      <td>19.0</td>\n",
       "      <td>Thailand</td>\n",
       "      <td>อุบลราชธานี</td>\n",
       "      <td>ทัณฑสถาน/เรือนจำ</td>\n",
       "      <td>อุบลราชธานี</td>\n",
       "      <td>unknow</td>\n",
       "      <td>male</td>\n",
       "    </tr>\n",
       "    <tr>\n",
       "      <th>839721</th>\n",
       "      <td>2021-12-08</td>\n",
       "      <td>ชาย</td>\n",
       "      <td>19.0</td>\n",
       "      <td>Thailand</td>\n",
       "      <td>กาญจนบุรี</td>\n",
       "      <td>ทัณฑสถาน/เรือนจำ</td>\n",
       "      <td>กาญจนบุรี</td>\n",
       "      <td>unknow</td>\n",
       "      <td>male</td>\n",
       "    </tr>\n",
       "  </tbody>\n",
       "</table>\n",
       "<p>839771 rows × 9 columns</p>\n",
       "</div>"
      ],
      "text/plain": [
       "       Notified_date   sex   age nationality province_of_isolation  \\\n",
       "53014     2021-04-24   ชาย  60.0    Thailand                 ระนอง   \n",
       "53691     2021-04-25  หญิง  60.0    Thailand               ราชบุรี   \n",
       "153693    2021-05-30   ชาย  60.0    Thailand               นนทบุรี   \n",
       "7191      2021-02-01   ชาย  60.0    Thailand         กรุงเทพมหานคร   \n",
       "519125    2021-07-27  หญิง  60.0    Thailand            ฉะเชิงเทรา   \n",
       "...              ...   ...   ...         ...                   ...   \n",
       "839377    2021-12-08  หญิง  15.0    Thailand         กรุงเทพมหานคร   \n",
       "839441    2021-12-08   ชาย  19.0    Thailand                ชลบุรี   \n",
       "839484    2021-12-08   ชาย  18.0    Thailand           อุบลราชธานี   \n",
       "839500    2021-12-08   ชาย  19.0    Thailand           อุบลราชธานี   \n",
       "839721    2021-12-08   ชาย  19.0    Thailand             กาญจนบุรี   \n",
       "\n",
       "                                                    risk province_of_onset  \\\n",
       "53014      ไปสถานที่ชุมชน เช่น ตลาดนัด สถานที่ท่องเที่ยว             ระนอง   \n",
       "53691        สัมผัสใกล้ชิดกับผู้ป่วยยืนยันรายก่อนหน้านี้           ราชบุรี   \n",
       "153693                                  ทัณฑสถาน/เรือนจำ           นนทบุรี   \n",
       "7191                                         สถานบันเทิง     กรุงเทพมหานคร   \n",
       "519125       สัมผัสใกล้ชิดกับผู้ป่วยยืนยันรายก่อนหน้านี้        ฉะเชิงเทรา   \n",
       "...                                                  ...               ...   \n",
       "839377  การค้นหาผู้ป่วยเชิงรุกและค้นหาผู้ติดเชื้อในชุมชน       สมุทรปราการ   \n",
       "839441                                  ทัณฑสถาน/เรือนจำ            ชลบุรี   \n",
       "839484                                  ทัณฑสถาน/เรือนจำ       อุบลราชธานี   \n",
       "839500                                  ทัณฑสถาน/เรือนจำ       อุบลราชธานี   \n",
       "839721                                  ทัณฑสถาน/เรือนจำ         กาญจนบุรี   \n",
       "\n",
       "       Agegroup  Gender  \n",
       "53014     adult    male  \n",
       "53691     adult  female  \n",
       "153693    adult    male  \n",
       "7191      adult    male  \n",
       "519125    adult  female  \n",
       "...         ...     ...  \n",
       "839377   unknow  female  \n",
       "839441   unknow    male  \n",
       "839484   unknow    male  \n",
       "839500   unknow    male  \n",
       "839721   unknow    male  \n",
       "\n",
       "[839771 rows x 9 columns]"
      ]
     },
     "execution_count": 45,
     "metadata": {},
     "output_type": "execute_result"
    }
   ],
   "source": [
    "df['Notified_date'] = pd.to_datetime(df.Notified_date)\n",
    "df"
   ]
  },
  {
   "cell_type": "markdown",
   "id": "02bcc6ec",
   "metadata": {},
   "source": [
    "เรียง 'Notified_date' จากน้อยไปมาก"
   ]
  },
  {
   "cell_type": "code",
   "execution_count": 46,
   "id": "d4695892",
   "metadata": {},
   "outputs": [
    {
     "data": {
      "text/html": [
       "<div>\n",
       "<style scoped>\n",
       "    .dataframe tbody tr th:only-of-type {\n",
       "        vertical-align: middle;\n",
       "    }\n",
       "\n",
       "    .dataframe tbody tr th {\n",
       "        vertical-align: top;\n",
       "    }\n",
       "\n",
       "    .dataframe thead th {\n",
       "        text-align: right;\n",
       "    }\n",
       "</style>\n",
       "<table border=\"1\" class=\"dataframe\">\n",
       "  <thead>\n",
       "    <tr style=\"text-align: right;\">\n",
       "      <th></th>\n",
       "      <th>Notified_date</th>\n",
       "      <th>sex</th>\n",
       "      <th>age</th>\n",
       "      <th>nationality</th>\n",
       "      <th>province_of_isolation</th>\n",
       "      <th>risk</th>\n",
       "      <th>province_of_onset</th>\n",
       "      <th>Agegroup</th>\n",
       "      <th>Gender</th>\n",
       "    </tr>\n",
       "  </thead>\n",
       "  <tbody>\n",
       "    <tr>\n",
       "      <th>1736</th>\n",
       "      <td>2020-01-04</td>\n",
       "      <td>ชาย</td>\n",
       "      <td>41.0</td>\n",
       "      <td>Thailand</td>\n",
       "      <td>กรุงเทพมหานคร</td>\n",
       "      <td>อาชีพเสี่ยง เช่น ทำงานในสถานที่แออัด หรือทำงาน...</td>\n",
       "      <td>กรุงเทพมหานคร</td>\n",
       "      <td>young</td>\n",
       "      <td>male</td>\n",
       "    </tr>\n",
       "    <tr>\n",
       "      <th>1750</th>\n",
       "      <td>2020-01-04</td>\n",
       "      <td>หญิง</td>\n",
       "      <td>22.0</td>\n",
       "      <td>Thailand</td>\n",
       "      <td>นนทบุรี</td>\n",
       "      <td>คนไทยเดินทางกลับจากต่างประเทศ</td>\n",
       "      <td>นนทบุรี</td>\n",
       "      <td>young</td>\n",
       "      <td>female</td>\n",
       "    </tr>\n",
       "    <tr>\n",
       "      <th>1751</th>\n",
       "      <td>2020-01-04</td>\n",
       "      <td>หญิง</td>\n",
       "      <td>43.0</td>\n",
       "      <td>Thailand</td>\n",
       "      <td>กรุงเทพมหานคร</td>\n",
       "      <td>ระบุไม่ได้</td>\n",
       "      <td>กรุงเทพมหานคร</td>\n",
       "      <td>young</td>\n",
       "      <td>female</td>\n",
       "    </tr>\n",
       "    <tr>\n",
       "      <th>1752</th>\n",
       "      <td>2020-01-04</td>\n",
       "      <td>หญิง</td>\n",
       "      <td>38.0</td>\n",
       "      <td>Thailand</td>\n",
       "      <td>ชลบุรี</td>\n",
       "      <td>สัมผัสใกล้ชิดกับผู้ป่วยยืนยันรายก่อนหน้านี้</td>\n",
       "      <td>ชลบุรี</td>\n",
       "      <td>young</td>\n",
       "      <td>female</td>\n",
       "    </tr>\n",
       "    <tr>\n",
       "      <th>1767</th>\n",
       "      <td>2020-01-04</td>\n",
       "      <td>หญิง</td>\n",
       "      <td>25.0</td>\n",
       "      <td>Thailand</td>\n",
       "      <td>กรุงเทพมหานคร</td>\n",
       "      <td>สัมผัสผู้เดินทางจากต่างประเทศ</td>\n",
       "      <td>กรุงเทพมหานคร</td>\n",
       "      <td>young</td>\n",
       "      <td>female</td>\n",
       "    </tr>\n",
       "    <tr>\n",
       "      <th>...</th>\n",
       "      <td>...</td>\n",
       "      <td>...</td>\n",
       "      <td>...</td>\n",
       "      <td>...</td>\n",
       "      <td>...</td>\n",
       "      <td>...</td>\n",
       "      <td>...</td>\n",
       "      <td>...</td>\n",
       "      <td>...</td>\n",
       "    </tr>\n",
       "    <tr>\n",
       "      <th>837624</th>\n",
       "      <td>2021-12-08</td>\n",
       "      <td>ชาย</td>\n",
       "      <td>27.0</td>\n",
       "      <td>Thailand</td>\n",
       "      <td>กรุงเทพมหานคร</td>\n",
       "      <td>สัมผัสใกล้ชิดกับผู้ป่วยยืนยันรายก่อนหน้านี้</td>\n",
       "      <td>กรุงเทพมหานคร</td>\n",
       "      <td>young</td>\n",
       "      <td>male</td>\n",
       "    </tr>\n",
       "    <tr>\n",
       "      <th>837625</th>\n",
       "      <td>2021-12-08</td>\n",
       "      <td>ชาย</td>\n",
       "      <td>20.0</td>\n",
       "      <td>Thailand</td>\n",
       "      <td>กรุงเทพมหานคร</td>\n",
       "      <td>อยู่ระหว่างการสอบสวน</td>\n",
       "      <td>กรุงเทพมหานคร</td>\n",
       "      <td>young</td>\n",
       "      <td>male</td>\n",
       "    </tr>\n",
       "    <tr>\n",
       "      <th>837626</th>\n",
       "      <td>2021-12-08</td>\n",
       "      <td>ชาย</td>\n",
       "      <td>55.0</td>\n",
       "      <td>Thailand</td>\n",
       "      <td>กรุงเทพมหานคร</td>\n",
       "      <td>อื่นๆ</td>\n",
       "      <td>กรุงเทพมหานคร</td>\n",
       "      <td>young</td>\n",
       "      <td>male</td>\n",
       "    </tr>\n",
       "    <tr>\n",
       "      <th>837503</th>\n",
       "      <td>2021-12-08</td>\n",
       "      <td>หญิง</td>\n",
       "      <td>25.0</td>\n",
       "      <td>Thailand</td>\n",
       "      <td>กรุงเทพมหานคร</td>\n",
       "      <td>สัมผัสใกล้ชิดกับผู้ป่วยยืนยันรายก่อนหน้านี้</td>\n",
       "      <td>กรุงเทพมหานคร</td>\n",
       "      <td>young</td>\n",
       "      <td>female</td>\n",
       "    </tr>\n",
       "    <tr>\n",
       "      <th>839721</th>\n",
       "      <td>2021-12-08</td>\n",
       "      <td>ชาย</td>\n",
       "      <td>19.0</td>\n",
       "      <td>Thailand</td>\n",
       "      <td>กาญจนบุรี</td>\n",
       "      <td>ทัณฑสถาน/เรือนจำ</td>\n",
       "      <td>กาญจนบุรี</td>\n",
       "      <td>unknow</td>\n",
       "      <td>male</td>\n",
       "    </tr>\n",
       "  </tbody>\n",
       "</table>\n",
       "<p>839771 rows × 9 columns</p>\n",
       "</div>"
      ],
      "text/plain": [
       "       Notified_date   sex   age nationality province_of_isolation  \\\n",
       "1736      2020-01-04   ชาย  41.0    Thailand         กรุงเทพมหานคร   \n",
       "1750      2020-01-04  หญิง  22.0    Thailand               นนทบุรี   \n",
       "1751      2020-01-04  หญิง  43.0    Thailand         กรุงเทพมหานคร   \n",
       "1752      2020-01-04  หญิง  38.0    Thailand                ชลบุรี   \n",
       "1767      2020-01-04  หญิง  25.0    Thailand         กรุงเทพมหานคร   \n",
       "...              ...   ...   ...         ...                   ...   \n",
       "837624    2021-12-08   ชาย  27.0    Thailand         กรุงเทพมหานคร   \n",
       "837625    2021-12-08   ชาย  20.0    Thailand         กรุงเทพมหานคร   \n",
       "837626    2021-12-08   ชาย  55.0    Thailand         กรุงเทพมหานคร   \n",
       "837503    2021-12-08  หญิง  25.0    Thailand         กรุงเทพมหานคร   \n",
       "839721    2021-12-08   ชาย  19.0    Thailand             กาญจนบุรี   \n",
       "\n",
       "                                                     risk province_of_onset  \\\n",
       "1736    อาชีพเสี่ยง เช่น ทำงานในสถานที่แออัด หรือทำงาน...     กรุงเทพมหานคร   \n",
       "1750                        คนไทยเดินทางกลับจากต่างประเทศ           นนทบุรี   \n",
       "1751                                           ระบุไม่ได้     กรุงเทพมหานคร   \n",
       "1752          สัมผัสใกล้ชิดกับผู้ป่วยยืนยันรายก่อนหน้านี้            ชลบุรี   \n",
       "1767                        สัมผัสผู้เดินทางจากต่างประเทศ     กรุงเทพมหานคร   \n",
       "...                                                   ...               ...   \n",
       "837624        สัมผัสใกล้ชิดกับผู้ป่วยยืนยันรายก่อนหน้านี้     กรุงเทพมหานคร   \n",
       "837625                               อยู่ระหว่างการสอบสวน     กรุงเทพมหานคร   \n",
       "837626                                              อื่นๆ     กรุงเทพมหานคร   \n",
       "837503        สัมผัสใกล้ชิดกับผู้ป่วยยืนยันรายก่อนหน้านี้     กรุงเทพมหานคร   \n",
       "839721                                   ทัณฑสถาน/เรือนจำ         กาญจนบุรี   \n",
       "\n",
       "       Agegroup  Gender  \n",
       "1736      young    male  \n",
       "1750      young  female  \n",
       "1751      young  female  \n",
       "1752      young  female  \n",
       "1767      young  female  \n",
       "...         ...     ...  \n",
       "837624    young    male  \n",
       "837625    young    male  \n",
       "837626    young    male  \n",
       "837503    young  female  \n",
       "839721   unknow    male  \n",
       "\n",
       "[839771 rows x 9 columns]"
      ]
     },
     "execution_count": 46,
     "metadata": {},
     "output_type": "execute_result"
    }
   ],
   "source": [
    "df.sort_values(by = 'Notified_date', ascending = True, inplace = True)\n",
    "df"
   ]
  },
  {
   "cell_type": "code",
   "execution_count": 47,
   "id": "e784c6a3",
   "metadata": {},
   "outputs": [
    {
     "data": {
      "text/html": [
       "<div>\n",
       "<style scoped>\n",
       "    .dataframe tbody tr th:only-of-type {\n",
       "        vertical-align: middle;\n",
       "    }\n",
       "\n",
       "    .dataframe tbody tr th {\n",
       "        vertical-align: top;\n",
       "    }\n",
       "\n",
       "    .dataframe thead tr th {\n",
       "        text-align: left;\n",
       "    }\n",
       "\n",
       "    .dataframe thead tr:last-of-type th {\n",
       "        text-align: right;\n",
       "    }\n",
       "</style>\n",
       "<table border=\"1\" class=\"dataframe\">\n",
       "  <thead>\n",
       "    <tr>\n",
       "      <th></th>\n",
       "      <th colspan=\"8\" halign=\"left\">age</th>\n",
       "    </tr>\n",
       "    <tr>\n",
       "      <th></th>\n",
       "      <th>count</th>\n",
       "      <th>mean</th>\n",
       "      <th>std</th>\n",
       "      <th>min</th>\n",
       "      <th>25%</th>\n",
       "      <th>50%</th>\n",
       "      <th>75%</th>\n",
       "      <th>max</th>\n",
       "    </tr>\n",
       "    <tr>\n",
       "      <th>Notified_date</th>\n",
       "      <th></th>\n",
       "      <th></th>\n",
       "      <th></th>\n",
       "      <th></th>\n",
       "      <th></th>\n",
       "      <th></th>\n",
       "      <th></th>\n",
       "      <th></th>\n",
       "    </tr>\n",
       "  </thead>\n",
       "  <tbody>\n",
       "    <tr>\n",
       "      <th>2020-01-04</th>\n",
       "      <td>120.0</td>\n",
       "      <td>39.111668</td>\n",
       "      <td>14.559147</td>\n",
       "      <td>3.0</td>\n",
       "      <td>27.0</td>\n",
       "      <td>39.000000</td>\n",
       "      <td>48.00</td>\n",
       "      <td>76.0</td>\n",
       "    </tr>\n",
       "    <tr>\n",
       "      <th>2020-01-05</th>\n",
       "      <td>6.0</td>\n",
       "      <td>41.333333</td>\n",
       "      <td>17.095808</td>\n",
       "      <td>21.0</td>\n",
       "      <td>27.0</td>\n",
       "      <td>43.000000</td>\n",
       "      <td>52.25</td>\n",
       "      <td>64.0</td>\n",
       "    </tr>\n",
       "    <tr>\n",
       "      <th>2020-01-06</th>\n",
       "      <td>1.0</td>\n",
       "      <td>47.000000</td>\n",
       "      <td>NaN</td>\n",
       "      <td>47.0</td>\n",
       "      <td>47.0</td>\n",
       "      <td>47.000000</td>\n",
       "      <td>47.00</td>\n",
       "      <td>47.0</td>\n",
       "    </tr>\n",
       "    <tr>\n",
       "      <th>2020-01-07</th>\n",
       "      <td>2.0</td>\n",
       "      <td>47.000000</td>\n",
       "      <td>0.000000</td>\n",
       "      <td>47.0</td>\n",
       "      <td>47.0</td>\n",
       "      <td>47.000000</td>\n",
       "      <td>47.00</td>\n",
       "      <td>47.0</td>\n",
       "    </tr>\n",
       "    <tr>\n",
       "      <th>2020-01-08</th>\n",
       "      <td>2.0</td>\n",
       "      <td>35.000000</td>\n",
       "      <td>8.485281</td>\n",
       "      <td>29.0</td>\n",
       "      <td>32.0</td>\n",
       "      <td>35.000000</td>\n",
       "      <td>38.00</td>\n",
       "      <td>41.0</td>\n",
       "    </tr>\n",
       "    <tr>\n",
       "      <th>...</th>\n",
       "      <td>...</td>\n",
       "      <td>...</td>\n",
       "      <td>...</td>\n",
       "      <td>...</td>\n",
       "      <td>...</td>\n",
       "      <td>...</td>\n",
       "      <td>...</td>\n",
       "      <td>...</td>\n",
       "    </tr>\n",
       "    <tr>\n",
       "      <th>2021-12-04</th>\n",
       "      <td>984.0</td>\n",
       "      <td>29.676730</td>\n",
       "      <td>11.424239</td>\n",
       "      <td>1.0</td>\n",
       "      <td>22.0</td>\n",
       "      <td>27.000000</td>\n",
       "      <td>35.00</td>\n",
       "      <td>86.0</td>\n",
       "    </tr>\n",
       "    <tr>\n",
       "      <th>2021-12-05</th>\n",
       "      <td>1983.0</td>\n",
       "      <td>35.048768</td>\n",
       "      <td>15.956063</td>\n",
       "      <td>1.0</td>\n",
       "      <td>25.0</td>\n",
       "      <td>34.000000</td>\n",
       "      <td>44.00</td>\n",
       "      <td>96.0</td>\n",
       "    </tr>\n",
       "    <tr>\n",
       "      <th>2021-12-06</th>\n",
       "      <td>3277.0</td>\n",
       "      <td>36.210591</td>\n",
       "      <td>14.814062</td>\n",
       "      <td>1.0</td>\n",
       "      <td>27.0</td>\n",
       "      <td>35.700109</td>\n",
       "      <td>45.00</td>\n",
       "      <td>93.0</td>\n",
       "    </tr>\n",
       "    <tr>\n",
       "      <th>2021-12-07</th>\n",
       "      <td>8656.0</td>\n",
       "      <td>36.233387</td>\n",
       "      <td>16.168843</td>\n",
       "      <td>1.0</td>\n",
       "      <td>26.0</td>\n",
       "      <td>35.700109</td>\n",
       "      <td>46.00</td>\n",
       "      <td>101.0</td>\n",
       "    </tr>\n",
       "    <tr>\n",
       "      <th>2021-12-08</th>\n",
       "      <td>22782.0</td>\n",
       "      <td>36.451639</td>\n",
       "      <td>17.051002</td>\n",
       "      <td>1.0</td>\n",
       "      <td>25.0</td>\n",
       "      <td>35.700109</td>\n",
       "      <td>47.00</td>\n",
       "      <td>99.0</td>\n",
       "    </tr>\n",
       "  </tbody>\n",
       "</table>\n",
       "<p>523 rows × 8 columns</p>\n",
       "</div>"
      ],
      "text/plain": [
       "                   age                                                      \\\n",
       "                 count       mean        std   min   25%        50%    75%   \n",
       "Notified_date                                                                \n",
       "2020-01-04       120.0  39.111668  14.559147   3.0  27.0  39.000000  48.00   \n",
       "2020-01-05         6.0  41.333333  17.095808  21.0  27.0  43.000000  52.25   \n",
       "2020-01-06         1.0  47.000000        NaN  47.0  47.0  47.000000  47.00   \n",
       "2020-01-07         2.0  47.000000   0.000000  47.0  47.0  47.000000  47.00   \n",
       "2020-01-08         2.0  35.000000   8.485281  29.0  32.0  35.000000  38.00   \n",
       "...                ...        ...        ...   ...   ...        ...    ...   \n",
       "2021-12-04       984.0  29.676730  11.424239   1.0  22.0  27.000000  35.00   \n",
       "2021-12-05      1983.0  35.048768  15.956063   1.0  25.0  34.000000  44.00   \n",
       "2021-12-06      3277.0  36.210591  14.814062   1.0  27.0  35.700109  45.00   \n",
       "2021-12-07      8656.0  36.233387  16.168843   1.0  26.0  35.700109  46.00   \n",
       "2021-12-08     22782.0  36.451639  17.051002   1.0  25.0  35.700109  47.00   \n",
       "\n",
       "                      \n",
       "                 max  \n",
       "Notified_date         \n",
       "2020-01-04      76.0  \n",
       "2020-01-05      64.0  \n",
       "2020-01-06      47.0  \n",
       "2020-01-07      47.0  \n",
       "2020-01-08      41.0  \n",
       "...              ...  \n",
       "2021-12-04      86.0  \n",
       "2021-12-05      96.0  \n",
       "2021-12-06      93.0  \n",
       "2021-12-07     101.0  \n",
       "2021-12-08      99.0  \n",
       "\n",
       "[523 rows x 8 columns]"
      ]
     },
     "execution_count": 47,
     "metadata": {},
     "output_type": "execute_result"
    }
   ],
   "source": [
    "groupby_date = df.groupby('Notified_date').describe()\n",
    "groupby_date"
   ]
  },
  {
   "cell_type": "code",
   "execution_count": 48,
   "id": "a549d9ab",
   "metadata": {},
   "outputs": [
    {
     "ename": "TypeError",
     "evalue": "Invalid comparison between dtype=float64 and str",
     "output_type": "error",
     "traceback": [
      "\u001b[1;31m---------------------------------------------------------------------------\u001b[0m",
      "\u001b[1;31mTypeError\u001b[0m                                 Traceback (most recent call last)",
      "\u001b[1;32mC:\\Users\\IKMEEU~1\\AppData\\Local\\Temp/ipykernel_3100/305964611.py\u001b[0m in \u001b[0;36m<module>\u001b[1;34m\u001b[0m\n\u001b[1;32m----> 1\u001b[1;33m \u001b[0mdf\u001b[0m\u001b[1;33m.\u001b[0m\u001b[0mloc\u001b[0m\u001b[1;33m[\u001b[0m\u001b[1;33m(\u001b[0m\u001b[0mdf\u001b[0m\u001b[1;33m.\u001b[0m\u001b[0mage\u001b[0m \u001b[1;33m<\u001b[0m \u001b[1;34m\"2020-01-31\"\u001b[0m\u001b[1;33m)\u001b[0m\u001b[1;33m,\u001b[0m \u001b[1;34m'Date'\u001b[0m\u001b[1;33m]\u001b[0m \u001b[1;33m=\u001b[0m \u001b[1;34m'Jan_2020'\u001b[0m\u001b[1;33m\u001b[0m\u001b[1;33m\u001b[0m\u001b[0m\n\u001b[0m\u001b[0;32m      2\u001b[0m \u001b[0mdf\u001b[0m\u001b[1;33m.\u001b[0m\u001b[0mloc\u001b[0m\u001b[1;33m[\u001b[0m\u001b[1;33m(\u001b[0m\u001b[0mdf\u001b[0m\u001b[1;33m.\u001b[0m\u001b[0mage\u001b[0m \u001b[1;33m>=\u001b[0m \u001b[1;34m\"2020-02-28\"\u001b[0m\u001b[1;33m)\u001b[0m\u001b[1;33m,\u001b[0m \u001b[1;34m'Date'\u001b[0m\u001b[1;33m]\u001b[0m \u001b[1;33m=\u001b[0m \u001b[1;34m'Fab_2020'\u001b[0m\u001b[1;33m\u001b[0m\u001b[1;33m\u001b[0m\u001b[0m\n\u001b[0;32m      3\u001b[0m \u001b[0mdf\u001b[0m\u001b[1;33m.\u001b[0m\u001b[0mloc\u001b[0m\u001b[1;33m[\u001b[0m\u001b[1;33m(\u001b[0m\u001b[0mdf\u001b[0m\u001b[1;33m.\u001b[0m\u001b[0mage\u001b[0m \u001b[1;33m>=\u001b[0m \u001b[1;34m\"2020-03-31\"\u001b[0m\u001b[1;33m)\u001b[0m\u001b[1;33m,\u001b[0m \u001b[1;34m'Date'\u001b[0m\u001b[1;33m]\u001b[0m \u001b[1;33m=\u001b[0m \u001b[1;34m'Mar_2020'\u001b[0m\u001b[1;33m\u001b[0m\u001b[1;33m\u001b[0m\u001b[0m\n\u001b[0;32m      4\u001b[0m \u001b[0mdf\u001b[0m\u001b[1;33m.\u001b[0m\u001b[0mloc\u001b[0m\u001b[1;33m[\u001b[0m\u001b[1;33m(\u001b[0m\u001b[0mdf\u001b[0m\u001b[1;33m.\u001b[0m\u001b[0mage\u001b[0m \u001b[1;33m>=\u001b[0m \u001b[1;34m\"2020-04-30\"\u001b[0m\u001b[1;33m)\u001b[0m\u001b[1;33m,\u001b[0m \u001b[1;34m'Date'\u001b[0m\u001b[1;33m]\u001b[0m \u001b[1;33m=\u001b[0m \u001b[1;34m'Apr_2020'\u001b[0m\u001b[1;33m\u001b[0m\u001b[1;33m\u001b[0m\u001b[0m\n\u001b[0;32m      5\u001b[0m \u001b[0mdf\u001b[0m\u001b[1;33m.\u001b[0m\u001b[0mloc\u001b[0m\u001b[1;33m[\u001b[0m\u001b[1;33m(\u001b[0m\u001b[0mdf\u001b[0m\u001b[1;33m.\u001b[0m\u001b[0mage\u001b[0m \u001b[1;33m>=\u001b[0m \u001b[1;34m\"2020-05-31\"\u001b[0m\u001b[1;33m)\u001b[0m\u001b[1;33m,\u001b[0m \u001b[1;34m'Date'\u001b[0m\u001b[1;33m]\u001b[0m \u001b[1;33m=\u001b[0m \u001b[1;34m'May_2020'\u001b[0m\u001b[1;33m\u001b[0m\u001b[1;33m\u001b[0m\u001b[0m\n",
      "\u001b[1;32m~\\anaconda3\\lib\\site-packages\\pandas\\core\\ops\\common.py\u001b[0m in \u001b[0;36mnew_method\u001b[1;34m(self, other)\u001b[0m\n\u001b[0;32m     67\u001b[0m         \u001b[0mother\u001b[0m \u001b[1;33m=\u001b[0m \u001b[0mitem_from_zerodim\u001b[0m\u001b[1;33m(\u001b[0m\u001b[0mother\u001b[0m\u001b[1;33m)\u001b[0m\u001b[1;33m\u001b[0m\u001b[1;33m\u001b[0m\u001b[0m\n\u001b[0;32m     68\u001b[0m \u001b[1;33m\u001b[0m\u001b[0m\n\u001b[1;32m---> 69\u001b[1;33m         \u001b[1;32mreturn\u001b[0m \u001b[0mmethod\u001b[0m\u001b[1;33m(\u001b[0m\u001b[0mself\u001b[0m\u001b[1;33m,\u001b[0m \u001b[0mother\u001b[0m\u001b[1;33m)\u001b[0m\u001b[1;33m\u001b[0m\u001b[1;33m\u001b[0m\u001b[0m\n\u001b[0m\u001b[0;32m     70\u001b[0m \u001b[1;33m\u001b[0m\u001b[0m\n\u001b[0;32m     71\u001b[0m     \u001b[1;32mreturn\u001b[0m \u001b[0mnew_method\u001b[0m\u001b[1;33m\u001b[0m\u001b[1;33m\u001b[0m\u001b[0m\n",
      "\u001b[1;32m~\\anaconda3\\lib\\site-packages\\pandas\\core\\arraylike.py\u001b[0m in \u001b[0;36m__lt__\u001b[1;34m(self, other)\u001b[0m\n\u001b[0;32m     38\u001b[0m     \u001b[1;33m@\u001b[0m\u001b[0munpack_zerodim_and_defer\u001b[0m\u001b[1;33m(\u001b[0m\u001b[1;34m\"__lt__\"\u001b[0m\u001b[1;33m)\u001b[0m\u001b[1;33m\u001b[0m\u001b[1;33m\u001b[0m\u001b[0m\n\u001b[0;32m     39\u001b[0m     \u001b[1;32mdef\u001b[0m \u001b[0m__lt__\u001b[0m\u001b[1;33m(\u001b[0m\u001b[0mself\u001b[0m\u001b[1;33m,\u001b[0m \u001b[0mother\u001b[0m\u001b[1;33m)\u001b[0m\u001b[1;33m:\u001b[0m\u001b[1;33m\u001b[0m\u001b[1;33m\u001b[0m\u001b[0m\n\u001b[1;32m---> 40\u001b[1;33m         \u001b[1;32mreturn\u001b[0m \u001b[0mself\u001b[0m\u001b[1;33m.\u001b[0m\u001b[0m_cmp_method\u001b[0m\u001b[1;33m(\u001b[0m\u001b[0mother\u001b[0m\u001b[1;33m,\u001b[0m \u001b[0moperator\u001b[0m\u001b[1;33m.\u001b[0m\u001b[0mlt\u001b[0m\u001b[1;33m)\u001b[0m\u001b[1;33m\u001b[0m\u001b[1;33m\u001b[0m\u001b[0m\n\u001b[0m\u001b[0;32m     41\u001b[0m \u001b[1;33m\u001b[0m\u001b[0m\n\u001b[0;32m     42\u001b[0m     \u001b[1;33m@\u001b[0m\u001b[0munpack_zerodim_and_defer\u001b[0m\u001b[1;33m(\u001b[0m\u001b[1;34m\"__le__\"\u001b[0m\u001b[1;33m)\u001b[0m\u001b[1;33m\u001b[0m\u001b[1;33m\u001b[0m\u001b[0m\n",
      "\u001b[1;32m~\\anaconda3\\lib\\site-packages\\pandas\\core\\series.py\u001b[0m in \u001b[0;36m_cmp_method\u001b[1;34m(self, other, op)\u001b[0m\n\u001b[0;32m   5500\u001b[0m \u001b[1;33m\u001b[0m\u001b[0m\n\u001b[0;32m   5501\u001b[0m         \u001b[1;32mwith\u001b[0m \u001b[0mnp\u001b[0m\u001b[1;33m.\u001b[0m\u001b[0merrstate\u001b[0m\u001b[1;33m(\u001b[0m\u001b[0mall\u001b[0m\u001b[1;33m=\u001b[0m\u001b[1;34m\"ignore\"\u001b[0m\u001b[1;33m)\u001b[0m\u001b[1;33m:\u001b[0m\u001b[1;33m\u001b[0m\u001b[1;33m\u001b[0m\u001b[0m\n\u001b[1;32m-> 5502\u001b[1;33m             \u001b[0mres_values\u001b[0m \u001b[1;33m=\u001b[0m \u001b[0mops\u001b[0m\u001b[1;33m.\u001b[0m\u001b[0mcomparison_op\u001b[0m\u001b[1;33m(\u001b[0m\u001b[0mlvalues\u001b[0m\u001b[1;33m,\u001b[0m \u001b[0mrvalues\u001b[0m\u001b[1;33m,\u001b[0m \u001b[0mop\u001b[0m\u001b[1;33m)\u001b[0m\u001b[1;33m\u001b[0m\u001b[1;33m\u001b[0m\u001b[0m\n\u001b[0m\u001b[0;32m   5503\u001b[0m \u001b[1;33m\u001b[0m\u001b[0m\n\u001b[0;32m   5504\u001b[0m         \u001b[1;32mreturn\u001b[0m \u001b[0mself\u001b[0m\u001b[1;33m.\u001b[0m\u001b[0m_construct_result\u001b[0m\u001b[1;33m(\u001b[0m\u001b[0mres_values\u001b[0m\u001b[1;33m,\u001b[0m \u001b[0mname\u001b[0m\u001b[1;33m=\u001b[0m\u001b[0mres_name\u001b[0m\u001b[1;33m)\u001b[0m\u001b[1;33m\u001b[0m\u001b[1;33m\u001b[0m\u001b[0m\n",
      "\u001b[1;32m~\\anaconda3\\lib\\site-packages\\pandas\\core\\ops\\array_ops.py\u001b[0m in \u001b[0;36mcomparison_op\u001b[1;34m(left, right, op)\u001b[0m\n\u001b[0;32m    279\u001b[0m     \u001b[1;32melif\u001b[0m \u001b[0mis_numeric_v_string_like\u001b[0m\u001b[1;33m(\u001b[0m\u001b[0mlvalues\u001b[0m\u001b[1;33m,\u001b[0m \u001b[0mrvalues\u001b[0m\u001b[1;33m)\u001b[0m\u001b[1;33m:\u001b[0m\u001b[1;33m\u001b[0m\u001b[1;33m\u001b[0m\u001b[0m\n\u001b[0;32m    280\u001b[0m         \u001b[1;31m# GH#36377 going through the numexpr path would incorrectly raise\u001b[0m\u001b[1;33m\u001b[0m\u001b[1;33m\u001b[0m\u001b[0m\n\u001b[1;32m--> 281\u001b[1;33m         \u001b[1;32mreturn\u001b[0m \u001b[0minvalid_comparison\u001b[0m\u001b[1;33m(\u001b[0m\u001b[0mlvalues\u001b[0m\u001b[1;33m,\u001b[0m \u001b[0mrvalues\u001b[0m\u001b[1;33m,\u001b[0m \u001b[0mop\u001b[0m\u001b[1;33m)\u001b[0m\u001b[1;33m\u001b[0m\u001b[1;33m\u001b[0m\u001b[0m\n\u001b[0m\u001b[0;32m    282\u001b[0m \u001b[1;33m\u001b[0m\u001b[0m\n\u001b[0;32m    283\u001b[0m     \u001b[1;32melif\u001b[0m \u001b[0mis_object_dtype\u001b[0m\u001b[1;33m(\u001b[0m\u001b[0mlvalues\u001b[0m\u001b[1;33m.\u001b[0m\u001b[0mdtype\u001b[0m\u001b[1;33m)\u001b[0m \u001b[1;32mor\u001b[0m \u001b[0misinstance\u001b[0m\u001b[1;33m(\u001b[0m\u001b[0mrvalues\u001b[0m\u001b[1;33m,\u001b[0m \u001b[0mstr\u001b[0m\u001b[1;33m)\u001b[0m\u001b[1;33m:\u001b[0m\u001b[1;33m\u001b[0m\u001b[1;33m\u001b[0m\u001b[0m\n",
      "\u001b[1;32m~\\anaconda3\\lib\\site-packages\\pandas\\core\\ops\\invalid.py\u001b[0m in \u001b[0;36minvalid_comparison\u001b[1;34m(left, right, op)\u001b[0m\n\u001b[0;32m     32\u001b[0m     \u001b[1;32melse\u001b[0m\u001b[1;33m:\u001b[0m\u001b[1;33m\u001b[0m\u001b[1;33m\u001b[0m\u001b[0m\n\u001b[0;32m     33\u001b[0m         \u001b[0mtyp\u001b[0m \u001b[1;33m=\u001b[0m \u001b[0mtype\u001b[0m\u001b[1;33m(\u001b[0m\u001b[0mright\u001b[0m\u001b[1;33m)\u001b[0m\u001b[1;33m.\u001b[0m\u001b[0m__name__\u001b[0m\u001b[1;33m\u001b[0m\u001b[1;33m\u001b[0m\u001b[0m\n\u001b[1;32m---> 34\u001b[1;33m         \u001b[1;32mraise\u001b[0m \u001b[0mTypeError\u001b[0m\u001b[1;33m(\u001b[0m\u001b[1;34mf\"Invalid comparison between dtype={left.dtype} and {typ}\"\u001b[0m\u001b[1;33m)\u001b[0m\u001b[1;33m\u001b[0m\u001b[1;33m\u001b[0m\u001b[0m\n\u001b[0m\u001b[0;32m     35\u001b[0m     \u001b[1;32mreturn\u001b[0m \u001b[0mres_values\u001b[0m\u001b[1;33m\u001b[0m\u001b[1;33m\u001b[0m\u001b[0m\n\u001b[0;32m     36\u001b[0m \u001b[1;33m\u001b[0m\u001b[0m\n",
      "\u001b[1;31mTypeError\u001b[0m: Invalid comparison between dtype=float64 and str"
     ]
    }
   ],
   "source": [
    "df.loc[(df.age < \"2020-01-31\"), 'Date'] = 'Jan_2020'\n",
    "df.loc[(df.age >= \"2020-02-28\"), 'Date'] = 'Fab_2020'\n",
    "df.loc[(df.age >= \"2020-03-31\"), 'Date'] = 'Mar_2020'\n",
    "df.loc[(df.age >= \"2020-04-30\"), 'Date'] = 'Apr_2020'\n",
    "df.loc[(df.age >= \"2020-05-31\"), 'Date'] = 'May_2020'\n",
    "df.loc[(df.age >= \"2020-06-30\"), 'Date'] = 'Jun_2020'\n",
    "\n",
    "df"
   ]
  },
  {
   "cell_type": "markdown",
   "id": "c3638ec4",
   "metadata": {},
   "source": [
    "จำนวนผู้ติดโควิด เดือนมกราคม-ธันวาคม ปี 2020"
   ]
  },
  {
   "cell_type": "code",
   "execution_count": 49,
   "id": "7c0d8619",
   "metadata": {},
   "outputs": [
    {
     "data": {
      "text/plain": [
       "(6884, 9)"
      ]
     },
     "execution_count": 49,
     "metadata": {},
     "output_type": "execute_result"
    }
   ],
   "source": [
    "Y_2020 = df[df['Notified_date'] <='2020-12-31']        \n",
    "Y_2020.shape"
   ]
  },
  {
   "cell_type": "code",
   "execution_count": 50,
   "id": "044020d3",
   "metadata": {},
   "outputs": [
    {
     "data": {
      "text/plain": [
       "(173, 9)"
      ]
     },
     "execution_count": 50,
     "metadata": {},
     "output_type": "execute_result"
    }
   ],
   "source": [
    "M1_2020 = Y_2020[Y_2020['Notified_date'] <= '2020-01-31']          \n",
    "M1_2020.shape"
   ]
  },
  {
   "cell_type": "code",
   "execution_count": 51,
   "id": "79c4ce38",
   "metadata": {},
   "outputs": [
    {
     "name": "stderr",
     "output_type": "stream",
     "text": [
      "C:\\Users\\IKMEEU~1\\AppData\\Local\\Temp/ipykernel_3100/2317046323.py:1: UserWarning: Boolean Series key will be reindexed to match DataFrame index.\n",
      "  M2_2020 = Y_2020[(Y_2020['Notified_date'] >= '2020-02-01') & (df['Notified_date'] <= '2020-02-29')]\n"
     ]
    },
    {
     "data": {
      "text/plain": [
       "(167, 9)"
      ]
     },
     "execution_count": 51,
     "metadata": {},
     "output_type": "execute_result"
    }
   ],
   "source": [
    "M2_2020 = Y_2020[(Y_2020['Notified_date'] >= '2020-02-01') & (df['Notified_date'] <= '2020-02-29')]          \n",
    "M2_2020.shape"
   ]
  },
  {
   "cell_type": "code",
   "execution_count": 52,
   "id": "1387ec57",
   "metadata": {},
   "outputs": [
    {
     "name": "stderr",
     "output_type": "stream",
     "text": [
      "C:\\Users\\IKMEEU~1\\AppData\\Local\\Temp/ipykernel_3100/2331633461.py:1: UserWarning: Boolean Series key will be reindexed to match DataFrame index.\n",
      "  M3_2020 = Y_2020[(Y_2020['Notified_date'] >= '2020-03-01') & (df['Notified_date'] <= '2020-03-31')]\n"
     ]
    },
    {
     "data": {
      "text/plain": [
       "(1723, 9)"
      ]
     },
     "execution_count": 52,
     "metadata": {},
     "output_type": "execute_result"
    }
   ],
   "source": [
    "M3_2020 = Y_2020[(Y_2020['Notified_date'] >= '2020-03-01') & (df['Notified_date'] <= '2020-03-31')]           \n",
    "M3_2020.shape"
   ]
  },
  {
   "cell_type": "code",
   "execution_count": 53,
   "id": "fbea7710",
   "metadata": {},
   "outputs": [
    {
     "name": "stderr",
     "output_type": "stream",
     "text": [
      "C:\\Users\\IKMEEU~1\\AppData\\Local\\Temp/ipykernel_3100/3243415496.py:1: UserWarning: Boolean Series key will be reindexed to match DataFrame index.\n",
      "  M4_2020 = Y_2020[(Y_2020['Notified_date'] >= '2020-04-01') & (df['Notified_date'] <= '2020-04-30')]\n"
     ]
    },
    {
     "data": {
      "text/plain": [
       "(566, 9)"
      ]
     },
     "execution_count": 53,
     "metadata": {},
     "output_type": "execute_result"
    }
   ],
   "source": [
    "M4_2020 = Y_2020[(Y_2020['Notified_date'] >= '2020-04-01') & (df['Notified_date'] <= '2020-04-30')]         \n",
    "M4_2020.shape"
   ]
  },
  {
   "cell_type": "code",
   "execution_count": 54,
   "id": "57c97eb4",
   "metadata": {},
   "outputs": [
    {
     "name": "stderr",
     "output_type": "stream",
     "text": [
      "C:\\Users\\IKMEEU~1\\AppData\\Local\\Temp/ipykernel_3100/249798431.py:1: UserWarning: Boolean Series key will be reindexed to match DataFrame index.\n",
      "  M5_2020 = Y_2020[(Y_2020['Notified_date'] >= '2020-05-01') & (df['Notified_date'] <= '2020-05-31')]\n"
     ]
    },
    {
     "data": {
      "text/plain": [
       "(221, 9)"
      ]
     },
     "execution_count": 54,
     "metadata": {},
     "output_type": "execute_result"
    }
   ],
   "source": [
    "M5_2020 = Y_2020[(Y_2020['Notified_date'] >= '2020-05-01') & (df['Notified_date'] <= '2020-05-31')]         \n",
    "M5_2020.shape"
   ]
  },
  {
   "cell_type": "code",
   "execution_count": 55,
   "id": "f6cb1755",
   "metadata": {},
   "outputs": [
    {
     "name": "stderr",
     "output_type": "stream",
     "text": [
      "C:\\Users\\IKMEEU~1\\AppData\\Local\\Temp/ipykernel_3100/1744859454.py:1: UserWarning: Boolean Series key will be reindexed to match DataFrame index.\n",
      "  M6_2020 = Y_2020[(Y_2020['Notified_date'] >= '2020-06-01') & (df['Notified_date'] <= '2020-06-30')]\n"
     ]
    },
    {
     "data": {
      "text/plain": [
       "(142, 9)"
      ]
     },
     "execution_count": 55,
     "metadata": {},
     "output_type": "execute_result"
    }
   ],
   "source": [
    "M6_2020 = Y_2020[(Y_2020['Notified_date'] >= '2020-06-01') & (df['Notified_date'] <= '2020-06-30')]\n",
    "M6_2020.shape"
   ]
  },
  {
   "cell_type": "code",
   "execution_count": 56,
   "id": "a66c0797",
   "metadata": {},
   "outputs": [
    {
     "name": "stderr",
     "output_type": "stream",
     "text": [
      "C:\\Users\\IKMEEU~1\\AppData\\Local\\Temp/ipykernel_3100/1495836470.py:1: UserWarning: Boolean Series key will be reindexed to match DataFrame index.\n",
      "  M7_2020 = Y_2020[(Y_2020['Notified_date'] >= '2020-07-01') & (df['Notified_date'] <= '2020-07-31')]\n"
     ]
    },
    {
     "data": {
      "text/plain": [
       "(208, 9)"
      ]
     },
     "execution_count": 56,
     "metadata": {},
     "output_type": "execute_result"
    }
   ],
   "source": [
    "M7_2020 = Y_2020[(Y_2020['Notified_date'] >= '2020-07-01') & (df['Notified_date'] <= '2020-07-31')]\n",
    "M7_2020.shape"
   ]
  },
  {
   "cell_type": "code",
   "execution_count": 57,
   "id": "94d664c2",
   "metadata": {},
   "outputs": [
    {
     "name": "stderr",
     "output_type": "stream",
     "text": [
      "C:\\Users\\IKMEEU~1\\AppData\\Local\\Temp/ipykernel_3100/3839710137.py:1: UserWarning: Boolean Series key will be reindexed to match DataFrame index.\n",
      "  M8_2020 = Y_2020[(Y_2020['Notified_date'] >= '2020-08-01') & (df['Notified_date'] <= '2020-08-31')]\n"
     ]
    },
    {
     "data": {
      "text/plain": [
       "(228, 9)"
      ]
     },
     "execution_count": 57,
     "metadata": {},
     "output_type": "execute_result"
    }
   ],
   "source": [
    "M8_2020 = Y_2020[(Y_2020['Notified_date'] >= '2020-08-01') & (df['Notified_date'] <= '2020-08-31')]\n",
    "M8_2020.shape"
   ]
  },
  {
   "cell_type": "code",
   "execution_count": 58,
   "id": "c31bb39a",
   "metadata": {},
   "outputs": [
    {
     "name": "stderr",
     "output_type": "stream",
     "text": [
      "C:\\Users\\IKMEEU~1\\AppData\\Local\\Temp/ipykernel_3100/3769627284.py:1: UserWarning: Boolean Series key will be reindexed to match DataFrame index.\n",
      "  M9_2020 = Y_2020[(Y_2020['Notified_date'] >= '2020-09-01') & (df['Notified_date'] <= '2020-09-30')]\n"
     ]
    },
    {
     "data": {
      "text/plain": [
       "(201, 9)"
      ]
     },
     "execution_count": 58,
     "metadata": {},
     "output_type": "execute_result"
    }
   ],
   "source": [
    "M9_2020 = Y_2020[(Y_2020['Notified_date'] >= '2020-09-01') & (df['Notified_date'] <= '2020-09-30')]\n",
    "M9_2020.shape"
   ]
  },
  {
   "cell_type": "code",
   "execution_count": 59,
   "id": "777cf377",
   "metadata": {},
   "outputs": [
    {
     "name": "stderr",
     "output_type": "stream",
     "text": [
      "C:\\Users\\IKMEEU~1\\AppData\\Local\\Temp/ipykernel_3100/4139810684.py:1: UserWarning: Boolean Series key will be reindexed to match DataFrame index.\n",
      "  M10_2020 = Y_2020[(Y_2020['Notified_date'] >= '2020-10-01') & (df['Notified_date'] <= '2020-10-31')]\n"
     ]
    },
    {
     "data": {
      "text/plain": [
       "(236, 9)"
      ]
     },
     "execution_count": 59,
     "metadata": {},
     "output_type": "execute_result"
    }
   ],
   "source": [
    "M10_2020 = Y_2020[(Y_2020['Notified_date'] >= '2020-10-01') & (df['Notified_date'] <= '2020-10-31')]\n",
    "M10_2020.shape"
   ]
  },
  {
   "cell_type": "code",
   "execution_count": 60,
   "id": "ab91ae5b",
   "metadata": {},
   "outputs": [
    {
     "name": "stderr",
     "output_type": "stream",
     "text": [
      "C:\\Users\\IKMEEU~1\\AppData\\Local\\Temp/ipykernel_3100/3586452931.py:1: UserWarning: Boolean Series key will be reindexed to match DataFrame index.\n",
      "  M11_2020 = Y_2020[(Y_2020['Notified_date'] >= '2020-11-01') & (df['Notified_date'] <= '2020-11-30')]\n"
     ]
    },
    {
     "data": {
      "text/plain": [
       "(241, 9)"
      ]
     },
     "execution_count": 60,
     "metadata": {},
     "output_type": "execute_result"
    }
   ],
   "source": [
    "M11_2020 = Y_2020[(Y_2020['Notified_date'] >= '2020-11-01') & (df['Notified_date'] <= '2020-11-30')]\n",
    "M11_2020.shape"
   ]
  },
  {
   "cell_type": "code",
   "execution_count": 61,
   "id": "418bc687",
   "metadata": {},
   "outputs": [
    {
     "name": "stderr",
     "output_type": "stream",
     "text": [
      "C:\\Users\\IKMEEU~1\\AppData\\Local\\Temp/ipykernel_3100/1094545436.py:1: UserWarning: Boolean Series key will be reindexed to match DataFrame index.\n",
      "  M12_2020 = Y_2020[(Y_2020['Notified_date'] >= '2020-12-01') & (df['Notified_date'] <= '2020-12-31')]\n"
     ]
    },
    {
     "data": {
      "text/plain": [
       "(2778, 9)"
      ]
     },
     "execution_count": 61,
     "metadata": {},
     "output_type": "execute_result"
    }
   ],
   "source": [
    "M12_2020 = Y_2020[(Y_2020['Notified_date'] >= '2020-12-01') & (df['Notified_date'] <= '2020-12-31')]\n",
    "M12_2020.shape"
   ]
  },
  {
   "cell_type": "code",
   "execution_count": 62,
   "id": "07773f09",
   "metadata": {},
   "outputs": [
    {
     "data": {
      "text/plain": [
       "6884"
      ]
     },
     "execution_count": 62,
     "metadata": {},
     "output_type": "execute_result"
    }
   ],
   "source": [
    "173+167+1723+566+221+142+208+228+201+236+241+2778"
   ]
  },
  {
   "cell_type": "markdown",
   "id": "a0597336",
   "metadata": {},
   "source": [
    "จำนวนผู้ติดโควิด เดือนมกราคม-ธันวาคม ปี 2021"
   ]
  },
  {
   "cell_type": "code",
   "execution_count": 63,
   "id": "8ccc9bcc",
   "metadata": {},
   "outputs": [
    {
     "data": {
      "text/plain": [
       "(832887, 9)"
      ]
     },
     "execution_count": 63,
     "metadata": {},
     "output_type": "execute_result"
    }
   ],
   "source": [
    "Y_2021 = df[(df['Notified_date'] >= '2021-01-01') & (df['Notified_date'] <= '2021-12-31')]   \n",
    "Y_2021.shape"
   ]
  },
  {
   "cell_type": "code",
   "execution_count": 64,
   "id": "9b8ac626",
   "metadata": {},
   "outputs": [
    {
     "data": {
      "text/plain": [
       "(36850, 9)"
      ]
     },
     "execution_count": 64,
     "metadata": {},
     "output_type": "execute_result"
    }
   ],
   "source": [
    "M1_2021 = Y_2021[Y_2021['Notified_date'] <= '2021-01-31']\n",
    "M1_2021.shape"
   ]
  },
  {
   "cell_type": "code",
   "execution_count": 65,
   "id": "42d2d076",
   "metadata": {},
   "outputs": [
    {
     "data": {
      "text/plain": [
       "(32261, 9)"
      ]
     },
     "execution_count": 65,
     "metadata": {},
     "output_type": "execute_result"
    }
   ],
   "source": [
    "M2_2021 = Y_2021[(Y_2021['Notified_date'] >= '2021-02-01') & (Y_2021['Notified_date'] <= '2021-02-28')]  \n",
    "M2_2021.shape"
   ]
  },
  {
   "cell_type": "code",
   "execution_count": 66,
   "id": "052f2c71",
   "metadata": {},
   "outputs": [
    {
     "data": {
      "text/plain": [
       "(34471, 9)"
      ]
     },
     "execution_count": 66,
     "metadata": {},
     "output_type": "execute_result"
    }
   ],
   "source": [
    "M3_2021 = Y_2021[(Y_2021['Notified_date'] >= '2021-03-01') & (Y_2021['Notified_date'] <= '2021-03-31')]  \n",
    "M3_2021.shape"
   ]
  },
  {
   "cell_type": "code",
   "execution_count": 67,
   "id": "d70bf00e",
   "metadata": {},
   "outputs": [
    {
     "data": {
      "text/plain": [
       "(63758, 9)"
      ]
     },
     "execution_count": 67,
     "metadata": {},
     "output_type": "execute_result"
    }
   ],
   "source": [
    "M4_2021 = Y_2021[(Y_2021['Notified_date'] >= '2021-04-01') & (Y_2021['Notified_date'] <= '2021-04-30')]  \n",
    "M4_2021.shape"
   ]
  },
  {
   "cell_type": "code",
   "execution_count": 68,
   "id": "d15ea55d",
   "metadata": {},
   "outputs": [
    {
     "data": {
      "text/plain": [
       "(104286, 9)"
      ]
     },
     "execution_count": 68,
     "metadata": {},
     "output_type": "execute_result"
    }
   ],
   "source": [
    "M5_2021 = Y_2021[(Y_2021['Notified_date'] >= '2021-05-01') & (Y_2021['Notified_date'] <= '2021-05-31')]  \n",
    "M5_2021.shape"
   ]
  },
  {
   "cell_type": "code",
   "execution_count": 69,
   "id": "51313de1",
   "metadata": {},
   "outputs": [
    {
     "data": {
      "text/plain": [
       "(98746, 9)"
      ]
     },
     "execution_count": 69,
     "metadata": {},
     "output_type": "execute_result"
    }
   ],
   "source": [
    "M6_2021 = Y_2021[(Y_2021['Notified_date'] >= '2021-06-01') & (Y_2021['Notified_date'] <= '2021-06-30')]  \n",
    "M6_2021.shape"
   ]
  },
  {
   "cell_type": "code",
   "execution_count": 70,
   "id": "e9cf8aea",
   "metadata": {},
   "outputs": [
    {
     "data": {
      "text/plain": [
       "(286021, 9)"
      ]
     },
     "execution_count": 70,
     "metadata": {},
     "output_type": "execute_result"
    }
   ],
   "source": [
    "M7_2021 = Y_2021[(Y_2021['Notified_date'] >= '2021-07-01') & (Y_2021['Notified_date'] <= '2021-07-31')]  \n",
    "M7_2021.shape"
   ]
  },
  {
   "cell_type": "code",
   "execution_count": 71,
   "id": "d8c445c7",
   "metadata": {},
   "outputs": [
    {
     "data": {
      "text/plain": [
       "(32989, 9)"
      ]
     },
     "execution_count": 71,
     "metadata": {},
     "output_type": "execute_result"
    }
   ],
   "source": [
    "M8_2021 = Y_2021[(Y_2021['Notified_date'] >= '2021-08-01') & (Y_2021['Notified_date'] <= '2021-08-31')]  \n",
    "M8_2021.shape"
   ]
  },
  {
   "cell_type": "code",
   "execution_count": 72,
   "id": "1fa2b4d8",
   "metadata": {},
   "outputs": [
    {
     "data": {
      "text/plain": [
       "(34680, 9)"
      ]
     },
     "execution_count": 72,
     "metadata": {},
     "output_type": "execute_result"
    }
   ],
   "source": [
    "M9_2021 = Y_2021[(Y_2021['Notified_date'] >= '2021-09-01') & (Y_2021['Notified_date'] <= '2021-09-30')]  \n",
    "M9_2021.shape"
   ]
  },
  {
   "cell_type": "code",
   "execution_count": 73,
   "id": "c253b09b",
   "metadata": {},
   "outputs": [
    {
     "data": {
      "text/plain": [
       "(34339, 9)"
      ]
     },
     "execution_count": 73,
     "metadata": {},
     "output_type": "execute_result"
    }
   ],
   "source": [
    "M10_2021 = Y_2021[(Y_2021['Notified_date'] >= '2021-10-01') & (Y_2021['Notified_date'] <= '2021-10-31')]  \n",
    "M10_2021.shape"
   ]
  },
  {
   "cell_type": "code",
   "execution_count": 74,
   "id": "6ae8a7f2",
   "metadata": {},
   "outputs": [
    {
     "data": {
      "text/plain": [
       "(36261, 9)"
      ]
     },
     "execution_count": 74,
     "metadata": {},
     "output_type": "execute_result"
    }
   ],
   "source": [
    "M11_2021 = Y_2021[(Y_2021['Notified_date'] >= '2021-11-01') & (Y_2021['Notified_date'] <= '2021-11-30')]  \n",
    "M11_2021.shape"
   ]
  },
  {
   "cell_type": "code",
   "execution_count": 75,
   "id": "bc0ba9bf",
   "metadata": {},
   "outputs": [
    {
     "data": {
      "text/plain": [
       "(38225, 9)"
      ]
     },
     "execution_count": 75,
     "metadata": {},
     "output_type": "execute_result"
    }
   ],
   "source": [
    "M12_2021 = Y_2021[(Y_2021['Notified_date'] >= '2021-12-01') & (Y_2021['Notified_date'] <= '2021-12-31')]  \n",
    "M12_2021.shape"
   ]
  },
  {
   "cell_type": "code",
   "execution_count": 76,
   "id": "548ad045",
   "metadata": {},
   "outputs": [
    {
     "data": {
      "text/plain": [
       "832887"
      ]
     },
     "execution_count": 76,
     "metadata": {},
     "output_type": "execute_result"
    }
   ],
   "source": [
    "36850+32261+34471+63758+104286+98746+286021+32989+34680+34339+36261+38225"
   ]
  },
  {
   "cell_type": "code",
   "execution_count": 77,
   "id": "151d630a",
   "metadata": {},
   "outputs": [],
   "source": [
    "import pandas as pd\n",
    "import numpy as np\n",
    "import matplotlib.pyplot as plt"
   ]
  },
  {
   "cell_type": "code",
   "execution_count": 78,
   "id": "d7c9d78f",
   "metadata": {},
   "outputs": [
    {
     "name": "stdout",
     "output_type": "stream",
     "text": [
      "['Solarize_Light2', '_classic_test_patch', 'bmh', 'classic', 'dark_background', 'fast', 'fivethirtyeight', 'ggplot', 'grayscale', 'seaborn', 'seaborn-bright', 'seaborn-colorblind', 'seaborn-dark', 'seaborn-dark-palette', 'seaborn-darkgrid', 'seaborn-deep', 'seaborn-muted', 'seaborn-notebook', 'seaborn-paper', 'seaborn-pastel', 'seaborn-poster', 'seaborn-talk', 'seaborn-ticks', 'seaborn-white', 'seaborn-whitegrid', 'tableau-colorblind10']\n"
     ]
    }
   ],
   "source": [
    "print(plt.style.available)"
   ]
  },
  {
   "cell_type": "code",
   "execution_count": 79,
   "id": "cbb4031f",
   "metadata": {},
   "outputs": [],
   "source": [
    "my_df = {\"Months\" : [\"Jan.\",\"Fab.\",\"Mar.\",\"Apr.\",\"May\",\"Jun.\",\"Jul.\",\"Aug.\",\"Sep.\",\"Oct.\",\"Nov.\",\"Dec.\"],\n",
    "        \"2020\" : [173,167,1723,566,221,142,208,228,201,236,241,2778],\n",
    "        \"2021\" : [36850,32261,34471,63758,104286,98746,286021,32989,34680,34339,36261,38225]\n",
    "        }\n",
    "\n",
    "Df = pd.DataFrame(my_df)"
   ]
  },
  {
   "cell_type": "code",
   "execution_count": 80,
   "id": "1f4b4521",
   "metadata": {},
   "outputs": [
    {
     "data": {
      "image/png": "[encoded data removed]",
      "text/plain": [
       "<Figure size 864x576 with 1 Axes>"
      ]
     },
     "metadata": {
      "needs_background": "light"
     },
     "output_type": "display_data"
    }
   ],
   "source": [
    "plt.figure(figsize = [12,8])\n",
    "plt.grid()\n",
    "plt.plot(Df[\"Months\"], Df[\"2020\"], marker = \"o\",\n",
    "        lw = 3, ms = 10, mec = \"blue\", mfc = \"cyan\", label = \"Year 2020\")\n",
    "plt.plot(Df[\"Months\"], Df[\"2021\"], color = \"red\", marker = \"*\",\n",
    "        lw = 3, ms = 15, mec = \"#E8CCD6\", label = \"Year 2021\")\n",
    "\n",
    "plt.style.use('seaborn-talk')\n",
    "plt.xticks(rotation = 50)\n",
    "plt.yticks(np.arange(150,300000,20000))\n",
    "plt.legend(loc = \"upper right\")\n",
    "plt.xlabel(\"Months\")\n",
    "plt.ylabel(\"Quantity\")\n",
    "plt.title(\"Summary Covid-19 cases in 2020 and 2021\")\n",
    "plt.show();"
   ]
  },
  {
   "cell_type": "code",
   "execution_count": 81,
   "id": "b9bc4e5e",
   "metadata": {},
   "outputs": [
    {
     "data": {
      "image/png": "[encoded data removed]",
      "text/plain": [
       "<Figure size 748.8x514.8 with 2 Axes>"
      ]
     },
     "metadata": {
      "needs_background": "light"
     },
     "output_type": "display_data"
    }
   ],
   "source": [
    "Df.plot(kind='line',subplots=True, grid = True);"
   ]
  },
  {
   "cell_type": "markdown",
   "id": "71a47034",
   "metadata": {},
   "source": [
    "ยอดผู้ติดเชื้อที่เป็นเพศหญิง(Female),เพศชาย(male) และไม่ระบุเพศ(Not specified) ปี 2020"
   ]
  },
  {
   "cell_type": "code",
   "execution_count": 82,
   "id": "6c91dde7",
   "metadata": {},
   "outputs": [
    {
     "data": {
      "text/plain": [
       "(399881, 9)"
      ]
     },
     "execution_count": 82,
     "metadata": {},
     "output_type": "execute_result"
    }
   ],
   "source": [
    "Female = df[df['Gender'] == 'female']\n",
    "Female.shape"
   ]
  },
  {
   "cell_type": "code",
   "execution_count": 83,
   "id": "10cbccce",
   "metadata": {},
   "outputs": [
    {
     "data": {
      "text/plain": [
       "(384995, 9)"
      ]
     },
     "execution_count": 83,
     "metadata": {},
     "output_type": "execute_result"
    }
   ],
   "source": [
    "Male = df[df['Gender']=='male']\n",
    "Male.shape"
   ]
  },
  {
   "cell_type": "code",
   "execution_count": 84,
   "id": "ebc7a578",
   "metadata": {},
   "outputs": [
    {
     "data": {
      "text/plain": [
       "(54895, 9)"
      ]
     },
     "execution_count": 84,
     "metadata": {},
     "output_type": "execute_result"
    }
   ],
   "source": [
    "No = df[df['Gender']=='Not specified']\n",
    "No.shape"
   ]
  },
  {
   "cell_type": "markdown",
   "id": "4c99b464",
   "metadata": {},
   "source": [
    "ยอดผู้ติดเชื้อที่เป็นเพศหญิง(Female) ตั้งแต่เดือนมกราคม-ธันวาคม 2020"
   ]
  },
  {
   "cell_type": "code",
   "execution_count": 85,
   "id": "79e2cf8f",
   "metadata": {},
   "outputs": [
    {
     "data": {
      "text/plain": [
       "(2553, 9)"
      ]
     },
     "execution_count": 85,
     "metadata": {},
     "output_type": "execute_result"
    }
   ],
   "source": [
    "f_2020 = Y_2020[Y_2020['Gender']=='female']\n",
    "f_2020.shape"
   ]
  },
  {
   "cell_type": "code",
   "execution_count": 86,
   "id": "d7a1c1ae",
   "metadata": {},
   "outputs": [
    {
     "data": {
      "text/plain": [
       "(88, 9)"
      ]
     },
     "execution_count": 86,
     "metadata": {},
     "output_type": "execute_result"
    }
   ],
   "source": [
    "f1_2020 = M1_2020[M1_2020['Gender']=='female']\n",
    "f1_2020.shape"
   ]
  },
  {
   "cell_type": "code",
   "execution_count": 87,
   "id": "e4465ad1",
   "metadata": {},
   "outputs": [
    {
     "data": {
      "text/plain": [
       "(87, 9)"
      ]
     },
     "execution_count": 87,
     "metadata": {},
     "output_type": "execute_result"
    }
   ],
   "source": [
    "f2_2020 = M2_2020[M2_2020['Gender']=='female']\n",
    "f2_2020.shape"
   ]
  },
  {
   "cell_type": "code",
   "execution_count": 88,
   "id": "4961ca59",
   "metadata": {},
   "outputs": [
    {
     "data": {
      "text/plain": [
       "(731, 9)"
      ]
     },
     "execution_count": 88,
     "metadata": {},
     "output_type": "execute_result"
    }
   ],
   "source": [
    "f3_2020 = M3_2020[M3_2020['Gender']=='female']\n",
    "f3_2020.shape"
   ]
  },
  {
   "cell_type": "code",
   "execution_count": 89,
   "id": "8854256b",
   "metadata": {},
   "outputs": [
    {
     "data": {
      "text/plain": [
       "(284, 9)"
      ]
     },
     "execution_count": 89,
     "metadata": {},
     "output_type": "execute_result"
    }
   ],
   "source": [
    "f4_2020 = M4_2020[M4_2020['Gender']=='female']\n",
    "f4_2020.shape"
   ]
  },
  {
   "cell_type": "code",
   "execution_count": 90,
   "id": "95239725",
   "metadata": {},
   "outputs": [
    {
     "data": {
      "text/plain": [
       "(94, 9)"
      ]
     },
     "execution_count": 90,
     "metadata": {},
     "output_type": "execute_result"
    }
   ],
   "source": [
    "f5_2020 = M5_2020[M5_2020['Gender']=='female']\n",
    "f5_2020.shape"
   ]
  },
  {
   "cell_type": "code",
   "execution_count": 91,
   "id": "12f9a761",
   "metadata": {},
   "outputs": [
    {
     "data": {
      "text/plain": [
       "(65, 9)"
      ]
     },
     "execution_count": 91,
     "metadata": {},
     "output_type": "execute_result"
    }
   ],
   "source": [
    "f6_2020 = M6_2020[M6_2020['Gender']=='female']\n",
    "f6_2020.shape"
   ]
  },
  {
   "cell_type": "code",
   "execution_count": 92,
   "id": "3a4f6fae",
   "metadata": {},
   "outputs": [
    {
     "data": {
      "text/plain": [
       "(73, 9)"
      ]
     },
     "execution_count": 92,
     "metadata": {},
     "output_type": "execute_result"
    }
   ],
   "source": [
    "f7_2020 = M7_2020[M7_2020['Gender']=='female']\n",
    "f7_2020.shape"
   ]
  },
  {
   "cell_type": "code",
   "execution_count": 93,
   "id": "35ac4d97",
   "metadata": {},
   "outputs": [
    {
     "data": {
      "text/plain": [
       "(100, 9)"
      ]
     },
     "execution_count": 93,
     "metadata": {},
     "output_type": "execute_result"
    }
   ],
   "source": [
    "f8_2020 = M8_2020[M8_2020['Gender']=='female']\n",
    "f8_2020.shape"
   ]
  },
  {
   "cell_type": "code",
   "execution_count": 94,
   "id": "565287b1",
   "metadata": {},
   "outputs": [
    {
     "data": {
      "text/plain": [
       "(82, 9)"
      ]
     },
     "execution_count": 94,
     "metadata": {},
     "output_type": "execute_result"
    }
   ],
   "source": [
    "f9_2020 = M9_2020[M9_2020['Gender']=='female']\n",
    "f9_2020.shape"
   ]
  },
  {
   "cell_type": "code",
   "execution_count": 95,
   "id": "8514c660",
   "metadata": {},
   "outputs": [
    {
     "data": {
      "text/plain": [
       "(112, 9)"
      ]
     },
     "execution_count": 95,
     "metadata": {},
     "output_type": "execute_result"
    }
   ],
   "source": [
    "f10_2020 = M10_2020[M10_2020['Gender']=='female']\n",
    "f10_2020.shape"
   ]
  },
  {
   "cell_type": "code",
   "execution_count": 96,
   "id": "2e620ffe",
   "metadata": {},
   "outputs": [
    {
     "data": {
      "text/plain": [
       "(131, 9)"
      ]
     },
     "execution_count": 96,
     "metadata": {},
     "output_type": "execute_result"
    }
   ],
   "source": [
    "f11_2020 = M11_2020[M11_2020['Gender']=='female']\n",
    "f11_2020.shape"
   ]
  },
  {
   "cell_type": "code",
   "execution_count": 97,
   "id": "fb151a01",
   "metadata": {},
   "outputs": [
    {
     "data": {
      "text/plain": [
       "(706, 9)"
      ]
     },
     "execution_count": 97,
     "metadata": {},
     "output_type": "execute_result"
    }
   ],
   "source": [
    "f12_2020 = M12_2020[M12_2020['Gender']=='female']\n",
    "f12_2020.shape"
   ]
  },
  {
   "cell_type": "code",
   "execution_count": 98,
   "id": "3e2891f8",
   "metadata": {},
   "outputs": [
    {
     "data": {
      "text/plain": [
       "2553"
      ]
     },
     "execution_count": 98,
     "metadata": {},
     "output_type": "execute_result"
    }
   ],
   "source": [
    "88+87+731+284+94+65+73+100+82+112+131+706   #female"
   ]
  },
  {
   "cell_type": "markdown",
   "id": "d844d31b",
   "metadata": {},
   "source": [
    "ยอดผู้ติดเชื้อที่เป็นเพศชาย(male) ตั้งแต่เดือนมกราคม-ธันวาคม 2020"
   ]
  },
  {
   "cell_type": "code",
   "execution_count": 99,
   "id": "50e59838",
   "metadata": {},
   "outputs": [
    {
     "data": {
      "text/plain": [
       "(2906, 9)"
      ]
     },
     "execution_count": 99,
     "metadata": {},
     "output_type": "execute_result"
    }
   ],
   "source": [
    "m_2020 = Y_2020[Y_2020['Gender']=='male']\n",
    "m_2020.shape"
   ]
  },
  {
   "cell_type": "code",
   "execution_count": 100,
   "id": "d6438214",
   "metadata": {},
   "outputs": [
    {
     "data": {
      "text/plain": [
       "(85, 9)"
      ]
     },
     "execution_count": 100,
     "metadata": {},
     "output_type": "execute_result"
    }
   ],
   "source": [
    "m1_2020 = M1_2020[M1_2020['Gender']=='male']\n",
    "m1_2020.shape"
   ]
  },
  {
   "cell_type": "code",
   "execution_count": 101,
   "id": "1d250641",
   "metadata": {},
   "outputs": [
    {
     "data": {
      "text/plain": [
       "(80, 9)"
      ]
     },
     "execution_count": 101,
     "metadata": {},
     "output_type": "execute_result"
    }
   ],
   "source": [
    "m2_2020 = M2_2020[M2_2020['Gender']=='male']\n",
    "m2_2020.shape"
   ]
  },
  {
   "cell_type": "code",
   "execution_count": 102,
   "id": "da70d993",
   "metadata": {},
   "outputs": [
    {
     "data": {
      "text/plain": [
       "(992, 9)"
      ]
     },
     "execution_count": 102,
     "metadata": {},
     "output_type": "execute_result"
    }
   ],
   "source": [
    "m3_2020 = M3_2020[M3_2020['Gender']=='male']\n",
    "m3_2020.shape"
   ]
  },
  {
   "cell_type": "code",
   "execution_count": 103,
   "id": "e52f13cf",
   "metadata": {},
   "outputs": [
    {
     "data": {
      "text/plain": [
       "(282, 9)"
      ]
     },
     "execution_count": 103,
     "metadata": {},
     "output_type": "execute_result"
    }
   ],
   "source": [
    "m4_2020 = M4_2020[M4_2020['Gender']=='male']\n",
    "m4_2020.shape"
   ]
  },
  {
   "cell_type": "code",
   "execution_count": 104,
   "id": "a2819dcc",
   "metadata": {},
   "outputs": [
    {
     "data": {
      "text/plain": [
       "(127, 9)"
      ]
     },
     "execution_count": 104,
     "metadata": {},
     "output_type": "execute_result"
    }
   ],
   "source": [
    "m5_2020 = M5_2020[M5_2020['Gender']=='male']\n",
    "m5_2020.shape"
   ]
  },
  {
   "cell_type": "code",
   "execution_count": 105,
   "id": "808cd937",
   "metadata": {},
   "outputs": [
    {
     "data": {
      "text/plain": [
       "(77, 9)"
      ]
     },
     "execution_count": 105,
     "metadata": {},
     "output_type": "execute_result"
    }
   ],
   "source": [
    "m6_2020 = M6_2020[M6_2020['Gender']=='male']\n",
    "m6_2020.shape"
   ]
  },
  {
   "cell_type": "code",
   "execution_count": 106,
   "id": "ef793dd7",
   "metadata": {},
   "outputs": [
    {
     "data": {
      "text/plain": [
       "(135, 9)"
      ]
     },
     "execution_count": 106,
     "metadata": {},
     "output_type": "execute_result"
    }
   ],
   "source": [
    "m7_2020 = M7_2020[M7_2020['Gender']=='male']\n",
    "m7_2020.shape"
   ]
  },
  {
   "cell_type": "code",
   "execution_count": 107,
   "id": "3dc161b7",
   "metadata": {},
   "outputs": [
    {
     "data": {
      "text/plain": [
       "(128, 9)"
      ]
     },
     "execution_count": 107,
     "metadata": {},
     "output_type": "execute_result"
    }
   ],
   "source": [
    "m8_2020 = M8_2020[M8_2020['Gender']=='male']\n",
    "m8_2020.shape"
   ]
  },
  {
   "cell_type": "code",
   "execution_count": 108,
   "id": "496852e9",
   "metadata": {},
   "outputs": [
    {
     "data": {
      "text/plain": [
       "(119, 9)"
      ]
     },
     "execution_count": 108,
     "metadata": {},
     "output_type": "execute_result"
    }
   ],
   "source": [
    "m9_2020 = M9_2020[M9_2020['Gender']=='male']\n",
    "m9_2020.shape"
   ]
  },
  {
   "cell_type": "code",
   "execution_count": 109,
   "id": "884ff824",
   "metadata": {},
   "outputs": [
    {
     "data": {
      "text/plain": [
       "(124, 9)"
      ]
     },
     "execution_count": 109,
     "metadata": {},
     "output_type": "execute_result"
    }
   ],
   "source": [
    "m10_2020 = M10_2020[M10_2020['Gender']=='male']\n",
    "m10_2020.shape"
   ]
  },
  {
   "cell_type": "code",
   "execution_count": 110,
   "id": "6730acb6",
   "metadata": {},
   "outputs": [
    {
     "data": {
      "text/plain": [
       "(110, 9)"
      ]
     },
     "execution_count": 110,
     "metadata": {},
     "output_type": "execute_result"
    }
   ],
   "source": [
    "m11_2020 = M11_2020[M11_2020['Gender']=='male']\n",
    "m11_2020.shape"
   ]
  },
  {
   "cell_type": "code",
   "execution_count": 111,
   "id": "aa98aa79",
   "metadata": {},
   "outputs": [
    {
     "data": {
      "text/plain": [
       "(647, 9)"
      ]
     },
     "execution_count": 111,
     "metadata": {},
     "output_type": "execute_result"
    }
   ],
   "source": [
    "m12_2020 = M12_2020[M12_2020['Gender']=='male']\n",
    "m12_2020.shape"
   ]
  },
  {
   "cell_type": "code",
   "execution_count": 112,
   "id": "b515c3c2",
   "metadata": {},
   "outputs": [
    {
     "data": {
      "text/plain": [
       "2906"
      ]
     },
     "execution_count": 112,
     "metadata": {},
     "output_type": "execute_result"
    }
   ],
   "source": [
    "85+80+992+282+127+77+135+128+119+124+110+647       #male"
   ]
  },
  {
   "cell_type": "markdown",
   "id": "7baa7725",
   "metadata": {},
   "source": [
    "ยอดผู้ติดเชื้อที่ไม่ระบุเพศ(Not specified) ตั้งแต่เดือนมกราคม-ธันวาคม 2020"
   ]
  },
  {
   "cell_type": "code",
   "execution_count": 113,
   "id": "668bce13",
   "metadata": {},
   "outputs": [
    {
     "data": {
      "text/plain": [
       "(1425, 9)"
      ]
     },
     "execution_count": 113,
     "metadata": {},
     "output_type": "execute_result"
    }
   ],
   "source": [
    "No_2020 = Y_2020[Y_2020['Gender']=='Not specified']\n",
    "No_2020.shape"
   ]
  },
  {
   "cell_type": "code",
   "execution_count": 114,
   "id": "551d6c44",
   "metadata": {},
   "outputs": [
    {
     "data": {
      "text/plain": [
       "(0, 9)"
      ]
     },
     "execution_count": 114,
     "metadata": {},
     "output_type": "execute_result"
    }
   ],
   "source": [
    "No1_2020 = M1_2020[M1_2020['Gender']=='Not specified']\n",
    "No1_2020.shape"
   ]
  },
  {
   "cell_type": "code",
   "execution_count": 115,
   "id": "9dafe00f",
   "metadata": {},
   "outputs": [
    {
     "data": {
      "text/plain": [
       "(0, 9)"
      ]
     },
     "execution_count": 115,
     "metadata": {},
     "output_type": "execute_result"
    }
   ],
   "source": [
    "No2_2020 = M2_2020[M2_2020['Gender']=='Not specified']\n",
    "No2_2020.shape"
   ]
  },
  {
   "cell_type": "code",
   "execution_count": 116,
   "id": "b37c9183",
   "metadata": {},
   "outputs": [
    {
     "data": {
      "text/plain": [
       "(0, 9)"
      ]
     },
     "execution_count": 116,
     "metadata": {},
     "output_type": "execute_result"
    }
   ],
   "source": [
    "No3_2020 = M3_2020[M3_2020['Gender']=='Not specified']\n",
    "No3_2020.shape"
   ]
  },
  {
   "cell_type": "code",
   "execution_count": 117,
   "id": "ec6e34aa",
   "metadata": {},
   "outputs": [
    {
     "data": {
      "text/plain": [
       "(0, 9)"
      ]
     },
     "execution_count": 117,
     "metadata": {},
     "output_type": "execute_result"
    }
   ],
   "source": [
    "No4_2020 = M4_2020[M4_2020['Gender']=='Not specified']\n",
    "No4_2020.shape"
   ]
  },
  {
   "cell_type": "code",
   "execution_count": 118,
   "id": "f4bfecee",
   "metadata": {},
   "outputs": [
    {
     "data": {
      "text/plain": [
       "(0, 9)"
      ]
     },
     "execution_count": 118,
     "metadata": {},
     "output_type": "execute_result"
    }
   ],
   "source": [
    "No5_2020 = M5_2020[M5_2020['Gender']=='Not specified']\n",
    "No5_2020.shape"
   ]
  },
  {
   "cell_type": "code",
   "execution_count": 119,
   "id": "d578b3e5",
   "metadata": {},
   "outputs": [
    {
     "data": {
      "text/plain": [
       "(0, 9)"
      ]
     },
     "execution_count": 119,
     "metadata": {},
     "output_type": "execute_result"
    }
   ],
   "source": [
    "No6_2020 = M6_2020[M6_2020['Gender']=='Not specified']\n",
    "No6_2020.shape"
   ]
  },
  {
   "cell_type": "code",
   "execution_count": 120,
   "id": "9ff6f943",
   "metadata": {},
   "outputs": [
    {
     "data": {
      "text/plain": [
       "(0, 9)"
      ]
     },
     "execution_count": 120,
     "metadata": {},
     "output_type": "execute_result"
    }
   ],
   "source": [
    "No7_2020 = M7_2020[M7_2020['Gender']=='Not specified']\n",
    "No7_2020.shape"
   ]
  },
  {
   "cell_type": "code",
   "execution_count": 121,
   "id": "2da2fe94",
   "metadata": {},
   "outputs": [
    {
     "data": {
      "text/plain": [
       "(0, 9)"
      ]
     },
     "execution_count": 121,
     "metadata": {},
     "output_type": "execute_result"
    }
   ],
   "source": [
    "No8_2020 = M8_2020[M8_2020['Gender']=='Not specified']\n",
    "No8_2020.shape"
   ]
  },
  {
   "cell_type": "code",
   "execution_count": 122,
   "id": "8be3f4f4",
   "metadata": {},
   "outputs": [
    {
     "data": {
      "text/plain": [
       "(0, 9)"
      ]
     },
     "execution_count": 122,
     "metadata": {},
     "output_type": "execute_result"
    }
   ],
   "source": [
    "No9_2020 = M9_2020[M9_2020['Gender']=='Not specified']\n",
    "No9_2020.shape"
   ]
  },
  {
   "cell_type": "code",
   "execution_count": 123,
   "id": "2bf19886",
   "metadata": {},
   "outputs": [
    {
     "data": {
      "text/plain": [
       "(0, 9)"
      ]
     },
     "execution_count": 123,
     "metadata": {},
     "output_type": "execute_result"
    }
   ],
   "source": [
    "No10_2020 = M10_2020[M10_2020['Gender']=='Not specified']\n",
    "No10_2020.shape"
   ]
  },
  {
   "cell_type": "code",
   "execution_count": 124,
   "id": "223d9d43",
   "metadata": {},
   "outputs": [
    {
     "data": {
      "text/plain": [
       "(0, 9)"
      ]
     },
     "execution_count": 124,
     "metadata": {},
     "output_type": "execute_result"
    }
   ],
   "source": [
    "No11_2020 = M11_2020[M11_2020['Gender']=='Not specified']\n",
    "No11_2020.shape"
   ]
  },
  {
   "cell_type": "code",
   "execution_count": 125,
   "id": "5e3638c6",
   "metadata": {},
   "outputs": [
    {
     "data": {
      "text/plain": [
       "(1425, 9)"
      ]
     },
     "execution_count": 125,
     "metadata": {},
     "output_type": "execute_result"
    }
   ],
   "source": [
    "No12_2020 = M12_2020[M12_2020['Gender']=='Not specified']\n",
    "No12_2020.shape"
   ]
  },
  {
   "cell_type": "code",
   "execution_count": 126,
   "id": "9ad1b627",
   "metadata": {},
   "outputs": [
    {
     "data": {
      "text/plain": [
       "1425"
      ]
     },
     "execution_count": 126,
     "metadata": {},
     "output_type": "execute_result"
    }
   ],
   "source": [
    "0+0+0+0+0+0+0+0+0+0+0+1425"
   ]
  },
  {
   "cell_type": "code",
   "execution_count": 127,
   "id": "5add903e",
   "metadata": {},
   "outputs": [],
   "source": [
    "import pandas as pd"
   ]
  },
  {
   "cell_type": "code",
   "execution_count": 128,
   "id": "7069f1d6",
   "metadata": {},
   "outputs": [
    {
     "data": {
      "image/png": "[encoded data removed]",
      "text/plain": [
       "<Figure size 720x360 with 1 Axes>"
      ]
     },
     "metadata": {
      "needs_background": "light"
     },
     "output_type": "display_data"
    }
   ],
   "source": [
    "Gender = {\"female\" : [88,87,731,284,94,65,73,100,82,112,131,706],\n",
    "         \"male\" : [85,80,992,282,127,77,135,128,119,124,110,647],\n",
    "         \"Not specified\" : [0,0,0,0,0,0,0,0,0,0,0,1425]\n",
    "         }\n",
    "my_index = [\"Jan.\",\"Fab.\",\"Mar.\",\"Apr.\",\"May\",\"Jun.\",\"Jul.\",\"Aug.\",\"Sep.\",\"Oct.\",\"Nov.\",\"Dec.\"]\n",
    "d = pd.DataFrame(Gender, index = my_index)\n",
    "\n",
    "d.plot(kind = \"bar\",figsize = (10,5), rot =40, xlabel = \"Months\", ylabel = \"Quantity\",\n",
    "title = \"Total of people infected with Covid-19 by gender in 2020\");"
   ]
  },
  {
   "cell_type": "code",
   "execution_count": 129,
   "id": "eba69bb7",
   "metadata": {},
   "outputs": [
    {
     "data": {
      "image/png": "[encoded data removed]",
      "text/plain": [
       "<Figure size 748.8x514.8 with 3 Axes>"
      ]
     },
     "metadata": {
      "needs_background": "light"
     },
     "output_type": "display_data"
    }
   ],
   "source": [
    "d.plot(kind='bar',subplots=True);"
   ]
  },
  {
   "cell_type": "code",
   "execution_count": null,
   "id": "53ff48a1",
   "metadata": {},
   "outputs": [],
   "source": []
  },
  {
   "cell_type": "code",
   "execution_count": 130,
   "id": "9fa20b80",
   "metadata": {},
   "outputs": [
    {
     "data": {
      "text/plain": [
       "array(['Thailand', 'Canada', 'Russia', 'Serbia', 'Burma', 'Malaysia',\n",
       "       'Japan', 'France', 'Finland', 'Philippines', 'Brazil', 'India',\n",
       "       'United Kingdom', 'Pakistan', 'Belarus', 'Sudan',\n",
       "       'United States of America', 'China', 'Australia', 'Sweden',\n",
       "       'Germany', 'Switzerland', 'Vietnam', 'Belgium', 'Kenya', 'Egypt',\n",
       "       'Kuwait', 'Liberia', 'Singapore', 'Hungary', 'Macedonia',\n",
       "       'Laotian', 'Israel', 'Bangladesh', 'Azerbaijan', 'Denmark',\n",
       "       'Italy', 'unknown', 'Iran', 'New Zealand', 'Netherlands',\n",
       "       'Cambodia', 'Laos', 'Spain', 'Ukraine', 'Portugal', 'Uzbekistan',\n",
       "       'Indonesia', 'Korea, South', 'India-Thailand', 'Albania', 'Taiwan',\n",
       "       'Mexico', 'Tunisia', 'ต่างด้าว', 'Maldives', 'Czechia', 'Nepal',\n",
       "       'Mali', 'Yemen', 'Bahrain', 'Portuguese', 'Kazakhstan', 'Nigeria',\n",
       "       'Estonia', 'Palestine', 'Bulgaria', 'Qatar', 'Ethiopia',\n",
       "       'Lithuania', 'Oman', 'Libya', 'Turkey', 'Syria', 'American',\n",
       "       'Italian', 'deutsch', 'Norway', 'American ', 'Jordan', 'Romania',\n",
       "       'Argentina', 'Afghanistan', 'china', 'ไทใหญ่', 'Ireland',\n",
       "       'Croatia', 'Eritrea', 'Hong Kong', 'United Arab Emirates',\n",
       "       'Slovenia', 'Lebanon', 'Luxembourg', 'Burmese', 'Cambodian',\n",
       "       'Laotian / Lao', 'Guinean', 'Chinese', 'Japanese', 'Dutch',\n",
       "       'Taiwanese', 'Indian', 'French', 'Indonesian', 'Russian', 'congo',\n",
       "       'Pakistani', 'Bangladeshi', 'Filipino', 'British', 'Ivorian',\n",
       "       'Australian', 'German', 'Other', 'Greece', 'Iceland',\n",
       "       'American Samoa', 'Poland', 'Austria', 'South Africa', 'Iraq',\n",
       "       'Brunei', 'Singaporean', 'Oatari', 'Kuwaiti', 'British / English',\n",
       "       'cambodian', 'Vietnamese', 'Canadian', 'South Korean', 'Timorese',\n",
       "       'Kyrgyzstan', 'Uganda', 'Cameroon', 'Zimbabwe', 'Latvia',\n",
       "       'Armenia', 'Syrian', 'Icelandic', 'Iranian', 'Malaysian',\n",
       "       'Sri Lanka', 'Kosovo', 'ไม่มีสัญชาติ', 'Palestinian',\n",
       "       \"Cote D'Ivoire\", 'Tajikistan', 'Mauritius', 'burma', 'Guinea',\n",
       "       'Belgian', 'Swedish', 'Israeli', 'Laotian/Lao', 'indian', 'japan',\n",
       "       'Cuba', 'Namibia', 'Myanmar', 'ลาว', 'Lao', 'Bermuda',\n",
       "       'French Guiana', 'Tanzania', 'laos', 'Mongolia', 'Malta',\n",
       "       'อเมริกา', 'yemen', 'บราซิล', 'Congo (Brazzaville)', 'Brazilian',\n",
       "       'South African', 'Austrian', 'Finnish', 'Kazakh / Kazakhstani',\n",
       "       'Colombia', 'Ghana', 'Malawi', 'Gambia, The', 'Dominican Republic',\n",
       "       'Nicaragua', 'Gambia', 'Malian', 'Guyanese', 'Nepalese / Nepali',\n",
       "       'Spanish', 'Norwegian', 'Turkish', 'Sri Lankan', 'pakistani',\n",
       "       'Swiss', 'Ghanaian', 'Tanzanian', 'Nigerian', 'Timor-Leste',\n",
       "       'Danish', 'Venezuelan', 'Romanian', 'Mongolian', 'African',\n",
       "       'Maldivian', 'Guyana', 'Haitian', 'Moroccan', 'Kenyan', 'Ugandan',\n",
       "       'Serbian', 'Senegal', 'france', 'Egyptian', 'Thai', 'Hungarian',\n",
       "       'L', 'Argentine', 'burmese', 'Mauritians', 'Afghan / Afghani',\n",
       "       'Colombian', 'Uzbek', 'พม่า', 'chinese', 'ไนจีเรีย', 'Irish',\n",
       "       'Emirati', 'กัมพูชา', 'จีน', 'IRISH', 'Czech', 'Yemeni / Yemenite',\n",
       "       'Greek', 'Americans', 'Jordanian', 'Iraqi', 'Algerian', 'iranian',\n",
       "       'North Korean', 'india', 'taiwan', 'canadian', 'Polish',\n",
       "       'laotian / Lao', 'ไทยใหญ่', 'Somalia', 'Algeria', 'Sierra Leone'],\n",
       "      dtype=object)"
      ]
     },
     "execution_count": 130,
     "metadata": {},
     "output_type": "execute_result"
    }
   ],
   "source": [
    "df['nationality'].unique()"
   ]
  },
  {
   "cell_type": "markdown",
   "id": "9ab71636",
   "metadata": {},
   "source": [
    "จำนวนผู้ติดโควิดที่เป็นคนสัญชาติไทย"
   ]
  },
  {
   "cell_type": "code",
   "execution_count": 131,
   "id": "e91c08eb",
   "metadata": {},
   "outputs": [
    {
     "data": {
      "text/plain": [
       "(651511, 9)"
      ]
     },
     "execution_count": 131,
     "metadata": {},
     "output_type": "execute_result"
    }
   ],
   "source": [
    "Th = df[df['nationality']=='Thailand']\n",
    "Th.shape"
   ]
  },
  {
   "cell_type": "code",
   "execution_count": 132,
   "id": "63c1fe81",
   "metadata": {},
   "outputs": [
    {
     "data": {
      "text/plain": [
       "array(['กรุงเทพมหานคร', 'นนทบุรี', 'ชลบุรี', 'ภูเก็ต', 'unknown',\n",
       "       'สมุทรสาคร', 'นราธิวาส', 'ปัตตานี', 'เชียงใหม่', 'บุรีรัมย์',\n",
       "       'สมุทรปราการ', 'ฉะเชิงเทรา', 'ปทุมธานี', 'สระบุรี', 'สงขลา',\n",
       "       'อุบลราชธานี', 'กระบี่', 'ศรีสะเกษ', 'นครปฐม', 'หนองบัวลำภู',\n",
       "       'ยะลา', 'ประจวบคีรีขันธ์', 'เชียงราย', 'สุรินทร์', 'นครนายก',\n",
       "       'ลำพูน', 'อำนาจเจริญ', 'สมุทรสงคราม', 'เพชรบุรี', 'สุราษฎร์ธานี',\n",
       "       'นครศรีธรรมราช', 'กาญจนบุรี', 'พัทลุง', 'ขอนแก่น', 'หนองคาย',\n",
       "       'กาฬสินธุ์', 'ปราจีนบุรี', 'ราชบุรี', 'พะเยา', 'พิจิตร',\n",
       "       'เพชรบูรณ์', 'สุโขทัย', 'นครราชสีมา', 'ร้อยเอ็ด', 'ระยอง',\n",
       "       'ลพบุรี', 'มหาสารคาม', 'อุดรธานี', 'สระแก้ว', 'แพร่', 'เลย',\n",
       "       'ยโสธร', 'จันทบุรี', 'ตาก', 'อุทัยธานี', 'ตรัง', 'มุกดาหาร',\n",
       "       'พิษณุโลก', 'นครสวรรค์', 'แม่ฮ่องสอน', 'ชัยภูมิ', 'อุตรดิตถ์',\n",
       "       'นครพนม', 'สุพรรณบุรี', 'ชุมพร', 'พระนครศรีอยุธยา', 'ลำปาง',\n",
       "       'สตูล', 'พังงา', 'สกลนคร', 'สิงห์บุรี', 'กำแพงเพชร', 'ชัยนาท',\n",
       "       'อ่างทอง', 'พม่า', 'ตราด', 'ระนอง', 'น่าน', 'บึงกาฬ', 'อยุทธยา',\n",
       "       'อยุธยา', 'นอกเขต', 'สงขลา\\u200b', 'เมือง', 'แล้วป่วย',\n",
       "       'สุทรปราการ', 'สมุทรปรากรร', 'บุรีรัมย์\\xa0', 'สมุครปราการ',\n",
       "       'สมุทราปราการ', 'ชุุมพร', 'สมถทรปราการ', 'สมุุทรปราการ',\n",
       "       'นครศร๊ะรรมราช', 'สมุทรปรากร', 'ลาดพร้าว', 'ไม่ระบุ',\n",
       "       'สุมทรปราการ', 'มหาสาคาม', 'บุรีรัยม์', 'ปมุมธานี', 'ศรีษะเกษ',\n",
       "       'ลำลูกกา', 'ขัยนาท', 'สารภี', 'เวียงจันทร์', 'สะแก้ว', 'อุุดรธานี',\n",
       "       'หนองบััวลำภู', 'อุดรธานีี', 'ประจวบฯ', 'ชลบุุรี', 'สมทรสาคร',\n",
       "       'เพชรบุูรณ์', 'ปทุมธานี.', 'มาเลเซีย', 'สุุราษฎร์ธานี', 'เรือ',\n",
       "       'สุมทรสาคร', 'ท้ายบ้าน', 'ขอนแก่่น', 'อยุุธยา', 'สุมุทรสาคร',\n",
       "       'ปทุุมธานี', 'ปทุมธานีี', 'กทม', 'ชลบุรี\\t', 'กาฬสินธิ์',\n",
       "       'กาฬสินธ์', 'สมุทสาคร', 'สถานที่ทำงาน', 'นาราธิวาส', 'ชมพร',\n",
       "       'สุราษฏร์ธานี', 'นครปบม', 'สุราษฎร์์ธานี', 'ปลวกแดง', 'สมุุทรสาคร',\n",
       "       'สุมุทรปราการ', 'บึงโขงหลง', 'อุุดรธาน', 'นตรปฐม', 'กัมพูชา',\n",
       "       'ปลายพระยา', 'ยานนาวา', 'นคนปฐม', 'เวียงสา', 'ปัว', 'บ้านหลวง',\n",
       "       'เมืองน่าน', 'ภูเพียง', 'สองแคว', 'บางกะปิ', 'อุบลราขธานี', 'สอง',\n",
       "       'เด่นชัย', 'สูงเม่น', 'ลอง', 'หนองม่วงไข่', 'ร้องกวาง', 'วังชิ้น',\n",
       "       'อุุตรดิตถ์', 'อุุทัยธานี', 'ปุทมธานี', 'สมุทสงคราม', 'เชีียงราย',\n",
       "       'พิษณูโลก', 'สุวรรณภูมิ', 'นาวัง', '\\xa0สมุทรสงคราม',\n",
       "       '\\xa0สมุทรสาคร', '\\xa0อุทัยธานี', '\\xa0นครปฐม', '\\xa0ตราด',\n",
       "       '\\xa0ชลบุรี', '\\xa0กาญจนบุรี', 'ธารโต', 'อํานาจเจริญ',\n",
       "       'นครนาชสีมา', 'นคปฐม', 'ปัตาตานี'], dtype=object)"
      ]
     },
     "execution_count": 132,
     "metadata": {},
     "output_type": "execute_result"
    }
   ],
   "source": [
    "df['province_of_onset'].unique()"
   ]
  },
  {
   "cell_type": "code",
   "execution_count": 133,
   "id": "520af5ba",
   "metadata": {},
   "outputs": [
    {
     "data": {
      "text/html": [
       "<div>\n",
       "<style scoped>\n",
       "    .dataframe tbody tr th:only-of-type {\n",
       "        vertical-align: middle;\n",
       "    }\n",
       "\n",
       "    .dataframe tbody tr th {\n",
       "        vertical-align: top;\n",
       "    }\n",
       "\n",
       "    .dataframe thead th {\n",
       "        text-align: right;\n",
       "    }\n",
       "</style>\n",
       "<table border=\"1\" class=\"dataframe\">\n",
       "  <thead>\n",
       "    <tr style=\"text-align: right;\">\n",
       "      <th></th>\n",
       "      <th>Notified_date</th>\n",
       "      <th>sex</th>\n",
       "      <th>age</th>\n",
       "      <th>nationality</th>\n",
       "      <th>province_of_isolation</th>\n",
       "      <th>risk</th>\n",
       "      <th>province_of_onset</th>\n",
       "      <th>Agegroup</th>\n",
       "      <th>Gender</th>\n",
       "      <th>Zone</th>\n",
       "    </tr>\n",
       "  </thead>\n",
       "  <tbody>\n",
       "    <tr>\n",
       "      <th>1736</th>\n",
       "      <td>2020-01-04</td>\n",
       "      <td>ชาย</td>\n",
       "      <td>41.0</td>\n",
       "      <td>Thailand</td>\n",
       "      <td>กรุงเทพมหานคร</td>\n",
       "      <td>อาชีพเสี่ยง เช่น ทำงานในสถานที่แออัด หรือทำงาน...</td>\n",
       "      <td>กรุงเทพมหานคร</td>\n",
       "      <td>young</td>\n",
       "      <td>male</td>\n",
       "      <td>central</td>\n",
       "    </tr>\n",
       "    <tr>\n",
       "      <th>1750</th>\n",
       "      <td>2020-01-04</td>\n",
       "      <td>หญิง</td>\n",
       "      <td>22.0</td>\n",
       "      <td>Thailand</td>\n",
       "      <td>นนทบุรี</td>\n",
       "      <td>คนไทยเดินทางกลับจากต่างประเทศ</td>\n",
       "      <td>นนทบุรี</td>\n",
       "      <td>young</td>\n",
       "      <td>female</td>\n",
       "      <td>central</td>\n",
       "    </tr>\n",
       "    <tr>\n",
       "      <th>1751</th>\n",
       "      <td>2020-01-04</td>\n",
       "      <td>หญิง</td>\n",
       "      <td>43.0</td>\n",
       "      <td>Thailand</td>\n",
       "      <td>กรุงเทพมหานคร</td>\n",
       "      <td>ระบุไม่ได้</td>\n",
       "      <td>กรุงเทพมหานคร</td>\n",
       "      <td>young</td>\n",
       "      <td>female</td>\n",
       "      <td>central</td>\n",
       "    </tr>\n",
       "    <tr>\n",
       "      <th>1752</th>\n",
       "      <td>2020-01-04</td>\n",
       "      <td>หญิง</td>\n",
       "      <td>38.0</td>\n",
       "      <td>Thailand</td>\n",
       "      <td>ชลบุรี</td>\n",
       "      <td>สัมผัสใกล้ชิดกับผู้ป่วยยืนยันรายก่อนหน้านี้</td>\n",
       "      <td>ชลบุรี</td>\n",
       "      <td>young</td>\n",
       "      <td>female</td>\n",
       "      <td>Eastern</td>\n",
       "    </tr>\n",
       "    <tr>\n",
       "      <th>1767</th>\n",
       "      <td>2020-01-04</td>\n",
       "      <td>หญิง</td>\n",
       "      <td>25.0</td>\n",
       "      <td>Thailand</td>\n",
       "      <td>กรุงเทพมหานคร</td>\n",
       "      <td>สัมผัสผู้เดินทางจากต่างประเทศ</td>\n",
       "      <td>กรุงเทพมหานคร</td>\n",
       "      <td>young</td>\n",
       "      <td>female</td>\n",
       "      <td>central</td>\n",
       "    </tr>\n",
       "    <tr>\n",
       "      <th>...</th>\n",
       "      <td>...</td>\n",
       "      <td>...</td>\n",
       "      <td>...</td>\n",
       "      <td>...</td>\n",
       "      <td>...</td>\n",
       "      <td>...</td>\n",
       "      <td>...</td>\n",
       "      <td>...</td>\n",
       "      <td>...</td>\n",
       "      <td>...</td>\n",
       "    </tr>\n",
       "    <tr>\n",
       "      <th>837624</th>\n",
       "      <td>2021-12-08</td>\n",
       "      <td>ชาย</td>\n",
       "      <td>27.0</td>\n",
       "      <td>Thailand</td>\n",
       "      <td>กรุงเทพมหานคร</td>\n",
       "      <td>สัมผัสใกล้ชิดกับผู้ป่วยยืนยันรายก่อนหน้านี้</td>\n",
       "      <td>กรุงเทพมหานคร</td>\n",
       "      <td>young</td>\n",
       "      <td>male</td>\n",
       "      <td>central</td>\n",
       "    </tr>\n",
       "    <tr>\n",
       "      <th>837625</th>\n",
       "      <td>2021-12-08</td>\n",
       "      <td>ชาย</td>\n",
       "      <td>20.0</td>\n",
       "      <td>Thailand</td>\n",
       "      <td>กรุงเทพมหานคร</td>\n",
       "      <td>อยู่ระหว่างการสอบสวน</td>\n",
       "      <td>กรุงเทพมหานคร</td>\n",
       "      <td>young</td>\n",
       "      <td>male</td>\n",
       "      <td>central</td>\n",
       "    </tr>\n",
       "    <tr>\n",
       "      <th>837626</th>\n",
       "      <td>2021-12-08</td>\n",
       "      <td>ชาย</td>\n",
       "      <td>55.0</td>\n",
       "      <td>Thailand</td>\n",
       "      <td>กรุงเทพมหานคร</td>\n",
       "      <td>อื่นๆ</td>\n",
       "      <td>กรุงเทพมหานคร</td>\n",
       "      <td>young</td>\n",
       "      <td>male</td>\n",
       "      <td>central</td>\n",
       "    </tr>\n",
       "    <tr>\n",
       "      <th>837503</th>\n",
       "      <td>2021-12-08</td>\n",
       "      <td>หญิง</td>\n",
       "      <td>25.0</td>\n",
       "      <td>Thailand</td>\n",
       "      <td>กรุงเทพมหานคร</td>\n",
       "      <td>สัมผัสใกล้ชิดกับผู้ป่วยยืนยันรายก่อนหน้านี้</td>\n",
       "      <td>กรุงเทพมหานคร</td>\n",
       "      <td>young</td>\n",
       "      <td>female</td>\n",
       "      <td>central</td>\n",
       "    </tr>\n",
       "    <tr>\n",
       "      <th>839721</th>\n",
       "      <td>2021-12-08</td>\n",
       "      <td>ชาย</td>\n",
       "      <td>19.0</td>\n",
       "      <td>Thailand</td>\n",
       "      <td>กาญจนบุรี</td>\n",
       "      <td>ทัณฑสถาน/เรือนจำ</td>\n",
       "      <td>กาญจนบุรี</td>\n",
       "      <td>unknow</td>\n",
       "      <td>male</td>\n",
       "      <td>Western</td>\n",
       "    </tr>\n",
       "  </tbody>\n",
       "</table>\n",
       "<p>839771 rows × 10 columns</p>\n",
       "</div>"
      ],
      "text/plain": [
       "       Notified_date   sex   age nationality province_of_isolation  \\\n",
       "1736      2020-01-04   ชาย  41.0    Thailand         กรุงเทพมหานคร   \n",
       "1750      2020-01-04  หญิง  22.0    Thailand               นนทบุรี   \n",
       "1751      2020-01-04  หญิง  43.0    Thailand         กรุงเทพมหานคร   \n",
       "1752      2020-01-04  หญิง  38.0    Thailand                ชลบุรี   \n",
       "1767      2020-01-04  หญิง  25.0    Thailand         กรุงเทพมหานคร   \n",
       "...              ...   ...   ...         ...                   ...   \n",
       "837624    2021-12-08   ชาย  27.0    Thailand         กรุงเทพมหานคร   \n",
       "837625    2021-12-08   ชาย  20.0    Thailand         กรุงเทพมหานคร   \n",
       "837626    2021-12-08   ชาย  55.0    Thailand         กรุงเทพมหานคร   \n",
       "837503    2021-12-08  หญิง  25.0    Thailand         กรุงเทพมหานคร   \n",
       "839721    2021-12-08   ชาย  19.0    Thailand             กาญจนบุรี   \n",
       "\n",
       "                                                     risk province_of_onset  \\\n",
       "1736    อาชีพเสี่ยง เช่น ทำงานในสถานที่แออัด หรือทำงาน...     กรุงเทพมหานคร   \n",
       "1750                        คนไทยเดินทางกลับจากต่างประเทศ           นนทบุรี   \n",
       "1751                                           ระบุไม่ได้     กรุงเทพมหานคร   \n",
       "1752          สัมผัสใกล้ชิดกับผู้ป่วยยืนยันรายก่อนหน้านี้            ชลบุรี   \n",
       "1767                        สัมผัสผู้เดินทางจากต่างประเทศ     กรุงเทพมหานคร   \n",
       "...                                                   ...               ...   \n",
       "837624        สัมผัสใกล้ชิดกับผู้ป่วยยืนยันรายก่อนหน้านี้     กรุงเทพมหานคร   \n",
       "837625                               อยู่ระหว่างการสอบสวน     กรุงเทพมหานคร   \n",
       "837626                                              อื่นๆ     กรุงเทพมหานคร   \n",
       "837503        สัมผัสใกล้ชิดกับผู้ป่วยยืนยันรายก่อนหน้านี้     กรุงเทพมหานคร   \n",
       "839721                                   ทัณฑสถาน/เรือนจำ         กาญจนบุรี   \n",
       "\n",
       "       Agegroup  Gender     Zone  \n",
       "1736      young    male  central  \n",
       "1750      young  female  central  \n",
       "1751      young  female  central  \n",
       "1752      young  female  Eastern  \n",
       "1767      young  female  central  \n",
       "...         ...     ...      ...  \n",
       "837624    young    male  central  \n",
       "837625    young    male  central  \n",
       "837626    young    male  central  \n",
       "837503    young  female  central  \n",
       "839721   unknow    male  Western  \n",
       "\n",
       "[839771 rows x 10 columns]"
      ]
     },
     "execution_count": 133,
     "metadata": {},
     "output_type": "execute_result"
    }
   ],
   "source": [
    "df.loc[(df.province_of_onset == \"กรุงเทพมหานคร\"), 'Zone'] = 'central'\n",
    "df.loc[(df.province_of_onset == \"นครปฐม\"), 'Zone'] = 'central'\n",
    "df.loc[(df.province_of_onset == \"กำแพงเพชร \"), 'Zone'] = 'central'\n",
    "df.loc[(df.province_of_onset == \"ชัยนาท\"), 'Zone'] = 'central'\n",
    "df.loc[(df.province_of_onset == \"นครนายก\"), 'Zone'] = 'central'\n",
    "df.loc[(df.province_of_onset == \"นครสวรรค์\"), 'Zone'] = 'central'\n",
    "df.loc[(df.province_of_onset == \"นนทบุรี\"), 'Zone'] = 'central'\n",
    "df.loc[(df.province_of_onset == \"พระนครศรีอยุธยา\"), 'Zone'] = 'central'\n",
    "df.loc[(df.province_of_onset == \"พิจิตร\"), 'Zone'] = 'central'\n",
    "df.loc[(df.province_of_onset == \"พิษณุโลก\"), 'Zone'] = 'central'\n",
    "df.loc[(df.province_of_onset == \"เพชรบูรณ์\"), 'Zone'] = 'central'\n",
    "df.loc[(df.province_of_onset == \"ลพบุรี\"), 'Zone'] = 'central'\n",
    "df.loc[(df.province_of_onset == \"สมุทรปราการ\"), 'Zone'] = 'central'\n",
    "df.loc[(df.province_of_onset == \"สิงห์บุรี\"), 'Zone'] = 'central'\n",
    "df.loc[(df.province_of_onset == \"สุโขทัย\"), 'Zone'] = 'central'\n",
    "df.loc[(df.province_of_onset == \"อ่างทอง\"), 'Zone'] = 'central'\n",
    "df.loc[(df.province_of_onset == \"สมุทรสงคาม\"), 'Zone'] = 'central'\n",
    "df.loc[(df.province_of_onset == \"สมุทรสาคร\"), 'Zone'] = 'central'\n",
    "df.loc[(df.province_of_onset == \"สุพรรณบุรี\"), 'Zone'] = 'central'\n",
    "df.loc[(df.province_of_onset == \"อุทัยธานี\"), 'Zone'] = 'central'\n",
    "df.loc[(df.province_of_onset == \"สระบุรี\"), 'Zone'] = 'central'\n",
    "df.loc[(df.province_of_onset == \"ประทุมธานี\"), 'Zone'] = 'central'\n",
    "df.loc[(df.province_of_onset == \"เชียงใหม่\"), 'Zone'] = 'North'\n",
    "df.loc[(df.province_of_onset == \"เชียงราย\"), 'Zone'] = 'North'\n",
    "df.loc[(df.province_of_onset == \"แพร่\"), 'Zone'] = 'North'\n",
    "df.loc[(df.province_of_onset == \"พะเยา\"), 'Zone'] = 'North'\n",
    "df.loc[(df.province_of_onset == \"ลำปาง\"), 'Zone'] = 'North'\n",
    "df.loc[(df.province_of_onset == \"แม่ฮ่องสอน\"), 'Zone'] = 'North'\n",
    "df.loc[(df.province_of_onset == \"น่าน\"), 'Zone'] = 'North'\n",
    "df.loc[(df.province_of_onset == \"ลำพูน\"), 'Zone'] = 'North'\n",
    "df.loc[(df.province_of_onset == \"อุตรดิตถ์\"), 'Zone'] = 'North'\n",
    "df.loc[(df.province_of_onset == \"ขอนแก่น\"), 'Zone'] = 'Northeast'\n",
    "df.loc[(df.province_of_onset == \"กาฬสินธุ์\"), 'Zone'] = 'Northeast'\n",
    "df.loc[(df.province_of_onset == \"ชัยภูมิ\"), 'Zone'] = 'Northeast'\n",
    "df.loc[(df.province_of_onset == \"นครพนม\"), 'Zone'] = 'Northeast'\n",
    "df.loc[(df.province_of_onset == \"นครราชสีมา\"), 'Zone'] = 'Northeast'\n",
    "df.loc[(df.province_of_onset == \"บึงกาฬ\"), 'Zone'] = 'Northeast'\n",
    "df.loc[(df.province_of_onset == \"บุรีรัมย์\"), 'Zone'] = 'Northeast'\n",
    "df.loc[(df.province_of_onset == \"มหาสารคาม\"), 'Zone'] = 'Northeast'\n",
    "df.loc[(df.province_of_onset == \"มุกดาหาร\"), 'Zone'] = 'Northeast'\n",
    "df.loc[(df.province_of_onset == \"ยโสธร\"), 'Zone'] = 'Northeast'\n",
    "df.loc[(df.province_of_onset == \"ร้อยเอ็ด\"), 'Zone'] = 'Northeast'\n",
    "df.loc[(df.province_of_onset == \"เลย\"), 'Zone'] = 'Northeast'\n",
    "df.loc[(df.province_of_onset == \"สกลนคร\"), 'Zone'] = 'Northeast'\n",
    "df.loc[(df.province_of_onset == \"สุรินทร์\"), 'Zone'] = 'Northeast'\n",
    "df.loc[(df.province_of_onset == \"ศรีสะเกษ\"), 'Zone'] = 'Northeast'\n",
    "df.loc[(df.province_of_onset == \"หนองคาย\"), 'Zone'] = 'Northeast'\n",
    "df.loc[(df.province_of_onset == \"หนองบัวลำภู\"), 'Zone'] = 'Northeast'\n",
    "df.loc[(df.province_of_onset == \"อุดรธานี\"), 'Zone'] = 'Northeast'\n",
    "df.loc[(df.province_of_onset == \"อุบลราชธานี\"), 'Zone'] = 'Northeast'\n",
    "df.loc[(df.province_of_onset == \"อำนาจเจริญ\"), 'Zone'] = 'Northeast'\n",
    "df.loc[(df.province_of_onset == \"จันทรบุรี\"), 'Zone'] = 'Eastern'\n",
    "df.loc[(df.province_of_onset == \"ฉะเชิงเทรา\"), 'Zone'] = 'Eastern'\n",
    "df.loc[(df.province_of_onset == \"ชลบุรี\"), 'Zone'] = 'Eastern'\n",
    "df.loc[(df.province_of_onset == \"ตราด\"), 'Zone'] = 'Eastern'\n",
    "df.loc[(df.province_of_onset == \"ปราจีนบุรี\"), 'Zone'] = 'Eastern'\n",
    "df.loc[(df.province_of_onset == \"ระยอง\"), 'Zone'] = 'Eastern'\n",
    "df.loc[(df.province_of_onset == \"สระแก้ว\"), 'Zone'] = 'Eastern'\n",
    "df.loc[(df.province_of_onset == \"กาญจนบุรี\"), 'Zone'] = 'Western'\n",
    "df.loc[(df.province_of_onset == \"ตาก\"), 'Zone'] = 'Western'\n",
    "df.loc[(df.province_of_onset == \"ประจวบคีรีขันธ์\"), 'Zone'] = 'Western'\n",
    "df.loc[(df.province_of_onset == \"เพชรบุรี\"), 'Zone'] = 'Western'\n",
    "df.loc[(df.province_of_onset == \"ราชบุรี\"), 'Zone'] = 'Western'\n",
    "df.loc[(df.province_of_onset == \"กระบี่\"), 'Zone'] = 'South'\n",
    "df.loc[(df.province_of_onset == \"ชุมพร\"), 'Zone'] = 'South'\n",
    "df.loc[(df.province_of_onset == \"ตรัง\"), 'Zone'] = 'South'\n",
    "df.loc[(df.province_of_onset == \"นครศรีธรรมราช\"), 'Zone'] = 'South'\n",
    "df.loc[(df.province_of_onset == \"นราธิวาส\"), 'Zone'] = 'South'\n",
    "df.loc[(df.province_of_onset == \"ปัตตานี\"), 'Zone'] = 'South'\n",
    "df.loc[(df.province_of_onset == \"พังงา\"), 'Zone'] = 'South'\n",
    "df.loc[(df.province_of_onset == \"ภูเก็ต\"), 'Zone'] = 'South'\n",
    "df.loc[(df.province_of_onset == \"พัทลุง\"), 'Zone'] = 'South'\n",
    "df.loc[(df.province_of_onset == \"ระนอง\"), 'Zone'] = 'South'\n",
    "df.loc[(df.province_of_onset == \"สตูล\"), 'Zone'] = 'South'\n",
    "df.loc[(df.province_of_onset == \"ยะลา\"), 'Zone'] = 'South'\n",
    "df.loc[(df.province_of_onset == \"สงขลา\"), 'Zone'] = 'South'\n",
    "df.loc[(df.province_of_onset == \"สุราษฎร์ธานี\"), 'Zone'] = 'South'\n",
    "df"
   ]
  },
  {
   "cell_type": "code",
   "execution_count": 134,
   "id": "af9647bc",
   "metadata": {},
   "outputs": [
    {
     "data": {
      "text/plain": [
       "146633"
      ]
     },
     "execution_count": 134,
     "metadata": {},
     "output_type": "execute_result"
    }
   ],
   "source": [
    "df.Zone.isnull().sum()"
   ]
  },
  {
   "cell_type": "code",
   "execution_count": 135,
   "id": "3c937cc2",
   "metadata": {},
   "outputs": [
    {
     "data": {
      "text/html": [
       "<div>\n",
       "<style scoped>\n",
       "    .dataframe tbody tr th:only-of-type {\n",
       "        vertical-align: middle;\n",
       "    }\n",
       "\n",
       "    .dataframe tbody tr th {\n",
       "        vertical-align: top;\n",
       "    }\n",
       "\n",
       "    .dataframe thead tr th {\n",
       "        text-align: left;\n",
       "    }\n",
       "\n",
       "    .dataframe thead tr:last-of-type th {\n",
       "        text-align: right;\n",
       "    }\n",
       "</style>\n",
       "<table border=\"1\" class=\"dataframe\">\n",
       "  <thead>\n",
       "    <tr>\n",
       "      <th></th>\n",
       "      <th colspan=\"8\" halign=\"left\">age</th>\n",
       "    </tr>\n",
       "    <tr>\n",
       "      <th></th>\n",
       "      <th>count</th>\n",
       "      <th>mean</th>\n",
       "      <th>std</th>\n",
       "      <th>min</th>\n",
       "      <th>25%</th>\n",
       "      <th>50%</th>\n",
       "      <th>75%</th>\n",
       "      <th>max</th>\n",
       "    </tr>\n",
       "    <tr>\n",
       "      <th>Zone</th>\n",
       "      <th></th>\n",
       "      <th></th>\n",
       "      <th></th>\n",
       "      <th></th>\n",
       "      <th></th>\n",
       "      <th></th>\n",
       "      <th></th>\n",
       "      <th></th>\n",
       "    </tr>\n",
       "  </thead>\n",
       "  <tbody>\n",
       "    <tr>\n",
       "      <th>Eastern</th>\n",
       "      <td>83302.0</td>\n",
       "      <td>34.114643</td>\n",
       "      <td>15.504284</td>\n",
       "      <td>1.00</td>\n",
       "      <td>24.0</td>\n",
       "      <td>33.000000</td>\n",
       "      <td>43.0</td>\n",
       "      <td>114.0</td>\n",
       "    </tr>\n",
       "    <tr>\n",
       "      <th>North</th>\n",
       "      <td>14810.0</td>\n",
       "      <td>34.089290</td>\n",
       "      <td>15.504783</td>\n",
       "      <td>1.00</td>\n",
       "      <td>24.0</td>\n",
       "      <td>33.000000</td>\n",
       "      <td>43.0</td>\n",
       "      <td>95.0</td>\n",
       "    </tr>\n",
       "    <tr>\n",
       "      <th>Northeast</th>\n",
       "      <td>39789.0</td>\n",
       "      <td>34.659845</td>\n",
       "      <td>14.701730</td>\n",
       "      <td>1.00</td>\n",
       "      <td>25.0</td>\n",
       "      <td>35.700109</td>\n",
       "      <td>44.0</td>\n",
       "      <td>100.0</td>\n",
       "    </tr>\n",
       "    <tr>\n",
       "      <th>South</th>\n",
       "      <td>67487.0</td>\n",
       "      <td>33.785022</td>\n",
       "      <td>18.245240</td>\n",
       "      <td>0.75</td>\n",
       "      <td>21.0</td>\n",
       "      <td>34.000000</td>\n",
       "      <td>45.0</td>\n",
       "      <td>109.0</td>\n",
       "    </tr>\n",
       "    <tr>\n",
       "      <th>Western</th>\n",
       "      <td>38668.0</td>\n",
       "      <td>33.867584</td>\n",
       "      <td>15.849899</td>\n",
       "      <td>1.00</td>\n",
       "      <td>24.0</td>\n",
       "      <td>33.000000</td>\n",
       "      <td>42.0</td>\n",
       "      <td>108.0</td>\n",
       "    </tr>\n",
       "    <tr>\n",
       "      <th>central</th>\n",
       "      <td>449082.0</td>\n",
       "      <td>36.635358</td>\n",
       "      <td>16.148551</td>\n",
       "      <td>1.00</td>\n",
       "      <td>26.0</td>\n",
       "      <td>35.700109</td>\n",
       "      <td>46.0</td>\n",
       "      <td>440.0</td>\n",
       "    </tr>\n",
       "  </tbody>\n",
       "</table>\n",
       "</div>"
      ],
      "text/plain": [
       "                age                                                          \n",
       "              count       mean        std   min   25%        50%   75%    max\n",
       "Zone                                                                         \n",
       "Eastern     83302.0  34.114643  15.504284  1.00  24.0  33.000000  43.0  114.0\n",
       "North       14810.0  34.089290  15.504783  1.00  24.0  33.000000  43.0   95.0\n",
       "Northeast   39789.0  34.659845  14.701730  1.00  25.0  35.700109  44.0  100.0\n",
       "South       67487.0  33.785022  18.245240  0.75  21.0  34.000000  45.0  109.0\n",
       "Western     38668.0  33.867584  15.849899  1.00  24.0  33.000000  42.0  108.0\n",
       "central    449082.0  36.635358  16.148551  1.00  26.0  35.700109  46.0  440.0"
      ]
     },
     "execution_count": 135,
     "metadata": {},
     "output_type": "execute_result"
    }
   ],
   "source": [
    "df.groupby('Zone').describe()"
   ]
  },
  {
   "cell_type": "code",
   "execution_count": 136,
   "id": "40ce33b2",
   "metadata": {},
   "outputs": [
    {
     "data": {
      "text/plain": [
       "(6884, 10)"
      ]
     },
     "execution_count": 136,
     "metadata": {},
     "output_type": "execute_result"
    }
   ],
   "source": [
    "Y_2020 = df[df['Notified_date'] <='2020-12-31']        \n",
    "Y_2020.shape"
   ]
  },
  {
   "cell_type": "code",
   "execution_count": 137,
   "id": "5ccaf569",
   "metadata": {},
   "outputs": [
    {
     "data": {
      "text/plain": [
       "(928, 10)"
      ]
     },
     "execution_count": 137,
     "metadata": {},
     "output_type": "execute_result"
    }
   ],
   "source": [
    "Y_2020[Y_2020['Zone'] == 'Eastern'].shape"
   ]
  },
  {
   "cell_type": "code",
   "execution_count": 138,
   "id": "aa464b4f",
   "metadata": {},
   "outputs": [
    {
     "data": {
      "text/plain": [
       "(143, 10)"
      ]
     },
     "execution_count": 138,
     "metadata": {},
     "output_type": "execute_result"
    }
   ],
   "source": [
    "Y_2020[Y_2020['Zone'] == 'North'].shape"
   ]
  },
  {
   "cell_type": "code",
   "execution_count": 139,
   "id": "06c95c0a",
   "metadata": {},
   "outputs": [
    {
     "data": {
      "text/plain": [
       "(137, 10)"
      ]
     },
     "execution_count": 139,
     "metadata": {},
     "output_type": "execute_result"
    }
   ],
   "source": [
    "Y_2020[Y_2020['Zone'] == 'Northeast'].shape"
   ]
  },
  {
   "cell_type": "code",
   "execution_count": 140,
   "id": "d6637496",
   "metadata": {},
   "outputs": [
    {
     "data": {
      "text/plain": [
       "(767, 10)"
      ]
     },
     "execution_count": 140,
     "metadata": {},
     "output_type": "execute_result"
    }
   ],
   "source": [
    "Y_2020[Y_2020['Zone'] == 'South'].shape"
   ]
  },
  {
   "cell_type": "code",
   "execution_count": 141,
   "id": "aabb53b9",
   "metadata": {},
   "outputs": [
    {
     "data": {
      "text/plain": [
       "(108, 10)"
      ]
     },
     "execution_count": 141,
     "metadata": {},
     "output_type": "execute_result"
    }
   ],
   "source": [
    "Y_2020[Y_2020['Zone'] == 'Western'].shape"
   ]
  },
  {
   "cell_type": "code",
   "execution_count": 142,
   "id": "e6093840",
   "metadata": {},
   "outputs": [
    {
     "data": {
      "text/plain": [
       "(4357, 10)"
      ]
     },
     "execution_count": 142,
     "metadata": {},
     "output_type": "execute_result"
    }
   ],
   "source": [
    "Y_2020[Y_2020['Zone'] == 'central'].shape"
   ]
  },
  {
   "cell_type": "code",
   "execution_count": 144,
   "id": "bca372b5",
   "metadata": {},
   "outputs": [
    {
     "data": {
      "text/plain": [
       "(832887, 10)"
      ]
     },
     "execution_count": 144,
     "metadata": {},
     "output_type": "execute_result"
    }
   ],
   "source": [
    "Y_2021 = df[(df['Notified_date'] >= '2021-01-01') & (df['Notified_date'] <= '2021-12-31')]   \n",
    "Y_2021.shape"
   ]
  },
  {
   "cell_type": "code",
   "execution_count": 145,
   "id": "6b8584e5",
   "metadata": {},
   "outputs": [
    {
     "data": {
      "text/plain": [
       "(82374, 10)"
      ]
     },
     "execution_count": 145,
     "metadata": {},
     "output_type": "execute_result"
    }
   ],
   "source": [
    "Y_2021[Y_2021['Zone'] == 'Eastern'].shape"
   ]
  },
  {
   "cell_type": "code",
   "execution_count": 146,
   "id": "cdc7a2f5",
   "metadata": {},
   "outputs": [
    {
     "data": {
      "text/plain": [
       "(14667, 10)"
      ]
     },
     "execution_count": 146,
     "metadata": {},
     "output_type": "execute_result"
    }
   ],
   "source": [
    "Y_2021[Y_2021['Zone'] == 'North'].shape"
   ]
  },
  {
   "cell_type": "code",
   "execution_count": 147,
   "id": "68e46cf3",
   "metadata": {},
   "outputs": [
    {
     "data": {
      "text/plain": [
       "(39652, 10)"
      ]
     },
     "execution_count": 147,
     "metadata": {},
     "output_type": "execute_result"
    }
   ],
   "source": [
    "Y_2021[Y_2021['Zone'] == 'Northeast'].shape"
   ]
  },
  {
   "cell_type": "code",
   "execution_count": 148,
   "id": "2f5031a0",
   "metadata": {},
   "outputs": [
    {
     "data": {
      "text/plain": [
       "(66720, 10)"
      ]
     },
     "execution_count": 148,
     "metadata": {},
     "output_type": "execute_result"
    }
   ],
   "source": [
    "Y_2021[Y_2021['Zone'] == 'South'].shape"
   ]
  },
  {
   "cell_type": "code",
   "execution_count": 149,
   "id": "7f6038ac",
   "metadata": {},
   "outputs": [
    {
     "data": {
      "text/plain": [
       "(38560, 10)"
      ]
     },
     "execution_count": 149,
     "metadata": {},
     "output_type": "execute_result"
    }
   ],
   "source": [
    "Y_2021[Y_2021['Zone'] == 'Western'].shape"
   ]
  },
  {
   "cell_type": "code",
   "execution_count": 150,
   "id": "447b65ba",
   "metadata": {},
   "outputs": [
    {
     "data": {
      "text/plain": [
       "(444725, 10)"
      ]
     },
     "execution_count": 150,
     "metadata": {},
     "output_type": "execute_result"
    }
   ],
   "source": [
    "Y_2021[Y_2021['Zone'] == 'central'].shape"
   ]
  },
  {
   "cell_type": "code",
   "execution_count": 151,
   "id": "f2b3b661",
   "metadata": {},
   "outputs": [
    {
     "data": {
      "image/png": "[encoded data removed]",
      "text/plain": [
       "<Figure size 1440x720 with 1 Axes>"
      ]
     },
     "metadata": {
      "needs_background": "light"
     },
     "output_type": "display_data"
    }
   ],
   "source": [
    "Gender = {\"Eastern\" : [928,82374],\n",
    "         \"North\" : [143,14667],\n",
    "         \"Northeast\" : [137,39652],\n",
    "          \"South\" : [767,66720],\n",
    "          \"Western\" : [108,38560],\n",
    "          \"central\" : [4357,444725]\n",
    "         }\n",
    "my_index = [\"2020\",\"2021\"]\n",
    "d = pd.DataFrame(Gender, index = my_index)\n",
    "\n",
    "d.plot(kind = \"bar\",figsize = (20,10), rot =45, xlabel = \"year\", ylabel = \"Quantity\",\n",
    "title = \"Total of people infected with Covid-19 by zone in 2020\");"
   ]
  },
  {
   "cell_type": "code",
   "execution_count": null,
   "id": "1eac6e11",
   "metadata": {},
   "outputs": [],
   "source": []
  }
 ],
 "metadata": {
  "kernelspec": {
   "display_name": "Python 3 (ipykernel)",
   "language": "python",
   "name": "python3"
  },
  "language_info": {
   "codemirror_mode": {
    "name": "ipython",
    "version": 3
   },
   "file_extension": ".py",
   "mimetype": "text/x-python",
   "name": "python",
   "nbconvert_exporter": "python",
   "pygments_lexer": "ipython3",
   "version": "3.9.7"
  }
 },
 "nbformat": 4,
 "nbformat_minor": 5
}
